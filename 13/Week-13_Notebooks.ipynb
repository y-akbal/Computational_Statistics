{
 "cells": [
  {
   "cell_type": "code",
   "execution_count": 1,
   "id": "ea8e8513",
   "metadata": {},
   "outputs": [],
   "source": [
    "import numpy as np"
   ]
  },
  {
   "cell_type": "code",
   "execution_count": 4,
   "id": "1f810414",
   "metadata": {},
   "outputs": [],
   "source": [
    "T = np.array([[0.6, 0.3, 0.1],[0.5, 0.3, 0.2],[0.2, 0.1, 0.7]])"
   ]
  },
  {
   "cell_type": "code",
   "execution_count": 9,
   "id": "086f9700",
   "metadata": {},
   "outputs": [
    {
     "data": {
      "text/plain": [
       "array([[0.53, 0.28, 0.19],\n",
       "       [0.49, 0.26, 0.25],\n",
       "       [0.31, 0.16, 0.53]])"
      ]
     },
     "execution_count": 9,
     "metadata": {},
     "output_type": "execute_result"
    }
   ],
   "source": [
    "T @ T"
   ]
  },
  {
   "cell_type": "code",
   "execution_count": 18,
   "id": "cba3de99",
   "metadata": {},
   "outputs": [
    {
     "data": {
      "text/plain": [
       "array([[0.45238095, 0.23809524, 0.30952381],\n",
       "       [0.45238095, 0.23809524, 0.30952381],\n",
       "       [0.45238095, 0.23809524, 0.30952381]])"
      ]
     },
     "execution_count": 18,
     "metadata": {},
     "output_type": "execute_result"
    }
   ],
   "source": [
    "np.linalg.matrix_power(T, 2000) ## This is called stationary distribution!!!!"
   ]
  },
  {
   "cell_type": "code",
   "execution_count": 67,
   "id": "445338e8",
   "metadata": {},
   "outputs": [],
   "source": [
    "States = [\"Rainy\", \"Cloudy\", \"Sunny\"]\n",
    "states_enumerated = {i:j for i,j in enumerate(States)}\n",
    "states = [i for i in range(3)]"
   ]
  },
  {
   "cell_type": "code",
   "execution_count": 68,
   "id": "7b4a450b",
   "metadata": {},
   "outputs": [],
   "source": [
    "def sample(current_state, states = states, trainsition_probs = T):\n",
    "    return np.random.choice(states, p = T[current_state, :]    "
   ]
  },
  {
   "cell_type": "code",
   "execution_count": 88,
   "id": "07436f01",
   "metadata": {},
   "outputs": [],
   "source": [
    "def generate_chain(initial_state = 0, length = 100,states = states, transition_probs = T):\n",
    "    chain = [initial_state]\n",
    "    for i in range(length):\n",
    "        next_state = sample(chain[-1], states, transition_probs)\n",
    "        chain.append(next_state)\n",
    "    return chain        "
   ]
  },
  {
   "cell_type": "code",
   "execution_count": 95,
   "id": "f7cf00bc",
   "metadata": {},
   "outputs": [],
   "source": [
    "chain = generate_chain()"
   ]
  },
  {
   "cell_type": "code",
   "execution_count": 111,
   "id": "c8a6c6b5",
   "metadata": {},
   "outputs": [
    {
     "data": {
      "text/plain": [
       "array([0.451 , 0.2412, 0.3079])"
      ]
     },
     "execution_count": 111,
     "metadata": {},
     "output_type": "execute_result"
    }
   ],
   "source": [
    "length = 10000\n",
    "np.bincount(generate_chain(length = length))/length"
   ]
  }
 ],
 "metadata": {
  "kernelspec": {
   "display_name": "Python 3 (ipykernel)",
   "language": "python",
   "name": "python3"
  },
  "language_info": {
   "codemirror_mode": {
    "name": "ipython",
    "version": 3
   },
   "file_extension": ".py",
   "mimetype": "text/x-python",
   "name": "python",
   "nbconvert_exporter": "python",
   "pygments_lexer": "ipython3",
   "version": "3.10.12"
  }
 },
 "nbformat": 4,
 "nbformat_minor": 5
}
