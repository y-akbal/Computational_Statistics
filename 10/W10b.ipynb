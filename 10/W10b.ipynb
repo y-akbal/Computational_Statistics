{
  "cells": [
    {
      "cell_type": "code",
      "execution_count": 61,
      "id": "e0b13304",
      "metadata": {
        "id": "e0b13304"
      },
      "outputs": [],
      "source": [
        "import matplotlib.pyplot as plt\n",
        "import numpy as np\n",
        "import scipy\n",
        "from scipy import stats"
      ]
    },
    {
      "cell_type": "markdown",
      "id": "42bd7f17",
      "metadata": {
        "id": "42bd7f17"
      },
      "source": [
        "[![Open in Colab](https://colab.research.google.com/assets/colab-badge.svg)](https://colab.research.google.com/github/y-akbal/Tedu_Computational_Statistics/blob/main/10/W10b.ipynb)"
      ]
    },
    {
      "cell_type": "markdown",
      "id": "6e36dee3",
      "metadata": {
        "id": "6e36dee3"
      },
      "source": [
        "## Bootstrap estimation of standard error\n",
        "## Bootstrap Example (LSAT vs GPA)\n"
      ]
    },
    {
      "cell_type": "code",
      "execution_count": 62,
      "id": "2fbcd2ba",
      "metadata": {
        "id": "2fbcd2ba"
      },
      "outputs": [],
      "source": [
        "LSAT = np.array([576, 635, 558, 578, 666, 580, 555, 661, 651, 605, 653, 575, 545, 572, 594])\n",
        "GPA = np.array([339, 330, 281, 303, 344, 307, 300, 343, 336, 313, 312, 274, 276, 288, 296])\n",
        "# 1) Find correlation\n",
        "# 2) Do bootstrap replicated and find standard error\n",
        "# 3) plot histogram of bootstrap correlations"
      ]
    },
    {
      "cell_type": "code",
      "source": [
        "np.corrcoef(LSAT, GPA)[0,1]\n"
      ],
      "metadata": {
        "id": "wuzEd9QMTc-e",
        "outputId": "d65b6a8b-0054-4901-8432-1ea784889659",
        "colab": {
          "base_uri": "https://localhost:8080/"
        }
      },
      "id": "wuzEd9QMTc-e",
      "execution_count": 68,
      "outputs": [
        {
          "output_type": "execute_result",
          "data": {
            "text/plain": [
              "0.7763744912894072"
            ]
          },
          "metadata": {},
          "execution_count": 68
        }
      ]
    },
    {
      "cell_type": "code",
      "source": [
        "def bootstrap(x = LSAT, y = GPA, n_replicate = 1000):\n",
        "  assert len(x) == len(y)\n",
        "  N = len(x)\n",
        "  coeff_array = n_replicate*[0]\n",
        "  for i in range(n_replicate):\n",
        "    indexes = np.random.choice(range(N), size = N, replace = True)\n",
        "    coeff_array[i] = np.corrcoef(x[indexes],y[indexes])[0, 1]\n",
        "  return np.array(coeff_array)"
      ],
      "metadata": {
        "id": "ly1XvVKfRyPf"
      },
      "id": "ly1XvVKfRyPf",
      "execution_count": 70,
      "outputs": []
    },
    {
      "cell_type": "markdown",
      "id": "ZAYxgH7lcCkY",
      "metadata": {
        "id": "ZAYxgH7lcCkY"
      },
      "source": [
        "# What is the boostrap estimation of standard error?"
      ]
    },
    {
      "cell_type": "code",
      "source": [
        "bootstrap(n_replicate = 1000).std(ddof = 1)"
      ],
      "metadata": {
        "id": "cxIrYvzFS61o",
        "outputId": "afd58e63-ecc4-4033-9f69-38bb5a7c1930",
        "colab": {
          "base_uri": "https://localhost:8080/"
        }
      },
      "id": "cxIrYvzFS61o",
      "execution_count": 75,
      "outputs": [
        {
          "output_type": "execute_result",
          "data": {
            "text/plain": [
              "0.1382507017582825"
            ]
          },
          "metadata": {},
          "execution_count": 75
        }
      ]
    },
    {
      "cell_type": "markdown",
      "id": "dbAliRlqd3kY",
      "metadata": {
        "id": "dbAliRlqd3kY"
      },
      "source": [
        "# Sketch histogram of distribution of bootstrap replicates\n"
      ]
    },
    {
      "cell_type": "code",
      "source": [
        "plt.hist(bootstrap(), bins = 100);"
      ],
      "metadata": {
        "id": "HJHDJmAIS4ii",
        "outputId": "6c6ab153-e4ff-49f7-8de3-beb0d94b1d13",
        "colab": {
          "base_uri": "https://localhost:8080/",
          "height": 430
        }
      },
      "id": "HJHDJmAIS4ii",
      "execution_count": 77,
      "outputs": [
        {
          "output_type": "display_data",
          "data": {
            "text/plain": [
              "<Figure size 640x480 with 1 Axes>"
            ],
            "image/png": "[encoded data removed]"
          },
          "metadata": {}
        }
      ]
    },
    {
      "cell_type": "markdown",
      "id": "4b249170",
      "metadata": {
        "id": "4b249170"
      },
      "source": [
        "## Bootstrap estimation of bias\n"
      ]
    },
    {
      "cell_type": "code",
      "source": [
        "Q = [(bootstrap(n_replicate = 200)-np.corrcoef(LSAT, GPA)[0,1]).mean() for _ in range(1000)]"
      ],
      "metadata": {
        "id": "ltry0j_XTsvB"
      },
      "id": "ltry0j_XTsvB",
      "execution_count": 88,
      "outputs": []
    },
    {
      "cell_type": "code",
      "source": [
        "plt.hist(Q, bins = 100);"
      ],
      "metadata": {
        "id": "JqIBCVQ74xlL",
        "outputId": "ed14c875-95b4-4a9b-ae24-73bfa334e7fc",
        "colab": {
          "base_uri": "https://localhost:8080/",
          "height": 430
        }
      },
      "id": "JqIBCVQ74xlL",
      "execution_count": 89,
      "outputs": [
        {
          "output_type": "display_data",
          "data": {
            "text/plain": [
              "<Figure size 640x480 with 1 Axes>"
            ],
            "image/png": "[encoded data removed]"
          },
          "metadata": {}
        }
      ]
    },
    {
      "cell_type": "code",
      "source": [
        "(bootstrap(n_replicate = 200)-np.corrcoef(LSAT, GPA)[0,1]).mean()"
      ],
      "metadata": {
        "id": "09kgRHJo4QX2",
        "outputId": "13ccdbfa-b009-4124-981a-1d9974b18cae",
        "colab": {
          "base_uri": "https://localhost:8080/"
        }
      },
      "id": "09kgRHJo4QX2",
      "execution_count": 94,
      "outputs": [
        {
          "output_type": "execute_result",
          "data": {
            "text/plain": [
              "-0.0025213755252852703"
            ]
          },
          "metadata": {},
          "execution_count": 94
        }
      ]
    },
    {
      "cell_type": "code",
      "source": [
        "[j for j in range(10) if j != 5]"
      ],
      "metadata": {
        "id": "xulZ59qP4w9Y",
        "outputId": "1cf04b03-9171-4fbe-9819-7174b96fe283",
        "colab": {
          "base_uri": "https://localhost:8080/"
        }
      },
      "id": "xulZ59qP4w9Y",
      "execution_count": 97,
      "outputs": [
        {
          "output_type": "execute_result",
          "data": {
            "text/plain": [
              "[0, 1, 2, 3, 4, 6, 7, 8, 9]"
            ]
          },
          "metadata": {},
          "execution_count": 97
        }
      ]
    },
    {
      "cell_type": "markdown",
      "id": "ee288e48",
      "metadata": {
        "id": "ee288e48"
      },
      "source": [
        "## How to create Jackknife Blocks?\n"
      ]
    },
    {
      "cell_type": "code",
      "source": [
        "def jackknife(x = LSAT, y = GPA):\n",
        "  assert len(x) == len(y)\n",
        "  N = len(x)\n",
        "  corr_array = []\n",
        "  for i in range(N):\n",
        "    blocks = [j for j in range(N) if j != i]\n",
        "    corr_array.append(np.corrcoef(x[blocks], y[blocks])[0,1])\n",
        "  return np.array(corr_array)"
      ],
      "metadata": {
        "id": "dS7GW2wlUqGv"
      },
      "id": "dS7GW2wlUqGv",
      "execution_count": 98,
      "outputs": []
    },
    {
      "cell_type": "code",
      "source": [
        "jackknife().std()"
      ],
      "metadata": {
        "id": "l7J6aELGV-sr",
        "outputId": "5d0d1343-cc24-4a10-ff11-15645ed6f337",
        "colab": {
          "base_uri": "https://localhost:8080/"
        }
      },
      "id": "l7J6aELGV-sr",
      "execution_count": 100,
      "outputs": [
        {
          "output_type": "execute_result",
          "data": {
            "text/plain": [
              "0.03808970300328646"
            ]
          },
          "metadata": {},
          "execution_count": 100
        }
      ]
    },
    {
      "cell_type": "markdown",
      "id": "VN7zSo7spJcw",
      "metadata": {
        "id": "VN7zSo7spJcw"
      },
      "source": [
        "## Let's compute Jackknife bias in the above example\n",
        "\n",
        "*   List item\n",
        "*   List item\n",
        "\n"
      ]
    },
    {
      "cell_type": "code",
      "source": [
        "N = len(LSAT)\n",
        "(N-1)*(jackknife()-np.corrcoef(LSAT, GPA)[0,1]).mean()"
      ],
      "metadata": {
        "id": "s9hvIpdZWXpC",
        "outputId": "44465262-fb6c-43fe-c180-cbadbe58126f",
        "colab": {
          "base_uri": "https://localhost:8080/"
        }
      },
      "id": "s9hvIpdZWXpC",
      "execution_count": 103,
      "outputs": [
        {
          "output_type": "execute_result",
          "data": {
            "text/plain": [
              "-0.00647362304592464"
            ]
          },
          "metadata": {},
          "execution_count": 103
        }
      ]
    },
    {
      "cell_type": "markdown",
      "source": [
        "## Let's compute Jackknife standard error\n"
      ],
      "metadata": {
        "id": "24AiGewQWm4c"
      },
      "id": "24AiGewQWm4c"
    },
    {
      "cell_type": "code",
      "source": [
        "((N-1)**0.5)*jackknife().std(ddof = 0)"
      ],
      "metadata": {
        "id": "cyVIsEnnWkAh",
        "outputId": "10a3ceb2-c4ac-4a44-9b88-ae531f0682e2",
        "colab": {
          "base_uri": "https://localhost:8080/"
        }
      },
      "id": "cyVIsEnnWkAh",
      "execution_count": 101,
      "outputs": [
        {
          "output_type": "execute_result",
          "data": {
            "text/plain": [
              "0.14251861860227236"
            ]
          },
          "metadata": {},
          "execution_count": 101
        }
      ]
    }
  ],
  "metadata": {
    "colab": {
      "provenance": []
    },
    "kernelspec": {
      "display_name": "Python 3 (ipykernel)",
      "language": "python",
      "name": "python3"
    },
    "language_info": {
      "codemirror_mode": {
        "name": "ipython",
        "version": 3
      },
      "file_extension": ".py",
      "mimetype": "text/x-python",
      "name": "python",
      "nbconvert_exporter": "python",
      "pygments_lexer": "ipython3",
      "version": "3.9.12"
    }
  },
  "nbformat": 4,
  "nbformat_minor": 5
}