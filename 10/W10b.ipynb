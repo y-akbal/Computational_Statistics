{
  "cells": [
    {
      "cell_type": "code",
      "execution_count": 2,
      "id": "e0b13304",
      "metadata": {
        "id": "e0b13304"
      },
      "outputs": [],
      "source": [
        "import matplotlib.pyplot as plt\n",
        "import numpy as np\n",
        "import scipy\n",
        "from scipy import stats"
      ]
    },
    {
      "cell_type": "markdown",
      "id": "42bd7f17",
      "metadata": {
        "id": "42bd7f17"
      },
      "source": [
        "[![Open in Colab](https://colab.research.google.com/assets/colab-badge.svg)](https://colab.research.google.com/github/y-akbal/Tedu_Computational_Statistics/blob/main/10/W10b.ipynb)"
      ]
    },
    {
      "cell_type": "markdown",
      "id": "6e36dee3",
      "metadata": {
        "id": "6e36dee3"
      },
      "source": [
        "## Bootstrap estimation of standard error\n",
        "## Bootstrap Example (LSAT vs GPA)\n"
      ]
    },
    {
      "cell_type": "code",
      "execution_count": 3,
      "id": "2fbcd2ba",
      "metadata": {
        "id": "2fbcd2ba"
      },
      "outputs": [],
      "source": [
        "LSAT = np.array([576, 635, 558, 578, 666, 580, 555, 661, 651, 605, 653, 575, 545, 572, 594])\n",
        "GPA = np.array([339, 330, 281, 303, 344, 307, 300, 343, 336, 313, 312, 274, 276, 288, 296])\n",
        "# 1) Find correlation\n",
        "# 2) Do bootstrap replicated and find standard error\n",
        "# 3) plot histogram of bootstrap correlations"
      ]
    },
    {
      "cell_type": "code",
      "source": [
        "np.corrcoef(LSAT, GPA)[0,1]"
      ],
      "metadata": {
        "id": "wuzEd9QMTc-e",
        "outputId": "4a398476-60d5-400e-ce36-e4db1a8553f0",
        "colab": {
          "base_uri": "https://localhost:8080/"
        }
      },
      "id": "wuzEd9QMTc-e",
      "execution_count": 16,
      "outputs": [
        {
          "output_type": "execute_result",
          "data": {
            "text/plain": [
              "0.7763744912894072"
            ]
          },
          "metadata": {},
          "execution_count": 16
        }
      ]
    },
    {
      "cell_type": "code",
      "source": [
        "def bootstrap(x = LSAT, y = GPA, n_replicate = 1000):\n",
        "  assert len(x) == len(y)\n",
        "  N = len(x)\n",
        "  coeff_array = 1000*[0]\n",
        "  for i in range(1000):\n",
        "    indexes = np.random.choice(range(N), size = N, replace = True)\n",
        "    coeff_array[i] = np.corrcoef(x[indexes],y[indexes])[0, 1]\n",
        "  return np.array(coeff_array)"
      ],
      "metadata": {
        "id": "ly1XvVKfRyPf"
      },
      "id": "ly1XvVKfRyPf",
      "execution_count": 12,
      "outputs": []
    },
    {
      "cell_type": "markdown",
      "id": "ZAYxgH7lcCkY",
      "metadata": {
        "id": "ZAYxgH7lcCkY"
      },
      "source": [
        "# What is the boostrap estimation of standard error?"
      ]
    },
    {
      "cell_type": "code",
      "source": [
        "bootstrap(n_replicate = 1000).std(ddof = 0)"
      ],
      "metadata": {
        "id": "cxIrYvzFS61o",
        "outputId": "96933712-b930-487a-9419-6b93a5799212",
        "colab": {
          "base_uri": "https://localhost:8080/"
        }
      },
      "id": "cxIrYvzFS61o",
      "execution_count": 20,
      "outputs": [
        {
          "output_type": "execute_result",
          "data": {
            "text/plain": [
              "0.1364489890166255"
            ]
          },
          "metadata": {},
          "execution_count": 20
        }
      ]
    },
    {
      "cell_type": "markdown",
      "id": "dbAliRlqd3kY",
      "metadata": {
        "id": "dbAliRlqd3kY"
      },
      "source": [
        "# Sketch histogram of distribution of bootstrap replicates\n"
      ]
    },
    {
      "cell_type": "code",
      "source": [
        "plt.hist(bootstrap(), bins = 100);"
      ],
      "metadata": {
        "id": "HJHDJmAIS4ii",
        "outputId": "ed3bd9b9-38a0-4c75-8f31-5de0af60b66f",
        "colab": {
          "base_uri": "https://localhost:8080/",
          "height": 430
        }
      },
      "id": "HJHDJmAIS4ii",
      "execution_count": 13,
      "outputs": [
        {
          "output_type": "display_data",
          "data": {
            "text/plain": [
              "<Figure size 640x480 with 1 Axes>"
            ],
            "image/png": "[encoded data removed]"
          },
          "metadata": {}
        }
      ]
    },
    {
      "cell_type": "markdown",
      "id": "4b249170",
      "metadata": {
        "id": "4b249170"
      },
      "source": [
        "## Bootstrap estimation of bias\n"
      ]
    },
    {
      "cell_type": "code",
      "source": [
        "(bootstrap(n_replicate = 2000)-np.corrcoef(LSAT, GPA)[0,1]).mean()"
      ],
      "metadata": {
        "id": "ltry0j_XTsvB",
        "outputId": "adc713dd-a000-4010-d5d5-87786da3649e",
        "colab": {
          "base_uri": "https://localhost:8080/"
        }
      },
      "id": "ltry0j_XTsvB",
      "execution_count": 44,
      "outputs": [
        {
          "output_type": "execute_result",
          "data": {
            "text/plain": [
              "-0.0032564282965042864"
            ]
          },
          "metadata": {},
          "execution_count": 44
        }
      ]
    },
    {
      "cell_type": "markdown",
      "id": "ee288e48",
      "metadata": {
        "id": "ee288e48"
      },
      "source": [
        "## How to create Jackknife Blocks?\n"
      ]
    },
    {
      "cell_type": "code",
      "source": [
        "def jackknife(x = LSAT, y = GPA):\n",
        "  assert len(x) == len(y)\n",
        "  N = len(x)\n",
        "  corr_array = N*[0]\n",
        "  for i in range(N):\n",
        "    blocks = [j for j in range(N) if j != i]\n",
        "    corr_array[i] = np.corrcoef(x[blocks], y[blocks])[0,1]\n",
        "  return np.array(corr_array)"
      ],
      "metadata": {
        "id": "dS7GW2wlUqGv"
      },
      "id": "dS7GW2wlUqGv",
      "execution_count": 52,
      "outputs": []
    },
    {
      "cell_type": "code",
      "source": [
        "jackknife()"
      ],
      "metadata": {
        "id": "l7J6aELGV-sr",
        "outputId": "f0f360fd-9c13-4da8-f7c6-3a15d71eab3f",
        "colab": {
          "base_uri": "https://localhost:8080/"
        }
      },
      "id": "l7J6aELGV-sr",
      "execution_count": 53,
      "outputs": [
        {
          "output_type": "execute_result",
          "data": {
            "text/plain": [
              "array([0.89294715, 0.76370684, 0.75499837, 0.77609677, 0.73131967,\n",
              "       0.77996867, 0.78453598, 0.73616183, 0.75173908, 0.7761231 ,\n",
              "       0.81810071, 0.78571844, 0.74035089, 0.76704134, 0.77987252])"
            ]
          },
          "metadata": {},
          "execution_count": 53
        }
      ]
    },
    {
      "cell_type": "markdown",
      "id": "VN7zSo7spJcw",
      "metadata": {
        "id": "VN7zSo7spJcw"
      },
      "source": [
        "## Let's compute Jackknife bias in the above example\n",
        "\n",
        "*   List item\n",
        "*   List item\n",
        "\n"
      ]
    },
    {
      "cell_type": "code",
      "source": [
        "N = len(LSAT)\n",
        "(N-1)*(jackknife()-np.corrcoef(LSAT, GPA)[0,1]).mean()"
      ],
      "metadata": {
        "id": "s9hvIpdZWXpC",
        "outputId": "9da8de25-a9db-4614-81ed-99d99568b3d7",
        "colab": {
          "base_uri": "https://localhost:8080/"
        }
      },
      "id": "s9hvIpdZWXpC",
      "execution_count": 59,
      "outputs": [
        {
          "output_type": "execute_result",
          "data": {
            "text/plain": [
              "-0.00647362304592464"
            ]
          },
          "metadata": {},
          "execution_count": 59
        }
      ]
    },
    {
      "cell_type": "markdown",
      "source": [
        "## Let's compute Jackknife standard error\n"
      ],
      "metadata": {
        "id": "24AiGewQWm4c"
      },
      "id": "24AiGewQWm4c"
    },
    {
      "cell_type": "code",
      "source": [
        "((N-1)**0.5)*jackknife().std(ddof = 0)"
      ],
      "metadata": {
        "id": "cyVIsEnnWkAh",
        "outputId": "d253303b-fea6-4c04-9699-66941f56ba16",
        "colab": {
          "base_uri": "https://localhost:8080/"
        }
      },
      "id": "cyVIsEnnWkAh",
      "execution_count": 57,
      "outputs": [
        {
          "output_type": "execute_result",
          "data": {
            "text/plain": [
              "0.14251861860227236"
            ]
          },
          "metadata": {},
          "execution_count": 57
        }
      ]
    }
  ],
  "metadata": {
    "colab": {
      "provenance": []
    },
    "kernelspec": {
      "display_name": "Python 3 (ipykernel)",
      "language": "python",
      "name": "python3"
    },
    "language_info": {
      "codemirror_mode": {
        "name": "ipython",
        "version": 3
      },
      "file_extension": ".py",
      "mimetype": "text/x-python",
      "name": "python",
      "nbconvert_exporter": "python",
      "pygments_lexer": "ipython3",
      "version": "3.9.12"
    }
  },
  "nbformat": 4,
  "nbformat_minor": 5
}