{
 "cells": [
  {
   "cell_type": "code",
   "execution_count": 6,
   "id": "7abfe32e",
   "metadata": {},
   "outputs": [],
   "source": [
    "import numpy as np\n",
    "import scipy \n",
    "from scipy import stats\n"
   ]
  },
  {
   "cell_type": "code",
   "execution_count": 12,
   "id": "bb0c537e",
   "metadata": {},
   "outputs": [],
   "source": [
    "def two_sided_confidence_mean(sample:np.ndarray, confidence:float = 0.95):\n",
    "    n = len(sample)## sample_size\n",
    "    α_2 = (1- confidence)/2\n",
    "    z_α_2 = stats.norm.isf(α_2)\n",
    "    sample_mean = sample.mean()\n",
    "    sample_std = sample.std(ddof = 1)\n",
    "    return sample_mean - z_α_2*sample_std/n**.5,sample_mean + z_α_2*sample_std/n**.5\n",
    "    "
   ]
  },
  {
   "cell_type": "code",
   "execution_count": 11,
   "id": "5db17002",
   "metadata": {},
   "outputs": [
    {
     "data": {
      "text/plain": [
       "(-0.0006428269558859307, 0.00059712033514761)"
      ]
     },
     "execution_count": 11,
     "metadata": {},
     "output_type": "execute_result"
    }
   ],
   "source": [
    "two_sided_confidence(np.random.randn(10000000), confidence =0.95)"
   ]
  },
  {
   "cell_type": "code",
   "execution_count": 27,
   "id": "fd9582db",
   "metadata": {},
   "outputs": [],
   "source": [
    "def two_sided_confidence_var(sample_std:float, sample_size:int, confidence:float = 0.99):\n",
    "    α_2 = (1- confidence)/2\n",
    "    χ_α_2 = stats.chi2.isf(α_2, sample_size)\n",
    "    χ_1_α_2 = stats.chi2.isf(1-α_2, sample_size)\n",
    "    return (sample_size -1 )*sample_std**2/χ_α_2,  (sample_size -1)*sample_std**2/χ_1_α_2     "
   ]
  },
  {
   "cell_type": "code",
   "execution_count": 30,
   "id": "b15b9c9e",
   "metadata": {},
   "outputs": [],
   "source": [
    "a,b = two_sided_confidence_var(0.012, 15, confidence = 0.50)"
   ]
  }
 ],
 "metadata": {
  "kernelspec": {
   "display_name": "Python 3 (ipykernel)",
   "language": "python",
   "name": "python3"
  },
  "language_info": {
   "codemirror_mode": {
    "name": "ipython",
    "version": 3
   },
   "file_extension": ".py",
   "mimetype": "text/x-python",
   "name": "python",
   "nbconvert_exporter": "python",
   "pygments_lexer": "ipython3",
   "version": "3.10.12"
  }
 },
 "nbformat": 4,
 "nbformat_minor": 5
}
