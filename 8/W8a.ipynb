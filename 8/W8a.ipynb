{
  "cells": [
    {
      "cell_type": "markdown",
      "id": "e94be759",
      "metadata": {
        "id": "e94be759"
      },
      "source": [
        "[![Open in Colab](https://colab.research.google.com/assets/colab-badge.svg)](https://colab.research.google.com/github/y-akbal/Tedu_Computational_Statistics/blob/main/8/W8a.ipynb)"
      ]
    },
    {
      "cell_type": "code",
      "execution_count": 1,
      "id": "e0b13304",
      "metadata": {
        "id": "e0b13304"
      },
      "outputs": [],
      "source": [
        "import matplotlib.pyplot as plt\n",
        "import numpy as np\n",
        "import scipy\n",
        "from scipy import stats"
      ]
    },
    {
      "cell_type": "markdown",
      "id": "f43b56f1",
      "metadata": {
        "id": "f43b56f1"
      },
      "source": [
        "# MSE estimation of Trimmed Mean"
      ]
    },
    {
      "cell_type": "code",
      "execution_count": 26,
      "id": "901a77d3",
      "metadata": {
        "id": "901a77d3"
      },
      "outputs": [],
      "source": [
        "def trimmed_mean(array:np.ndarray, trim = 1) -> tuple:\n",
        "    array.sort()\n",
        "    trimmed_array = array[trim:-trim]\n",
        "    return trimmed_array.mean(), trimmed_array.std(ddof = 1)"
      ]
    },
    {
      "cell_type": "code",
      "source": [
        "x = np.random.randn(1000)"
      ],
      "metadata": {
        "id": "fLEAXLdJnF9Y"
      },
      "id": "fLEAXLdJnF9Y",
      "execution_count": 23,
      "outputs": []
    },
    {
      "cell_type": "code",
      "source": [
        "print(x.mean(), x.std(ddof = 1))"
      ],
      "metadata": {
        "id": "Lc2JeupKnHl_",
        "outputId": "f83d6a82-3f90-44b3-87c5-8b73122756c5",
        "colab": {
          "base_uri": "https://localhost:8080/"
        }
      },
      "id": "Lc2JeupKnHl_",
      "execution_count": 24,
      "outputs": [
        {
          "output_type": "stream",
          "name": "stdout",
          "text": [
            "-0.045185325161720497 0.9959070460893273\n"
          ]
        }
      ]
    },
    {
      "cell_type": "code",
      "source": [
        "trimmed_mean(x, 100)"
      ],
      "metadata": {
        "id": "4KwoY1OAneE8",
        "outputId": "0ca77699-76be-4bce-e8fb-f0476707cb6a",
        "colab": {
          "base_uri": "https://localhost:8080/"
        }
      },
      "id": "4KwoY1OAneE8",
      "execution_count": 30,
      "outputs": [
        {
          "output_type": "execute_result",
          "data": {
            "text/plain": [
              "(-0.05502150614917458, 0.6828077540343526)"
            ]
          },
          "metadata": {},
          "execution_count": 30
        }
      ]
    },
    {
      "cell_type": "code",
      "source": [
        "np.sum((x-0)**2)/999"
      ],
      "metadata": {
        "id": "EhAbFn8kopIu",
        "outputId": "8208fef1-434e-430d-d87e-38e9a9239c25",
        "colab": {
          "base_uri": "https://localhost:8080/"
        }
      },
      "id": "EhAbFn8kopIu",
      "execution_count": 34,
      "outputs": [
        {
          "output_type": "execute_result",
          "data": {
            "text/plain": [
              "0.9938746018177073"
            ]
          },
          "metadata": {},
          "execution_count": 34
        }
      ]
    },
    {
      "cell_type": "code",
      "execution_count": 55,
      "id": "9e1c2590",
      "metadata": {
        "id": "9e1c2590"
      },
      "outputs": [],
      "source": [
        "### How to approximate MSE error of trimmed mean?\n",
        "def mse_of_trimmed_mean(n_samples):\n",
        "    victims = np.array([trimmed_mean(np.random.randn(1000), 25)[0] for _ in range(n_samples)])\n",
        "    return np.mean(victims**2)"
      ]
    },
    {
      "cell_type": "code",
      "execution_count": 61,
      "id": "8785dc36",
      "metadata": {
        "id": "8785dc36",
        "outputId": "2daf3583-24ab-44f1-8a39-4bf4afdbf5f1",
        "colab": {
          "base_uri": "https://localhost:8080/"
        }
      },
      "outputs": [
        {
          "output_type": "execute_result",
          "data": {
            "text/plain": [
              "(-2.1459603829940597, 2.1659603829940592)"
            ]
          },
          "metadata": {},
          "execution_count": 61
        }
      ],
      "source": [
        "## Remember how to find confidence interval, this is important!!!!\n",
        "stats.norm.interval(0.95, 0.01, 1.1)  ### remember confidence interval...."
      ]
    },
    {
      "cell_type": "markdown",
      "id": "1936ff93",
      "metadata": {
        "id": "1936ff93"
      },
      "source": [
        "# Confidence Interval Check"
      ]
    },
    {
      "cell_type": "code",
      "execution_count": 62,
      "id": "82421ba7",
      "metadata": {
        "id": "82421ba7"
      },
      "outputs": [],
      "source": [
        "def test(n_samples = 10000, conf = 0.95, sample_size = 10000):\n",
        "  L = 0\n",
        "  for _ in range(n_samples):\n",
        "    sample = np.random.randn(sample_size)\n",
        "    mean = sample.mean()\n",
        "    std = sample.std(ddof = 1)\n",
        "    INT = stats.norm.interval(conf, mean, std/sample_size**0.5)  ### we had a mistake last week here!!!!\n",
        "    if INT[0] < 0 and INT[1] > 0:\n",
        "      L += 1\n",
        "  return L/n_samples"
      ]
    },
    {
      "cell_type": "code",
      "execution_count": 110,
      "id": "7a67deba",
      "metadata": {
        "id": "7a67deba",
        "outputId": "c9c47307-0e85-4cd5-e0f4-4e9da66bcbb8",
        "colab": {
          "base_uri": "https://localhost:8080/"
        }
      },
      "outputs": [
        {
          "output_type": "execute_result",
          "data": {
            "text/plain": [
              "0.9501"
            ]
          },
          "metadata": {},
          "execution_count": 110
        }
      ],
      "source": [
        "test(conf = 0.95, n_samples = 10000, sample_size = 1500)"
      ]
    },
    {
      "cell_type": "markdown",
      "id": "b69218f4",
      "metadata": {
        "id": "b69218f4"
      },
      "source": [
        "# Estimating a Confidence Level\n",
        "Assume that you sample from a population with unknown mean. Someone comes in claims that the true population mean is 13.8, and this dude appears to be pretty confident in his claim. How do you confirm this?\n",
        "Assume that you are sampling from $\\chi^2(14)$ distribution.\n"
      ]
    },
    {
      "cell_type": "code",
      "execution_count": 97,
      "id": "e18754fd",
      "metadata": {
        "id": "e18754fd"
      },
      "outputs": [],
      "source": [
        "rv = stats.chi2(3)"
      ]
    },
    {
      "cell_type": "code",
      "execution_count": 98,
      "id": "41448db5",
      "metadata": {
        "id": "41448db5"
      },
      "outputs": [],
      "source": [
        "def empirical_confidence_level(random_variable, claimed_mean = 3, n_sample = 10000, sample_size = 100):\n",
        "    L = 0\n",
        "    for i in range(n_sample):\n",
        "        sample = random_variable.rvs(sample_size)\n",
        "        mean = sample.mean()\n",
        "        std = sample.std(ddof = 1)\n",
        "        INT = stats.norm.interval(0.95, mean, std/sample_size**0.5)\n",
        "        if INT[0] < claimed_mean and claimed_mean < INT[1]:\n",
        "          L += 1   \n",
        "    return L/n_sample"
      ]
    },
    {
      "cell_type": "code",
      "execution_count": 109,
      "id": "071f97f2",
      "metadata": {
        "id": "071f97f2",
        "outputId": "459e8471-f2bb-4d0d-9f35-f51d3eb72de0",
        "colab": {
          "base_uri": "https://localhost:8080/"
        }
      },
      "outputs": [
        {
          "output_type": "execute_result",
          "data": {
            "text/plain": [
              "0.9498"
            ]
          },
          "metadata": {},
          "execution_count": 109
        }
      ],
      "source": [
        "empirical_confidence_level(rv, sample_size = 1500)"
      ]
    },
    {
      "cell_type": "code",
      "source": [
        "### Confirmation\n",
        "rv = stats.chi2(25)\n",
        "sample_chi2 = rv.rvs(10000)\n",
        "A = np.random.randn(10000, 26)"
      ],
      "metadata": {
        "id": "hPtKhj-Bw84A"
      },
      "id": "hPtKhj-Bw84A",
      "execution_count": 134,
      "outputs": []
    },
    {
      "cell_type": "code",
      "source": [
        "fake_chi2 = (25)*np.var(A, axis = 1, ddof = 1)"
      ],
      "metadata": {
        "id": "ayNBjgOOxkHl"
      },
      "id": "ayNBjgOOxkHl",
      "execution_count": 135,
      "outputs": []
    },
    {
      "cell_type": "code",
      "source": [
        "fake_chi2.shape"
      ],
      "metadata": {
        "id": "EeExSzxHyG8j",
        "outputId": "60a43993-d608-4c75-d2d8-465a2911cf5f",
        "colab": {
          "base_uri": "https://localhost:8080/"
        }
      },
      "id": "EeExSzxHyG8j",
      "execution_count": 136,
      "outputs": [
        {
          "output_type": "execute_result",
          "data": {
            "text/plain": [
              "(10000,)"
            ]
          },
          "metadata": {},
          "execution_count": 136
        }
      ]
    },
    {
      "cell_type": "code",
      "source": [
        "plt.hist(sample_chi2, density = True, label = \"Real\", bins = 100)\n",
        "plt.hist(fake_chi2, density = True, label = \"Fake\", bins = 100)\n",
        "plt.legend()\n",
        "plt.show()"
      ],
      "metadata": {
        "id": "bHExHYyGxs3f",
        "outputId": "606c50e2-ea23-4909-92db-a04c3769ae52",
        "colab": {
          "base_uri": "https://localhost:8080/",
          "height": 432
        }
      },
      "id": "bHExHYyGxs3f",
      "execution_count": 137,
      "outputs": [
        {
          "output_type": "display_data",
          "data": {
            "text/plain": [
              "<Figure size 640x480 with 1 Axes>"
            ],
            "image/png": "[encoded data removed]"
          },
          "metadata": {}
        }
      ]
    },
    {
      "cell_type": "code",
      "source": [
        "rv = stats.chi2(14)\n"
      ],
      "metadata": {
        "id": "paN4C64d05Wo"
      },
      "id": "paN4C64d05Wo",
      "execution_count": 140,
      "outputs": []
    },
    {
      "cell_type": "code",
      "source": [
        "rv.ppf(1 - 0.025)"
      ],
      "metadata": {
        "id": "DehdDx9T057m",
        "outputId": "1a32e404-b9d3-4722-f3d0-afe8a3857273",
        "colab": {
          "base_uri": "https://localhost:8080/"
        }
      },
      "id": "DehdDx9T057m",
      "execution_count": 143,
      "outputs": [
        {
          "output_type": "execute_result",
          "data": {
            "text/plain": [
              "26.11894804503737"
            ]
          },
          "metadata": {},
          "execution_count": 143
        }
      ]
    },
    {
      "cell_type": "code",
      "source": [
        "rv.ppf(1 - 0.975)"
      ],
      "metadata": {
        "id": "N0er7WJB1TLR",
        "outputId": "b7e71397-f486-4947-fcf1-91a888f42970",
        "colab": {
          "base_uri": "https://localhost:8080/"
        }
      },
      "id": "N0er7WJB1TLR",
      "execution_count": 144,
      "outputs": [
        {
          "output_type": "execute_result",
          "data": {
            "text/plain": [
              "5.628726103039734"
            ]
          },
          "metadata": {},
          "execution_count": 144
        }
      ]
    },
    {
      "cell_type": "code",
      "source": [
        "def confidence_interval_for_variance(sample, conf = 0.95)->tuple:\n",
        "  ## your task is to come up with a confidence interval for population variance\n",
        "  ### your code here!!!!\n",
        "  ### sample size\n",
        "  ### sample var\n",
        "  ### rv.ppf\n",
        "  n = len(sample)\n",
        "  s2 = np.var(sample, ddof = 1)\n",
        "  rv = stats.chi2(n-1)\n",
        "  a = (1-conf)/2\n",
        "  return (n-1)*s2/rv.ppf(1- a), (n-1)*s2/rv.ppf(a)"
      ],
      "metadata": {
        "id": "4iA7axFM1n7c"
      },
      "id": "4iA7axFM1n7c",
      "execution_count": 151,
      "outputs": []
    },
    {
      "cell_type": "code",
      "source": [
        "L = 0 \n",
        "for i in range(10000):\n",
        "  INT = confidence_interval_for_variance(np.random.randn(25), 0.75)\n",
        "  if INT[0] < 1 and 1 < INT[1]:\n",
        "    L += 1\n",
        "p = L/10000"
      ],
      "metadata": {
        "id": "pQg9_7eL6HNe"
      },
      "id": "pQg9_7eL6HNe",
      "execution_count": 161,
      "outputs": []
    },
    {
      "cell_type": "code",
      "source": [
        "print(f\"confidence is {p} and the standard error is {(p*(1-p)/25)**0.5}\")"
      ],
      "metadata": {
        "id": "boZHvmyL-n4Z",
        "outputId": "2efe74fb-a142-4712-a0cd-06d6c4a06a8d",
        "colab": {
          "base_uri": "https://localhost:8080/"
        }
      },
      "id": "boZHvmyL-n4Z",
      "execution_count": 163,
      "outputs": [
        {
          "output_type": "stream",
          "name": "stdout",
          "text": [
            "confidence is 0.754 and the standard error is 0.08613570688164114\n"
          ]
        }
      ]
    },
    {
      "cell_type": "code",
      "source": [],
      "metadata": {
        "id": "Q2YgUo186GBH"
      },
      "id": "Q2YgUo186GBH",
      "execution_count": null,
      "outputs": []
    },
    {
      "cell_type": "markdown",
      "id": "cd903de2",
      "metadata": {
        "id": "cd903de2"
      },
      "source": [
        "# Confidence Interval for Variance"
      ]
    },
    {
      "cell_type": "code",
      "execution_count": null,
      "id": "3e51fc34",
      "metadata": {
        "id": "3e51fc34"
      },
      "outputs": [],
      "source": [
        "### This is your job!!!! "
      ]
    },
    {
      "cell_type": "markdown",
      "id": "5b6e7e78",
      "metadata": {
        "id": "5b6e7e78"
      },
      "source": [
        "## How do we perform hypothesis testing in Python?\n",
        "See https://docs.scipy.org/doc/scipy/reference/stats.html"
      ]
    },
    {
      "cell_type": "code",
      "execution_count": null,
      "id": "24135a6d",
      "metadata": {
        "id": "24135a6d",
        "outputId": "618d7200-4add-4941-de80-2cdec65a99e6"
      },
      "outputs": [
        {
          "data": {
            "text/plain": [
              "Ttest_1sampResult(statistic=-0.40684136341459265, pvalue=0.6556644778065253)"
            ]
          },
          "execution_count": 154,
          "metadata": {},
          "output_type": "execute_result"
        }
      ],
      "source": [
        "## scipy.stats.ttest_1samp for population mean\n",
        "stats.ttest_1samp(np.random.randn(20)+500, 500, alternative= \"greater\") ### H_0 is not rejected!!!!"
      ]
    },
    {
      "cell_type": "code",
      "execution_count": null,
      "id": "24419827",
      "metadata": {
        "id": "24419827"
      },
      "outputs": [],
      "source": [
        "### Do some examples here!!! with hypothesis tests!!! Such as normality vs vs"
      ]
    },
    {
      "cell_type": "markdown",
      "id": "beebe52f",
      "metadata": {
        "id": "beebe52f"
      },
      "source": [
        "# Empirical Type I Error Rate"
      ]
    },
    {
      "cell_type": "code",
      "execution_count": null,
      "id": "f602ef9f",
      "metadata": {
        "id": "f602ef9f",
        "outputId": "68b7c00a-897e-4759-b7cc-e470691de6a9"
      },
      "outputs": [
        {
          "data": {
            "text/plain": [
              "(0.051, 0.0021999772726098788)"
            ]
          },
          "execution_count": 155,
          "metadata": {},
          "output_type": "execute_result"
        }
      ],
      "source": [
        "def empiricalI():\n",
        "    L = 0\n",
        "    for i in range(10000):\n",
        "        if stats.ttest_1samp(10*np.random.randn(20)+500, 500, alternative= \"greater\").pvalue < 0.05:\n",
        "            L += 1\n",
        "    prop = L/10000\n",
        "    return prop, (prop*(1-prop)/10000)**0.5\n",
        "empiricalI()"
      ]
    },
    {
      "cell_type": "code",
      "source": [
        "np.random.randn(1000)"
      ],
      "metadata": {
        "id": "2Ylwe5by_WXV",
        "outputId": "caf611ac-4992-4c6e-8e4e-eae9a0dd1ff6",
        "colab": {
          "base_uri": "https://localhost:8080/"
        }
      },
      "id": "2Ylwe5by_WXV",
      "execution_count": 164,
      "outputs": [
        {
          "output_type": "execute_result",
          "data": {
            "text/plain": [
              "array([-6.25364376e-01, -2.94621199e+00, -1.44708536e+00,  8.13016670e-01,\n",
              "        6.18308536e-01,  1.16558443e-01,  1.25830905e+00,  6.26956335e-01,\n",
              "        3.68520117e-01, -7.69012112e-02, -1.18996237e+00,  1.34656861e+00,\n",
              "       -2.69535783e-01,  1.27287047e-02,  3.00156784e-01,  1.78211071e-01,\n",
              "       -4.19469019e-01,  4.72209377e-01, -1.01442974e+00,  6.65636030e-02,\n",
              "       -2.24170833e-01, -8.85928284e-01,  1.57018482e-01,  9.14452385e-01,\n",
              "       -2.28084673e-01,  1.12106055e+00, -4.79394780e-01, -1.76624731e-01,\n",
              "       -9.54802358e-01,  2.17262572e+00,  8.63535475e-01, -1.70620499e+00,\n",
              "        2.10756083e-01, -2.11348401e+00, -1.58726329e+00,  6.29842705e-01,\n",
              "       -4.10134500e-01,  1.08898551e+00, -1.84606553e-01, -6.84956431e-01,\n",
              "       -1.95581344e-02, -1.75422249e+00, -3.63421297e-01,  6.94804846e-01,\n",
              "       -3.32414983e-01,  3.45224174e-01, -2.05854023e-01, -4.68549783e-01,\n",
              "        1.21079762e+00, -4.05606360e-01,  4.00433479e-01, -4.62659301e-01,\n",
              "       -2.03976886e+00, -3.33272159e-01, -6.01036801e-01,  4.92609009e-02,\n",
              "       -1.30960403e+00, -9.73981853e-01,  4.60800889e-01, -1.93611537e+00,\n",
              "        6.88938378e-01,  1.39881555e+00, -9.56808972e-01,  2.54518063e+00,\n",
              "       -5.08299069e-01, -1.09810034e+00,  1.15683831e-01,  3.95240365e-01,\n",
              "       -6.16220626e-01, -1.04946279e+00, -3.62609869e-01, -1.48656272e+00,\n",
              "       -1.48523837e-01, -6.49581127e-01, -9.15846465e-02,  4.35361904e-01,\n",
              "        5.16490358e-01,  3.63820752e-01, -9.34982065e-01, -5.49852144e-01,\n",
              "        3.78777037e-01, -1.66800891e+00, -3.72164019e-01, -3.94337687e-01,\n",
              "       -8.03819409e-01,  3.84569372e-01,  1.90733069e+00, -1.55598607e+00,\n",
              "       -9.56041540e-01, -2.34829154e-01,  1.41491588e+00, -8.58490121e-01,\n",
              "       -2.11132941e+00,  7.01336678e-02, -1.13632868e-01, -1.16240408e+00,\n",
              "       -1.03884326e+00, -6.54278333e-01,  3.91078106e-02, -9.80388377e-01,\n",
              "        1.21640613e+00, -2.16346063e+00,  1.23720567e+00, -1.16800186e+00,\n",
              "       -5.64908840e-01, -1.00521424e+00, -5.18387465e-01, -1.49492091e+00,\n",
              "       -8.20279348e-01,  1.23119876e+00, -8.95776537e-01, -5.90825321e-01,\n",
              "        2.45193276e-01,  2.33587799e+00, -5.63831920e-01, -1.25705882e+00,\n",
              "        7.45629976e-01, -2.13415258e-03, -5.61931491e-01, -4.41746786e-01,\n",
              "       -1.08304526e+00,  7.79471050e-01, -9.82520600e-01,  1.00585417e-01,\n",
              "       -1.61238893e+00,  9.70016581e-01, -5.96494040e-01, -9.30777490e-01,\n",
              "        6.73624230e-01, -8.66423599e-01, -7.58973934e-01, -8.53566519e-01,\n",
              "       -3.50883438e-03, -7.07418438e-02,  7.89198753e-01,  5.92435680e-01,\n",
              "        7.06265743e-01, -2.50418266e-01,  2.19863756e+00,  1.34404205e+00,\n",
              "        1.54749214e-01,  1.03701956e+00, -1.01565573e+00,  9.74878122e-01,\n",
              "       -3.67225913e-01, -2.06819424e+00,  6.79670503e-01,  2.27272178e-01,\n",
              "       -1.12806738e+00, -2.89775381e-01,  3.60216572e-01,  1.82899425e-01,\n",
              "       -3.69165118e-01, -4.08837598e-01, -6.52643594e-01,  1.27018231e+00,\n",
              "        7.61267221e-02,  1.49039932e+00, -1.49999305e-01,  5.00416406e-01,\n",
              "        3.78060996e-01, -1.11438326e+00, -4.71584442e-02, -3.92590569e-01,\n",
              "       -1.53861235e+00,  8.34854039e-01, -1.11689013e+00,  6.23399156e-01,\n",
              "        2.52423261e-01, -3.57331814e-01, -1.31973337e+00, -2.55441250e-01,\n",
              "       -1.58278083e+00,  4.52446558e-01, -8.56668584e-01, -7.03233662e-01,\n",
              "       -6.26550274e-01,  8.14183265e-01,  1.72558849e+00, -7.39517571e-01,\n",
              "       -1.03554578e+00,  1.00739516e+00, -1.28659179e+00, -1.60113689e-01,\n",
              "       -8.16855580e-01, -1.14158626e+00, -2.39222100e-02, -3.64058464e-02,\n",
              "       -1.31222460e+00,  1.34352171e+00, -1.61372682e+00,  3.37915186e-01,\n",
              "        8.11517872e-01, -4.45451569e-01, -2.05581391e+00,  1.15849124e+00,\n",
              "       -1.99139047e-01, -6.69941828e-01,  9.10500171e-01, -1.34803555e-01,\n",
              "       -3.63782668e-01, -1.15193421e-01, -1.67720587e-01, -1.14437458e-01,\n",
              "       -8.30106354e-01,  3.96576033e-01, -1.65291559e+00, -1.99935848e+00,\n",
              "        8.32101452e-02, -6.17139086e-01, -4.97528400e-02,  3.29613123e-02,\n",
              "       -2.32416860e-02,  1.02748069e+00,  1.47532102e+00,  4.11865506e-01,\n",
              "       -6.85997233e-01, -2.45379062e+00, -1.48347542e+00, -4.88765269e-01,\n",
              "        7.50533279e-01, -1.53449917e-01,  7.36655607e-01,  1.08997649e+00,\n",
              "        4.71537696e-01,  3.24745279e-01, -4.27587602e-01,  5.61474583e-01,\n",
              "       -7.34613849e-01,  5.36772606e-01, -1.99395707e+00, -1.23397324e-01,\n",
              "       -6.74458051e-01, -1.59965706e-01, -5.61382394e-01, -1.40999665e+00,\n",
              "        2.08659021e-01, -1.24908481e+00, -1.54790955e+00, -6.89365443e-01,\n",
              "       -3.44661377e-01, -1.68048029e-01,  7.93681004e-01, -1.05260233e+00,\n",
              "       -7.83890240e-01,  6.82192033e-01,  2.07038148e+00, -6.33075481e-01,\n",
              "       -1.44001353e+00, -2.63892818e-01,  1.56606384e+00,  7.61946387e-01,\n",
              "        5.94990332e-01, -2.20045536e+00, -1.14553843e+00,  4.81525192e-01,\n",
              "        9.96599102e-01, -9.32838052e-01, -2.77001532e-01,  4.83546171e-01,\n",
              "       -3.32807139e-01,  1.88503470e+00, -9.46669482e-01, -1.72357001e+00,\n",
              "        7.88201019e-01,  5.95826381e-01, -1.26326471e-01,  1.24377798e+00,\n",
              "       -1.77443554e-01, -2.02141316e-01, -5.23747628e-01,  6.93755568e-01,\n",
              "       -2.96920724e-01, -2.04871002e+00, -1.82777696e-01,  7.86938407e-01,\n",
              "       -7.06089748e-01, -1.27131138e+00,  8.93876179e-01,  8.43905105e-01,\n",
              "       -5.18368011e-01,  1.19450192e-01, -2.00739936e-01, -5.11845389e-02,\n",
              "        3.70444618e-02,  6.47473380e-01, -1.30818317e+00,  1.28572720e+00,\n",
              "       -1.43037247e+00, -1.31388189e+00,  2.07730321e-01,  1.98451617e+00,\n",
              "        1.76530125e+00,  4.03544180e-01,  4.18508084e-01,  1.32167097e-01,\n",
              "       -1.09667948e+00, -2.03175554e+00, -3.94135490e-01,  1.55549669e+00,\n",
              "        1.05342599e+00, -1.06218004e+00, -5.56144105e-01, -1.64453614e+00,\n",
              "        1.03944339e+00,  4.98286534e-01,  4.23309379e-01, -6.00621413e-01,\n",
              "        4.02150832e-01,  4.02444049e+00, -6.77940303e-02,  3.53712192e-01,\n",
              "       -1.36123573e+00,  1.18201443e+00,  5.17488526e-01, -1.19446167e-01,\n",
              "        8.13186204e-01,  1.19007890e-01,  2.05368285e-02, -3.88991176e-01,\n",
              "        1.62723590e-01, -8.08613914e-02, -1.79832156e+00, -1.10461196e-01,\n",
              "       -1.43790373e+00,  1.28976870e+00, -9.81758870e-01, -1.43202641e+00,\n",
              "       -6.28032412e-01,  4.55710628e-01,  6.38437859e-01, -5.80852218e-01,\n",
              "        5.98387906e-02, -5.26595802e-01,  9.47654195e-01,  9.43390926e-01,\n",
              "       -9.88802798e-01, -1.31122102e+00,  9.95731628e-01, -2.33200048e+00,\n",
              "        6.38288820e-01, -7.25751172e-01, -1.43603093e-01, -4.24839045e-01,\n",
              "       -8.15890861e-01, -1.08111503e+00, -1.29362628e+00, -2.84446982e-01,\n",
              "        1.53438184e+00, -8.16952187e-02, -1.10694292e+00,  1.18654412e+00,\n",
              "        1.62102139e+00,  2.86870365e-01,  1.11479803e+00,  1.11740167e+00,\n",
              "        1.49134974e-01, -2.15170033e-02,  1.45303426e-01,  8.86452992e-01,\n",
              "        7.07620552e-01, -9.13263745e-02, -5.42363458e-01, -2.14356126e-01,\n",
              "        1.14748801e+00,  1.50233716e-01,  3.23029852e-01,  5.41520637e-01,\n",
              "        1.00020531e+00,  2.19019808e-01,  4.02712126e-01, -7.69884050e-01,\n",
              "       -7.04005400e-01,  5.52688284e-01, -6.41842480e-01, -2.18080309e-01,\n",
              "       -3.29418259e-01, -7.07937562e-02,  1.35760859e+00,  4.92061137e-03,\n",
              "        1.33668190e+00, -4.08733837e-03, -6.37243006e-01,  4.37078982e-01,\n",
              "       -1.98610243e+00,  1.50099940e+00, -1.89985994e+00, -2.81951243e-02,\n",
              "        1.68325229e+00,  6.20941186e-01, -5.08098968e-01, -1.18977342e-01,\n",
              "       -1.65555142e+00,  5.29285279e-02,  1.23594217e+00,  8.51325003e-01,\n",
              "        9.69279703e-01,  1.65313023e+00,  1.01529965e+00, -3.25926523e-01,\n",
              "       -2.25149181e-01, -4.08746073e-01,  1.39918564e+00, -1.92693385e-01,\n",
              "        8.65906946e-01,  3.13700810e-01,  1.62893954e+00, -1.02520435e+00,\n",
              "       -1.48072594e+00, -5.71383358e-01,  9.11481543e-01, -6.22072872e-02,\n",
              "       -9.73524349e-01,  1.21575072e+00,  5.85476225e-01,  1.01444090e+00,\n",
              "        4.05206224e-01,  1.17560956e+00, -1.12249443e+00,  1.16868357e+00,\n",
              "        5.93850241e-01,  6.39262220e-01,  3.00263382e-01,  1.51320260e+00,\n",
              "       -1.42662141e+00,  1.35156468e+00, -7.03332438e-01,  9.34452440e-01,\n",
              "       -1.64553401e-01,  6.14524571e-01, -1.94091625e+00, -2.76108609e+00,\n",
              "        1.33905784e+00,  6.01762151e-01,  1.08187196e+00,  5.33348128e-01,\n",
              "       -2.54372361e-01,  4.74028063e-01,  9.49457739e-01,  5.77780155e-02,\n",
              "       -6.44810309e-01,  8.65162206e-01,  2.26803300e-01, -5.13184020e-01,\n",
              "        4.44931772e-02, -7.92277141e-01,  1.74751074e+00,  1.00360131e+00,\n",
              "        1.43233698e+00,  4.27758465e-01,  9.91029848e-02,  5.30629286e-01,\n",
              "       -2.32270443e-01, -4.53519234e-01, -9.73233138e-01, -3.45882105e-01,\n",
              "       -5.83226021e-01, -2.62390931e-01, -2.71540449e-01, -2.17773774e-02,\n",
              "        2.09294235e+00, -4.57189135e-01,  9.12897883e-01, -1.61469736e+00,\n",
              "        6.05307707e-01,  1.57357149e+00,  8.64086928e-01,  1.60488965e+00,\n",
              "       -3.90634333e-01, -6.75667346e-01,  8.46587117e-01, -5.22850748e-01,\n",
              "       -1.04946034e+00, -8.88721172e-01,  2.69716149e-01, -9.42656435e-01,\n",
              "       -1.29403135e+00, -1.62964400e+00,  3.33926284e-01,  1.46371669e+00,\n",
              "        7.56906112e-01,  6.64221632e-01, -3.65453429e-01, -7.91412109e-01,\n",
              "        1.06470328e-01,  3.04578269e-01,  3.40981221e-01,  4.58461046e-01,\n",
              "       -8.59890928e-01,  1.67767384e+00,  4.43989588e-01, -1.03518877e+00,\n",
              "       -2.24358988e+00, -1.49767738e+00, -5.87418666e-01, -2.07632032e-01,\n",
              "       -5.88405597e-01,  5.21265418e-02, -1.40816944e-02,  1.73154441e-01,\n",
              "       -3.44634256e-02,  2.63314351e-01, -2.56950352e-01,  1.12495948e+00,\n",
              "       -1.63367852e+00, -6.77692851e-01,  1.26859747e+00, -1.76376546e-01,\n",
              "        1.86813640e+00, -5.97136474e-01, -6.43389077e-01,  1.15859587e+00,\n",
              "        4.11434185e-01,  1.88275629e+00, -1.18155921e-01, -1.25505977e+00,\n",
              "        2.79697978e-01,  1.10507028e+00,  2.87134248e-01,  1.64969430e-01,\n",
              "       -5.09425763e-01,  1.00166658e+00, -6.42989955e-01, -3.65525960e-01,\n",
              "       -8.45641655e-02, -2.70842698e-02, -2.62310455e-01,  4.07598663e-01,\n",
              "        9.95192148e-01,  7.43315105e-01,  2.59266385e-01, -1.51406936e-01,\n",
              "        1.17260704e-01,  1.95901045e+00,  2.52160627e-01, -1.47168642e+00,\n",
              "        1.50894395e+00,  5.64256682e-01,  2.78630203e-01,  6.70224851e-02,\n",
              "        3.12160577e-01, -8.34163699e-01, -4.84141027e-01,  3.96595615e-01,\n",
              "        5.71588491e-01, -3.00641203e-01, -9.86881678e-01, -8.21732448e-01,\n",
              "       -1.09303465e-01,  1.94847412e+00,  1.57398120e+00, -2.04414039e+00,\n",
              "        1.67829581e+00, -1.36010773e+00,  9.90510174e-01, -5.80341535e-01,\n",
              "        5.31069092e-01, -1.50782621e+00, -1.86920460e+00,  2.49273788e-02,\n",
              "        3.49874824e-01, -6.37946814e-01,  3.43886875e-01, -1.49091228e+00,\n",
              "        1.45485703e+00,  5.15800141e-01,  6.43754840e-01,  7.27526047e-01,\n",
              "       -6.56153729e-01,  1.26194144e+00, -7.77343812e-02,  8.31676304e-01,\n",
              "       -5.20735428e-01,  5.79486755e-01, -1.79855191e+00, -6.33231819e-01,\n",
              "        1.66566549e+00, -2.57210371e+00, -8.34996283e-01, -4.99739349e-01,\n",
              "        8.97625255e-01,  1.74914843e+00,  1.95035092e-01, -1.25279393e+00,\n",
              "        1.51639873e+00, -1.04425767e+00, -3.63098338e-01,  7.16001598e-01,\n",
              "       -2.33256719e-01,  5.55366472e-01,  1.84024057e-01,  1.17144499e-01,\n",
              "       -6.00834798e-01,  2.04458292e-01, -6.69784824e-01, -4.59661841e-01,\n",
              "       -1.54341397e+00,  7.73470761e-01, -5.13196815e-01, -1.05784306e+00,\n",
              "        4.80133264e-01, -7.65088906e-01, -1.85755221e+00, -3.56254213e-01,\n",
              "       -3.44714577e-02, -1.96514709e-01, -2.11356400e-01,  1.32791896e+00,\n",
              "        3.06201302e-01, -1.62523249e+00, -8.43776142e-01,  9.04211416e-01,\n",
              "       -3.02989423e-02, -9.17677267e-01,  2.42598670e-01,  4.29752287e-01,\n",
              "       -6.85819418e-01,  8.82939076e-01,  2.49816863e-01,  1.13361395e+00,\n",
              "       -3.47087234e-01, -7.20034344e-01, -1.24817100e+00,  1.52991971e-01,\n",
              "        1.73619348e+00, -1.07328956e+00,  1.02243044e-01,  3.36609019e-01,\n",
              "       -2.66270859e-01, -9.86290722e-02, -2.47391433e+00,  1.06019173e+00,\n",
              "       -1.76974314e-01,  3.40745069e-01,  1.02896431e+00, -8.32706495e-01,\n",
              "        1.80321079e+00, -1.01564814e+00, -3.99628792e-01,  7.15159439e-01,\n",
              "       -1.79952445e+00, -6.81895971e-01, -2.74854581e-01,  6.65228281e-01,\n",
              "        6.78336935e-01, -3.59210159e-02, -1.07228559e+00, -1.15631543e-01,\n",
              "        9.96040445e-01, -1.55399620e+00,  5.86562730e-01,  1.25139174e+00,\n",
              "        2.00672532e+00,  3.25889799e-01, -1.40592311e+00,  1.45935416e-01,\n",
              "       -4.89402369e-01,  4.49702812e-01, -7.26773791e-01,  1.19468431e-01,\n",
              "        1.07294272e+00,  5.95853853e-01, -1.27464740e-01,  5.03171899e-01,\n",
              "       -4.32121303e-01,  6.21357450e-01,  1.02147577e+00, -2.19627605e-01,\n",
              "        2.92679760e-02,  2.16919776e+00, -1.40324156e+00,  2.02616338e+00,\n",
              "       -1.07186582e-01, -2.80147907e-01,  2.82920454e-01, -4.04471686e-01,\n",
              "        8.87961025e-02, -1.87805080e+00, -3.70845082e-01,  3.02423061e-01,\n",
              "        1.25510191e+00,  6.25829729e-01,  5.90114292e-01,  5.78845128e-01,\n",
              "       -2.27159920e+00, -7.97120899e-01, -1.54179003e-02, -4.79468289e-01,\n",
              "       -1.77530561e+00,  3.76390769e-01,  1.25771071e-01,  1.85015056e+00,\n",
              "        9.40029506e-01, -4.68734360e-01,  2.42513379e-03, -2.43491261e-01,\n",
              "        1.79703605e+00,  2.38428130e-01, -9.23559792e-01, -2.87846328e-01,\n",
              "        1.77110347e+00,  5.47494242e-01, -2.09060781e+00,  1.70959785e+00,\n",
              "        3.38215745e-01, -5.65582596e-01, -1.62129088e-01, -7.37063573e-01,\n",
              "        1.49944270e+00, -2.72855979e-01,  1.91226089e+00, -7.46767104e-01,\n",
              "       -1.49027284e+00,  9.47942940e-01, -2.20464239e+00, -7.88110413e-01,\n",
              "        6.56861083e-01, -9.78158044e-01,  3.00373114e+00, -1.23051094e-01,\n",
              "        1.75232977e+00,  1.97961270e+00, -7.21071301e-01,  1.03039971e+00,\n",
              "        1.24811192e+00, -1.11684426e+00,  2.15245147e+00,  1.80000863e+00,\n",
              "        6.12648617e-02,  5.95024680e-01, -9.97030832e-01, -7.58320516e-04,\n",
              "        1.09762069e+00, -4.46596876e-01, -7.84531801e-01, -6.82567968e-01,\n",
              "        3.51789261e-01, -7.07017562e-01, -1.24653754e+00, -9.93418513e-01,\n",
              "        7.97067032e-01,  5.99536442e-02, -7.06090882e-01,  4.52127604e-01,\n",
              "       -2.56099353e-01,  5.90344192e-01,  1.93281759e+00,  1.52813208e+00,\n",
              "       -6.23251248e-01,  6.54360955e-01, -4.55963898e-01, -4.56303075e-01,\n",
              "        1.10430481e+00, -1.23881093e+00, -8.07510647e-01, -5.88542123e-01,\n",
              "        1.39870060e+00, -2.31412536e+00, -1.09507136e+00,  1.53221015e+00,\n",
              "       -1.23867736e+00, -1.70138060e+00, -1.62123037e+00,  1.26246977e+00,\n",
              "        1.88234120e-01, -8.72089752e-01, -1.10764262e+00,  9.61425983e-01,\n",
              "       -1.26535420e-01, -2.47848712e-02,  6.45574078e-01, -3.93822428e-01,\n",
              "        6.14961300e-02,  1.21027470e-01,  5.42084824e-01,  1.07635696e+00,\n",
              "        1.15864705e+00,  6.65494907e-01,  8.21176980e-01, -1.52723010e+00,\n",
              "        2.48353426e+00,  2.48286779e-01,  1.09035350e+00,  8.22916458e-02,\n",
              "       -5.11363169e-02, -4.80399602e-02, -6.02930665e-02,  2.47127379e-01,\n",
              "       -3.15238547e-01,  5.45759128e-01, -1.57802820e+00, -2.09703464e+00,\n",
              "        9.89028648e-01,  7.13515049e-01, -1.27307466e-01,  1.84780028e-01,\n",
              "       -4.67335185e-02, -2.77532371e-01, -2.62801349e-01,  2.82227492e-01,\n",
              "       -1.92571050e+00,  1.80073663e+00, -9.33353030e-01,  4.92467945e-01,\n",
              "        2.79945739e-01,  1.44781517e-01,  1.49128857e+00, -8.96777830e-01,\n",
              "       -1.45889595e-01, -7.25683729e-01, -1.60166530e+00,  1.72898215e+00,\n",
              "        2.39039074e-02,  1.99110007e+00,  1.61669111e+00, -1.45998444e-01,\n",
              "        1.23814523e+00,  5.23156669e-01,  7.80991175e-01, -1.92115986e+00,\n",
              "       -1.09319580e+00,  1.49065703e+00,  7.31409393e-01,  1.43193818e+00,\n",
              "        1.36109129e+00,  2.81762415e-01, -8.67540558e-01,  2.32962193e-01,\n",
              "       -1.33468622e+00, -7.28467487e-01, -7.83246446e-02, -1.14593437e-01,\n",
              "        2.75199720e-01,  4.02012302e-01,  4.85103997e-01, -1.03112111e+00,\n",
              "       -2.63723706e-01, -7.39483138e-02, -1.71980339e+00, -7.63281769e-01,\n",
              "       -1.57844140e+00, -1.10418170e+00, -3.99687598e-02,  1.20942962e+00,\n",
              "        6.64196488e-01, -7.00681206e-01,  1.43865762e+00, -1.26066448e-01,\n",
              "        3.60697341e-02, -1.35957006e+00,  7.27534467e-01, -3.17779499e-02,\n",
              "       -7.67948152e-01, -9.64055139e-01,  8.32596957e-01,  5.73592509e-01,\n",
              "       -8.98038082e-02, -1.62569082e+00, -8.35974179e-02, -4.21034627e-01,\n",
              "        7.83647459e-01,  1.46109934e+00,  1.49363472e+00,  2.39106783e-01,\n",
              "       -1.75500880e+00, -8.94237822e-02,  1.18562008e+00, -8.03391226e-02,\n",
              "        1.21380207e+00,  3.55157138e-02, -8.51795443e-01, -8.70400704e-01,\n",
              "       -4.08459768e-01, -1.36756268e+00, -2.49245828e-02, -4.02722461e-01,\n",
              "        4.32910440e-01,  2.95353870e-01, -8.35018149e-01, -1.11420772e-02,\n",
              "       -5.59276311e-01,  1.69231734e-01,  8.08982725e-01,  1.98838770e-01,\n",
              "       -9.64007963e-02, -8.71590991e-01, -3.03620334e-01, -2.70050386e-01,\n",
              "       -1.90073560e+00, -1.31913839e+00, -4.22634965e-01,  1.71977093e+00,\n",
              "        5.29173701e-01, -2.50066569e+00, -1.45295116e+00, -2.85820624e-01,\n",
              "        4.70170644e-01, -4.24468293e-01, -3.98795214e-01,  8.21103850e-01,\n",
              "       -1.34200757e+00, -2.54853939e+00, -1.24959611e+00,  1.31683971e+00,\n",
              "       -6.80175032e-01,  2.34607493e+00,  1.21528737e+00,  6.32315241e-01,\n",
              "        4.19733208e-01,  5.40427071e-01,  9.08635392e-01,  4.43255820e-01,\n",
              "        6.01448034e-02,  2.04161199e-01,  4.68663325e-02,  8.82251040e-01,\n",
              "        6.46615151e-01,  1.25048672e+00,  3.57635746e-01,  3.15909144e-01,\n",
              "       -4.57507642e-01,  1.27195384e-01,  1.78161496e-01,  1.19870829e+00,\n",
              "        3.15523730e-01, -3.99459250e-01, -3.75057085e-01,  2.77669114e-01,\n",
              "        1.21969261e+00,  6.90121461e-02, -2.32841887e+00,  1.25781429e-01,\n",
              "       -6.19496170e-01, -4.00040979e-01,  8.20557861e-01,  1.25759619e+00,\n",
              "       -1.28374607e+00,  5.12332940e-01, -5.02803534e-01, -1.02987904e+00,\n",
              "       -3.17097317e-01,  4.88863073e-01,  9.73244225e-01, -1.22119578e+00,\n",
              "       -1.25205037e+00,  1.17377016e-01, -2.19369580e+00, -8.12884561e-01,\n",
              "        2.98226198e-02, -5.19389280e-01,  1.54443081e-01,  1.47513311e+00,\n",
              "       -8.44774002e-01, -4.27943539e-01,  1.03519661e+00, -1.06160904e-01,\n",
              "        6.65246883e-01, -3.94073455e-01, -6.47761118e-01, -5.18049856e-01,\n",
              "       -1.21700458e+00,  3.66058319e-01,  3.91819284e-01,  1.16103309e+00,\n",
              "        4.91647259e-01,  4.07193138e-01, -1.80690242e-01, -1.64722247e+00,\n",
              "        1.64274344e-01, -2.29180024e-01,  1.28878520e+00, -9.63887460e-01,\n",
              "        6.92260663e-01,  1.25579899e-01,  1.42898855e+00, -1.66966037e+00,\n",
              "       -2.98530886e-01,  1.94033515e+00,  6.11815540e-01, -1.14354634e-01,\n",
              "        5.00198532e-01, -1.71358098e+00,  2.18607516e-01,  1.02275558e+00,\n",
              "        8.29146916e-01,  1.49413444e+00, -2.32381991e-01, -2.02706711e-01,\n",
              "        3.26365320e-01,  3.35184035e-01, -1.56255747e+00, -1.62422682e+00,\n",
              "       -8.80406687e-01, -2.79527232e-02,  1.81689788e+00,  8.19661762e-01,\n",
              "       -1.51632629e+00, -6.12941660e-01,  8.11997999e-02,  8.55207707e-01])"
            ]
          },
          "metadata": {},
          "execution_count": 164
        }
      ]
    },
    {
      "cell_type": "markdown",
      "id": "34e0a1a7",
      "metadata": {
        "id": "34e0a1a7"
      },
      "source": [
        "# Empirical Type II Error Rate"
      ]
    },
    {
      "cell_type": "code",
      "execution_count": null,
      "id": "47631abb",
      "metadata": {
        "id": "47631abb",
        "outputId": "e85ef919-a316-4c20-ebf5-7b1810234bc8"
      },
      "outputs": [
        {
          "data": {
            "text/plain": [
              "(0.0518, 0.00221623013245466)"
            ]
          },
          "execution_count": 186,
          "metadata": {},
          "output_type": "execute_result"
        }
      ],
      "source": [
        "def __empiricalII__(θ, n_sample = 10000):\n",
        "    L = 0\n",
        "    for i in range(n_sample):\n",
        "        if stats.ttest_1samp(100*np.random.randn(20)+500, θ, alternative= \"greater\").pvalue < 0.05:\n",
        "            L += 1\n",
        "    prop = L/n_sample\n",
        "    return prop, (prop*(1-prop)/n_sample)**0.5\n",
        "\n",
        "__empiricalII__(θ = 500)\n",
        "\n"
      ]
    },
    {
      "cell_type": "code",
      "execution_count": null,
      "id": "fc9d6695",
      "metadata": {
        "id": "fc9d6695"
      },
      "outputs": [],
      "source": [
        "X = range(400, 650, 10)\n",
        "Y = [1- __empiricalII__(θ)[0] for θ in X]"
      ]
    },
    {
      "cell_type": "code",
      "execution_count": null,
      "id": "321c92aa",
      "metadata": {
        "id": "321c92aa",
        "outputId": "05c1c09f-f23f-4228-e238-488e8650a366"
      },
      "outputs": [
        {
          "data": {
            "text/plain": [
              "[<matplotlib.lines.Line2D at 0x7f590d307e50>]"
            ]
          },
          "execution_count": 196,
          "metadata": {},
          "output_type": "execute_result"
        },
        {
          "data": {
            "image/png": "[encoded data removed]",
            "text/plain": [
              "<Figure size 640x480 with 1 Axes>"
            ]
          },
          "metadata": {},
          "output_type": "display_data"
        }
      ],
      "source": [
        "plt.plot(X, Y)"
      ]
    },
    {
      "cell_type": "code",
      "execution_count": null,
      "id": "b929d13f",
      "metadata": {
        "id": "b929d13f"
      },
      "outputs": [],
      "source": []
    }
  ],
  "metadata": {
    "kernelspec": {
      "display_name": "Python 3 (ipykernel)",
      "language": "python",
      "name": "python3"
    },
    "language_info": {
      "codemirror_mode": {
        "name": "ipython",
        "version": 3
      },
      "file_extension": ".py",
      "mimetype": "text/x-python",
      "name": "python",
      "nbconvert_exporter": "python",
      "pygments_lexer": "ipython3",
      "version": "3.9.13"
    },
    "colab": {
      "provenance": []
    }
  },
  "nbformat": 4,
  "nbformat_minor": 5
}