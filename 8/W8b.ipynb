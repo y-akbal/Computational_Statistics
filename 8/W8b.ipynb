{
 "cells": [
  {
   "cell_type": "code",
   "execution_count": null,
   "id": "e0b13304",
   "metadata": {
    "id": "e0b13304"
   },
   "outputs": [],
   "source": [
    "import matplotlib.pyplot as plt\n",
    "import numpy as np\n",
    "import scipy\n",
    "from scipy import stats"
   ]
  },
  {
   "cell_type": "markdown",
   "id": "42bd7f17",
   "metadata": {
    "id": "e94be759"
   },
   "source": [
    "[![Open in Colab](https://colab.research.google.com/assets/colab-badge.svg)](https://colab.research.google.com/github/y-akbal/Tedu_Computational_Statistics/blob/main/8/W8b.ipynb)"
   ]
  },
  {
   "cell_type": "markdown",
   "id": "6e36dee3",
   "metadata": {},
   "source": [
    "## Bootstrap estimation of standard error\n",
    "## Bootstrap Example (LSAT vs GPA) \n"
   ]
  },
  {
   "cell_type": "code",
   "execution_count": 1,
   "id": "2fbcd2ba",
   "metadata": {},
   "outputs": [],
   "source": [
    "LSAT = [576, 635, 558, 578, 666, 580, 555, 661, 651, 605, 653, 575, 545, 572, 594]\n",
    "GPA = [339, 330, 281, 303, 344, 307, 300, 343, 336, 313, 312, 274, 276, 288, 296]\n",
    "# 1) Find correlation\n",
    "# 2) Do bootstrap replicated and find standard error\n",
    "# 3) plot histogram of bootstrap correlations"
   ]
  },
  {
   "cell_type": "markdown",
   "id": "4b249170",
   "metadata": {},
   "source": [
    "## Bootstrap estimation of bias\n"
   ]
  },
  {
   "cell_type": "code",
   "execution_count": null,
   "id": "84c5e900",
   "metadata": {},
   "outputs": [],
   "source": []
  },
  {
   "cell_type": "markdown",
   "id": "ee288e48",
   "metadata": {},
   "source": [
    "## Jackknife Blocks\n"
   ]
  },
  {
   "cell_type": "code",
   "execution_count": null,
   "id": "a5fb623f",
   "metadata": {},
   "outputs": [],
   "source": []
  }
 ],
 "metadata": {
  "colab": {
   "provenance": []
  },
  "kernelspec": {
   "display_name": "Python 3 (ipykernel)",
   "language": "python",
   "name": "python3"
  },
  "language_info": {
   "codemirror_mode": {
    "name": "ipython",
    "version": 3
   },
   "file_extension": ".py",
   "mimetype": "text/x-python",
   "name": "python",
   "nbconvert_exporter": "python",
   "pygments_lexer": "ipython3",
   "version": "3.9.12"
  }
 },
 "nbformat": 4,
 "nbformat_minor": 5
}
