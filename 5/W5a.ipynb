{
  "nbformat": 4,
  "nbformat_minor": 0,
  "metadata": {
    "colab": {
      "provenance": []
    },
    "kernelspec": {
      "name": "python3",
      "display_name": "Python 3"
    },
    "language_info": {
      "name": "python"
    }
  },
  "cells": [
    {
      "cell_type": "markdown",
      "source": [
        "[![Open in Colab](https://colab.research.google.com/assets/colab-badge.svg)](https://colab.research.google.com/github/y-akbal/Tedu_Computational_Statistics/blob/main/5/W5a.ipynb)\n"
      ],
      "metadata": {
        "id": "fb3AtndSJ5vF"
      }
    },
    {
      "cell_type": "code",
      "source": [
        "import matplotlib.pyplot as plt\n",
        "import numpy as np\n",
        "import scipy\n",
        "from scipy import stats\n",
        "import pickle"
      ],
      "metadata": {
        "id": "mEApmbTYKNBh"
      },
      "execution_count": null,
      "outputs": []
    },
    {
      "cell_type": "markdown",
      "source": [
        "### A Quick Remainder: Use Monte Carlo to approximate\n",
        "\n",
        "#$ \\int_0^1 \\frac{e^{-x}}{1+x^2} dx$."
      ],
      "metadata": {
        "id": "gQV_9S2UsH8U"
      }
    },
    {
      "cell_type": "code",
      "source": [],
      "metadata": {
        "id": "tFN-5cF9sGZw"
      },
      "execution_count": null,
      "outputs": []
    },
    {
      "cell_type": "markdown",
      "source": [
        "#Monte Carlo Integration on Unbounded Integral (change of variables)\n",
        "# $\\Phi(x) = \\int_{-\\infty}^x \\frac{1}{\\sqrt{2 \\pi}} e^{-t^2/2} dt$\n",
        "# Let's use Monte Carlo Integration to find an approximate value of this integral."
      ],
      "metadata": {
        "id": "XX37nLuqqshQ"
      }
    },
    {
      "cell_type": "code",
      "source": [
        "## My code here"
      ],
      "metadata": {
        "id": "nQharAQ2rRUb"
      },
      "execution_count": null,
      "outputs": []
    },
    {
      "cell_type": "markdown",
      "source": [
        "## Variance Reduction Example (Based on the previous example)"
      ],
      "metadata": {
        "id": "W0-8VBS-rX82"
      }
    },
    {
      "cell_type": "code",
      "source": [
        "## Efficiency!!!"
      ],
      "metadata": {
        "id": "NsEleI4BrTwB"
      },
      "execution_count": null,
      "outputs": []
    },
    {
      "cell_type": "markdown",
      "source": [
        "## Antithetic Variables to Reduce Variance"
      ],
      "metadata": {
        "id": "8I3aauU2rgNl"
      }
    },
    {
      "cell_type": "code",
      "source": [],
      "metadata": {
        "id": "2bWXmI-nr2Z_"
      },
      "execution_count": null,
      "outputs": []
    },
    {
      "cell_type": "markdown",
      "source": [
        "#Control Variates to Reduce Variance\n",
        "\n",
        "#Use a control variate function to approximate the value of $\\int_{0}^1 e^u du$."
      ],
      "metadata": {
        "id": "QJEsZjy_r8ta"
      }
    },
    {
      "cell_type": "code",
      "source": [],
      "metadata": {
        "id": "D56EObWArVvt"
      },
      "execution_count": null,
      "outputs": []
    },
    {
      "cell_type": "markdown",
      "source": [
        "# Importance Sampling\n",
        "# Consider the following integral\n",
        "# $ \\int_0^1 \\frac{e^{-x}}{1+x^2} dx$.\n",
        "# Choose a proper importance functionce for a possible decrease in the variance."
      ],
      "metadata": {
        "id": "a5lNJ24XseFj"
      }
    }
  ]
}