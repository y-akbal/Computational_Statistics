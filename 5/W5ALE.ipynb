{
  "nbformat": 4,
  "nbformat_minor": 0,
  "metadata": {
    "colab": {
      "provenance": []
    },
    "kernelspec": {
      "name": "python3",
      "display_name": "Python 3"
    },
    "language_info": {
      "name": "python"
    }
  },
  "cells": [
    {
      "cell_type": "markdown",
      "source": [
        "[![Open in Colab](https://colab.research.google.com/assets/colab-badge.svg)](https://colab.research.google.com/github/y-akbal/Tedu_Computational_Statistics/blob/main/5/W5ALE.ipynb)\n"
      ],
      "metadata": {
        "id": "fb3AtndSJ5vF"
      }
    },
    {
      "cell_type": "code",
      "source": [
        "import matplotlib.pyplot as plt\n",
        "import numpy as np\n",
        "import scipy\n",
        "from scipy import stats\n",
        "import pickle"
      ],
      "metadata": {
        "id": "mEApmbTYKNBh"
      },
      "execution_count": null,
      "outputs": []
    },
    {
      "cell_type": "markdown",
      "source": [
        "# 1) Compute a Monte Carlo estimate of \n",
        "# $\\int_0^{\\pi/3} \\sin t dt$.\n",
        "# Compare it with the exact value of the integral."
      ],
      "metadata": {
        "id": "dafFcO6CZtuJ"
      }
    },
    {
      "cell_type": "code",
      "source": [
        "## Your code here!"
      ],
      "metadata": {
        "id": "NOSwbw8cZtJU"
      },
      "execution_count": null,
      "outputs": []
    },
    {
      "cell_type": "markdown",
      "source": [
        "#2 ) Compute a Monte Carlo estimate of\n",
        "# $\\int_0^1 e^x dx$ , using antithetic variables method. "
      ],
      "metadata": {
        "id": "JPDrlEEf6nmX"
      }
    },
    {
      "cell_type": "code",
      "source": [
        "# Your code here"
      ],
      "metadata": {
        "id": "g_dEyXQT64ib"
      },
      "execution_count": null,
      "outputs": []
    },
    {
      "cell_type": "markdown",
      "source": [
        "# 3) Consider $\\int_0^{0.5} e^{-x} dx$.\n",
        "# Compute a Monte Carlo estimate $\\hat{\\theta}$ by sampling from $U(0,0.5)$.\n",
        "# Find another Monte Carlo estimate $\\theta^{\\star}$ by sampling from exponential distribution. Which of the variances is smaller? "
      ],
      "metadata": {
        "id": "buCSNqnDYqDM"
      }
    },
    {
      "cell_type": "code",
      "source": [
        "### Your code here!"
      ],
      "metadata": {
        "id": "PmntRApcYpa9"
      },
      "execution_count": null,
      "outputs": []
    }
  ]
}