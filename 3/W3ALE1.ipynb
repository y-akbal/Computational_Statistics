{
  "nbformat": 4,
  "nbformat_minor": 0,
  "metadata": {
    "colab": {
      "provenance": []
    },
    "kernelspec": {
      "name": "python3",
      "display_name": "Python 3"
    },
    "language_info": {
      "name": "python"
    }
  },
  "cells": [
    {
      "cell_type": "markdown",
      "source": [
        "[![Open in Colab](https://colab.research.google.com/assets/colab-badge.svg)](https://colab.research.google.com/github/y-akbal/Tedu_Computational_Statistics/blob/main/3/W3ALE1.ipynb)\n"
      ],
      "metadata": {
        "id": "PpYscADXGEdc"
      }
    },
    {
      "cell_type": "code",
      "source": [
        "import matplotlib.pyplot as plt\n",
        "import numpy as np\n",
        "import scipy\n",
        "from scipy import stats"
      ],
      "metadata": {
        "id": "VWFbJAkKNRm5"
      },
      "execution_count": null,
      "outputs": []
    },
    {
      "cell_type": "markdown",
      "source": [
        "Example 3.2 (Inverse transform method, continuous case). This example\n",
        "uses the inverse transform method to simulate a random sample from the\n",
        "distribution with density $f_{\\chi} (x) = 3x^2$, where $0 < x < 1$."
      ],
      "metadata": {
        "id": "AXG7htJ9NDEE"
      }
    },
    {
      "cell_type": "markdown",
      "source": [
        "## Now implement cumulative distribution function of $\\chi$. Call it $Fc(x)$. Make sure that you have a couple of if statements inside."
      ],
      "metadata": {
        "id": "HC-Osi4yerMJ"
      }
    },
    {
      "cell_type": "code",
      "source": [
        "def Fc(x):\n",
        "  #Your code here\n",
        "  return None"
      ],
      "metadata": {
        "id": "8aT5JRciY06T"
      },
      "execution_count": null,
      "outputs": []
    },
    {
      "cell_type": "code",
      "source": [
        "### Run this cell to see if everything is ok.\n",
        "### Do not change anything below!!!\n",
        "### Graded Cell A0\n",
        "assert Fc(-1.1) == 0 and np.isclose(Fc(1),1) and np.isclose(8*Fc(1/2),1.0), \"Something went wrong buddy check your code again\"\n",
        "print(\"All tests passed succesfully!!!! Congratssss\")"
      ],
      "metadata": {
        "id": "bOiiyzoPf90S"
      },
      "execution_count": null,
      "outputs": []
    },
    {
      "cell_type": "markdown",
      "source": [
        "## Implement now the inverse of $F_c$ on $0<x<1$."
      ],
      "metadata": {
        "id": "gBS6SjYweyJR"
      }
    },
    {
      "cell_type": "code",
      "source": [
        "def F_inv(x):\n",
        "  #Your code here\n",
        "  return None"
      ],
      "metadata": {
        "id": "Txnm2Q3YZO35"
      },
      "execution_count": null,
      "outputs": []
    },
    {
      "cell_type": "code",
      "source": [
        "### Run this cell to see if everything is ok.\n",
        "### Do not change anything below!!!\n",
        "### Graded Cell A1 \n",
        "for i in np.arange(0.00001,0.99,0.1):\n",
        "  assert np.isclose(Fc(F_inv(i)),i) and np.isclose(F_inv(Fc(i)),i), \"Something went wrong buddy check your code again\"\n",
        "print(\"All tests passed succesfully!!!! Congratssss\")"
      ],
      "metadata": {
        "id": "7IfUNV_LZf4C"
      },
      "execution_count": null,
      "outputs": []
    },
    {
      "cell_type": "markdown",
      "source": [
        "## Time for inference!!!"
      ],
      "metadata": {
        "id": "2rLr4zeGaxOf"
      }
    },
    {
      "cell_type": "markdown",
      "source": [
        "### Using F_inv function, draw samples from the random variable $\\chi$ with the density function given as $f_\\chi(x) = 3x^2$.\n",
        "Implement draw_samples function delivering num_samples many samples from this random variable."
      ],
      "metadata": {
        "id": "Bf0H4DYva7MC"
      }
    },
    {
      "cell_type": "code",
      "source": [
        "def draw_samples(num_samples:int = 1000)-> np.ndarray:\n",
        "  #Your code here\n",
        "  return None"
      ],
      "metadata": {
        "id": "x9PPrv3HazIe"
      },
      "execution_count": null,
      "outputs": []
    },
    {
      "cell_type": "code",
      "source": [
        "### Do not change anything below!!!\n",
        "### Run this cell to see if everything is ok.\n",
        "### Graded Cell A2\n",
        "np.random.seed(1)\n",
        "l = scipy.stats.kstest(draw_samples(), np.random.rand(1000)**(1/3))\n",
        "if l.pvalue > 0.2:\n",
        "  print(\"All tests passed sucessfully!!!\")\n",
        "else:\n",
        "  raise AssertionError(\"Check your imlementation mate!!!\")"
      ],
      "metadata": {
        "id": "HAlPIW0ecgr8"
      },
      "execution_count": null,
      "outputs": []
    },
    {
      "cell_type": "markdown",
      "source": [
        "#Now use plt.hist function to see if you did the things ok."
      ],
      "metadata": {
        "id": "p1Oi-MegeN-4"
      }
    },
    {
      "cell_type": "code",
      "source": [
        "plt.hist(draw_samples(), bins = 100)"
      ],
      "metadata": {
        "id": "A6wVhv77dEb4"
      },
      "execution_count": null,
      "outputs": []
    },
    {
      "cell_type": "markdown",
      "source": [
        "## Enjoy the rest of the rest of the day!"
      ],
      "metadata": {
        "id": "bluo28OdeUyk"
      }
    }
  ]
}