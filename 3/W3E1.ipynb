{
  "nbformat": 4,
  "nbformat_minor": 0,
  "metadata": {
    "colab": {
      "provenance": []
    },
    "kernelspec": {
      "name": "python3",
      "display_name": "Python 3"
    },
    "language_info": {
      "name": "python"
    }
  },
  "cells": [
    {
      "cell_type": "markdown",
      "source": [
        "[![Open in Colab](https://colab.research.google.com/assets/colab-badge.svg)](https://colab.research.google.com/github/y-akbal/Tedu_Computational_Statistics/blob/main/3/W3E1.ipynb)\n"
      ],
      "metadata": {
        "id": "JXo00WQlGRTz"
      }
    },
    {
      "cell_type": "code",
      "source": [
        "import matplotlib.pyplot as plt\n",
        "import numpy as np\n",
        "import scipy\n",
        "from scipy import stats\n",
        "from statsmodels.graphics.gofplots import qqplot"
      ],
      "metadata": {
        "id": "9eQkV4OkNOci"
      },
      "execution_count": 1,
      "outputs": []
    },
    {
      "cell_type": "markdown",
      "source": [
        "::To get samples from  $\\chi$ ,  we draw samples from $u\\sim U(0,1)$ and look at $F^{-1}_{\\chi}(u)$.\t\n",
        "\n",
        "Use this strategy to draw samples from standard normal distribution,\n",
        "\n",
        "1.   Sketch hist. of your samples to partially justify your answer,\n",
        "2.   Use QQ-plot to justify your answer,\n",
        "3.   Do a normality test to further justify your answer.\n"
      ],
      "metadata": {
        "id": "t9FVphoOKH0f"
      }
    },
    {
      "cell_type": "code",
      "execution_count": 2,
      "metadata": {
        "id": "yVmf_CIwKEmv"
      },
      "outputs": [],
      "source": [
        "uniform_rv = stats.uniform(0,1)"
      ]
    },
    {
      "cell_type": "code",
      "source": [
        "sample = uniform_rv.rvs(1000)"
      ],
      "metadata": {
        "id": "ZDld2VGQb-zP"
      },
      "execution_count": 28,
      "outputs": []
    },
    {
      "cell_type": "code",
      "source": [
        "plt.hist(sample, label = \"uniform on [0,1]\", density = True, bins = 100)\n",
        "plt.legend()\n",
        "plt.show()"
      ],
      "metadata": {
        "id": "KD5eoLjXcBSn",
        "outputId": "3b6836d0-d4e7-4be2-8e67-9a002cbe8e6c",
        "colab": {
          "base_uri": "https://localhost:8080/",
          "height": 265
        }
      },
      "execution_count": 29,
      "outputs": [
        {
          "output_type": "display_data",
          "data": {
            "text/plain": [
              "<Figure size 432x288 with 1 Axes>"
            ],
            "image/png": "[encoded data removed]"
          },
          "metadata": {
            "needs_background": "light"
          }
        }
      ]
    },
    {
      "cell_type": "code",
      "source": [
        "normal = stats.norm(0,1)"
      ],
      "metadata": {
        "id": "zHB5trtmcUTH"
      },
      "execution_count": 30,
      "outputs": []
    },
    {
      "cell_type": "code",
      "source": [
        "pseudo_normal_sample = normal.ppf(sample)  #### we are taking a detour around a big obstacle!!!! that is\n",
        "#### we assume that we have access to the invers of the cdf which is never possible practically!!!!!"
      ],
      "metadata": {
        "id": "Hw5X-auIcd8Z"
      },
      "execution_count": 31,
      "outputs": []
    },
    {
      "cell_type": "code",
      "source": [
        "plt.hist(pseudo_normal_sample, label = \"Normal_sample\", density = True, bins = 100)\n",
        "plt.legend()\n",
        "plt.show()"
      ],
      "metadata": {
        "id": "fv4n65yyc1gf",
        "outputId": "d8b06a79-8e71-4ad2-a0d0-b2f05dca80cc",
        "colab": {
          "base_uri": "https://localhost:8080/",
          "height": 265
        }
      },
      "execution_count": 32,
      "outputs": [
        {
          "output_type": "display_data",
          "data": {
            "text/plain": [
              "<Figure size 432x288 with 1 Axes>"
            ],
            "image/png": "[encoded data removed]"
          },
          "metadata": {
            "needs_background": "light"
          }
        }
      ]
    },
    {
      "cell_type": "code",
      "source": [
        "qqplot(pseudo_normal_sample, normal);  #### we are doing great job!!!!!!"
      ],
      "metadata": {
        "id": "KtjbL1B_dUba",
        "outputId": "1217eaf4-43fb-4a66-e670-8e2d9b23a9b5",
        "colab": {
          "base_uri": "https://localhost:8080/",
          "height": 279
        }
      },
      "execution_count": 34,
      "outputs": [
        {
          "output_type": "display_data",
          "data": {
            "text/plain": [
              "<Figure size 432x288 with 1 Axes>"
            ],
            "image/png": "[encoded data removed]"
          },
          "metadata": {
            "needs_background": "light"
          }
        }
      ]
    },
    {
      "cell_type": "code",
      "source": [
        "scipy.stats.shapiro(pseudo_normal_sample)  #### we got it right!!!!!!! great successs!!!!!"
      ],
      "metadata": {
        "id": "lGzW6sggdw1g",
        "outputId": "61447272-7813-484c-c782-d2df4fc413d7",
        "colab": {
          "base_uri": "https://localhost:8080/"
        }
      },
      "execution_count": 36,
      "outputs": [
        {
          "output_type": "execute_result",
          "data": {
            "text/plain": [
              "ShapiroResult(statistic=0.9978426098823547, pvalue=0.2228316068649292)"
            ]
          },
          "metadata": {},
          "execution_count": 36
        }
      ]
    }
  ]
}