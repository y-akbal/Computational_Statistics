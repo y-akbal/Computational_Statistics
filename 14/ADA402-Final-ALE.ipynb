{
 "cells": [
  {
   "cell_type": "markdown",
   "id": "72fba643",
   "metadata": {},
   "source": [
    "[![Open in Colab](https://colab.research.google.com/assets/colab-badge.svg)](https://colab.research.google.com/github/y-akbal/Tedu_Computational_Statistics/blob/main/13/ADA402-Final-ALE.ipynb)"
   ]
  },
  {
   "cell_type": "code",
   "execution_count": null,
   "id": "a94a11cd",
   "metadata": {},
   "outputs": [],
   "source": [
    "import numpy as np\n",
    "import scipy\n",
    "from scipy import stats\n",
    "from matplotlib import pyplot as plt"
   ]
  },
  {
   "cell_type": "markdown",
   "id": "ab55c2bc",
   "metadata": {},
   "source": [
    "## 1) Use Metropolis-Hasting Sampler to sample from the random varible with pdf given by \n",
    "## $$f(x) = \\frac{x^2 e^{-x}}{2}.$$\n",
    "## for $x > 0$.\n",
    "## Choose your proposal distribution as $g(.|X_t) = \\chi^2(X_t)$, save your sample in an list."
   ]
  },
  {
   "cell_type": "code",
   "execution_count": null,
   "id": "25cb0741",
   "metadata": {},
   "outputs": [],
   "source": [
    "## Your code here!!!"
   ]
  },
  {
   "cell_type": "markdown",
   "id": "ae13ad91",
   "metadata": {},
   "source": [
    "## 2) See here https://en.wikipedia.org/wiki/Gamma_distribution to decide which Gamma distribution is the above distribution?\n",
    "## Pick up the right gamma distribution from stats.gamma, sketch its pdf  together with histogram of your sample to compare your findings."
   ]
  },
  {
   "cell_type": "code",
   "execution_count": null,
   "id": "393aa00e",
   "metadata": {},
   "outputs": [],
   "source": [
    "## Your code here!!!"
   ]
  },
  {
   "cell_type": "markdown",
   "id": "6fbd77b6",
   "metadata": {},
   "source": [
    "## 3) Sketch QQ-plot of your a sample from the right Gamma distributions to see if your sample is reliable.\n",
    "## See here for QQ plots: https://www.statsmodels.org/dev/generated/statsmodels.graphics.gofplots.qqplot_2samples.html"
   ]
  },
  {
   "cell_type": "code",
   "execution_count": null,
   "id": "a0c88974",
   "metadata": {},
   "outputs": [],
   "source": [
    "from statsmodels.graphics.gofplots import qqplot_2samples\n",
    "### Your code here\n",
    "### "
   ]
  }
 ],
 "metadata": {
  "kernelspec": {
   "display_name": "Python 3 (ipykernel)",
   "language": "python",
   "name": "python3"
  },
  "language_info": {
   "codemirror_mode": {
    "name": "ipython",
    "version": 3
   },
   "file_extension": ".py",
   "mimetype": "text/x-python",
   "name": "python",
   "nbconvert_exporter": "python",
   "pygments_lexer": "ipython3",
   "version": "3.9.13"
  }
 },
 "nbformat": 4,
 "nbformat_minor": 5
}
