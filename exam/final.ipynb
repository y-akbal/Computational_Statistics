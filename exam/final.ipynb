{
  "cells": [
    {
      "cell_type": "code",
      "execution_count": null,
      "id": "e0b13304",
      "metadata": {
        "id": "e0b13304"
      },
      "outputs": [],
      "source": [
        "import matplotlib.pyplot as plt\n",
        "import numpy as np\n",
        "import scipy\n",
        "from scipy import stats"
      ]
    },
    {
      "attachments": {},
      "cell_type": "markdown",
      "id": "42bd7f17",
      "metadata": {
        "id": "42bd7f17"
      },
      "source": [
        "[![Open in Colab](https://colab.research.google.com/assets/colab-badge.svg)](https://colab.research.google.com/github/y-akbal/Tedu_Computational_Statistics/blob/main/exam/final.ipynb)"
      ]
    },
    {
      "attachments": {},
      "cell_type": "markdown",
      "id": "m6Q5JuGxP6P8",
      "metadata": {
        "id": "m6Q5JuGxP6P8"
      },
      "source": [
        "## At the end of the exam please make sure that you download this file in the following format:\n",
        "## id_name.ipynb for instance 12345_yildirim.ipynb."
      ]
    },
    {
      "cell_type": "code",
      "execution_count": null,
      "id": "7sG6Fj3PJ1Yq",
      "metadata": {
        "id": "7sG6Fj3PJ1Yq"
      },
      "outputs": [],
      "source": []
    }
  ],
  "metadata": {
    "colab": {
      "provenance": []
    },
    "kernelspec": {
      "display_name": "Python 3 (ipykernel)",
      "language": "python",
      "name": "python3"
    },
    "language_info": {
      "codemirror_mode": {
        "name": "ipython",
        "version": 3
      },
      "file_extension": ".py",
      "mimetype": "text/x-python",
      "name": "python",
      "nbconvert_exporter": "python",
      "pygments_lexer": "ipython3",
      "version": "3.9.12"
    }
  },
  "nbformat": 4,
  "nbformat_minor": 5
}
