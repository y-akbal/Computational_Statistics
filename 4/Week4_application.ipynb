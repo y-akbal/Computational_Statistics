{
  "nbformat": 4,
  "nbformat_minor": 0,
  "metadata": {
    "colab": {
      "provenance": []
    },
    "kernelspec": {
      "name": "python3",
      "display_name": "Python 3"
    },
    "language_info": {
      "name": "python"
    }
  },
  "cells": [
    {
      "cell_type": "markdown",
      "source": [
        "[![Open in Colab](https://colab.research.google.com/assets/colab-badge.svg)](https://colab.research.google.com/github/y-akbal/Tedu_Computational_Statistics/blob/main/4/Week4_application.ipynb)\n"
      ],
      "metadata": {
        "id": "5EaYRF8mAl35"
      }
    },
    {
      "cell_type": "code",
      "source": [
        "import numpy as np\n",
        "from matplotlib import pyplot as plt"
      ],
      "metadata": {
        "id": "ODbd5boLC6x4"
      },
      "execution_count": null,
      "outputs": []
    },
    {
      "cell_type": "code",
      "execution_count": null,
      "metadata": {
        "id": "MvbF3RsGCF5t"
      },
      "outputs": [],
      "source": [
        "class random_sampler:\n",
        "  def __init__(self):\n",
        "    self.p = np.random.rand()\n",
        "  def __sample__(self):\n",
        "    u = np.random.rand()\n",
        "    if u <= self.p:\n",
        "        return np.random.randn()+2\n",
        "    return np.random.randn()-2\n",
        "  def sample(self, size):\n",
        "    return np.array([self.__sample__() for _ in range(size)])\n",
        "    \n",
        "  @classmethod\n",
        "  def from_num(cls,p):\n",
        "    assert 0<p<1,f\"p should be between 0 and 1, you entered {p}\"\n",
        "    a = cls()\n",
        "    a.p = p\n",
        "    return a "
      ]
    },
    {
      "cell_type": "code",
      "source": [
        "class_ = random_sampler()\n",
        "class_ = random_sampler.from_num(0.5)"
      ],
      "metadata": {
        "id": "Gr9Y-JqkCh70"
      },
      "execution_count": null,
      "outputs": []
    },
    {
      "cell_type": "code",
      "source": [
        "plt.hist(class_.sample(100000), bins = 150, density= True, label = \"Sample_distriburion\");\n",
        "plt.title(\"A multimodal distribution\")\n",
        "plt.legend()\n",
        "plt.show()"
      ],
      "metadata": {
        "colab": {
          "base_uri": "https://localhost:8080/",
          "height": 281
        },
        "id": "rghF_D8YDV3M",
        "outputId": "662ba227-8d52-4299-f943-2450319d7c20"
      },
      "execution_count": null,
      "outputs": [
        {
          "output_type": "display_data",
          "data": {
            "text/plain": [
              "<Figure size 432x288 with 1 Axes>"
            ],
            "image/png": "[encoded data removed]"
          },
          "metadata": {
            "needs_background": "light"
          }
        }
      ]
    },
    {
      "cell_type": "markdown",
      "source": [
        "##Assume that the above is the density function of a random variable $\\chi$.\n",
        "----\n",
        "##Find approximately $P(-1 <\\chi<1)$."
      ],
      "metadata": {
        "id": "n5LQHfKIUo_q"
      }
    },
    {
      "cell_type": "code",
      "source": [
        "def I(x):\n",
        "  if - 1<x<1:\n",
        "    return 1\n",
        "  return 0"
      ],
      "metadata": {
        "id": "u5eKw5ygU9QJ"
      },
      "execution_count": null,
      "outputs": []
    },
    {
      "cell_type": "code",
      "source": [
        "def prob(I, sample):\n",
        "  t = 0\n",
        "  for s in sample:\n",
        "    t += I(s)\n",
        "  return t/len(sample)"
      ],
      "metadata": {
        "id": "VpSBPxWoVOao"
      },
      "execution_count": null,
      "outputs": []
    },
    {
      "cell_type": "code",
      "source": [
        "prob(I,class_.sample(1000000))"
      ],
      "metadata": {
        "colab": {
          "base_uri": "https://localhost:8080/"
        },
        "id": "LiM80WjpVLdH",
        "outputId": "3511ddc6-6bbe-4247-a6dd-a1aca7e155a2"
      },
      "execution_count": null,
      "outputs": [
        {
          "output_type": "execute_result",
          "data": {
            "text/plain": [
              "0.499965"
            ]
          },
          "metadata": {},
          "execution_count": 167
        }
      ]
    },
    {
      "cell_type": "code",
      "source": [],
      "metadata": {
        "id": "-Y6qJim9UzmP"
      },
      "execution_count": null,
      "outputs": []
    },
    {
      "cell_type": "code",
      "source": [],
      "metadata": {
        "id": "CmK8pRhyUyIq"
      },
      "execution_count": null,
      "outputs": []
    },
    {
      "cell_type": "code",
      "source": [],
      "metadata": {
        "id": "0PKbkJr7ERhE"
      },
      "execution_count": null,
      "outputs": []
    }
  ]
}