{
  "nbformat": 4,
  "nbformat_minor": 0,
  "metadata": {
    "colab": {
      "provenance": []
    },
    "kernelspec": {
      "name": "python3",
      "display_name": "Python 3"
    },
    "language_info": {
      "name": "python"
    }
  },
  "cells": [
    {
      "cell_type": "markdown",
      "source": [
        "[![Open in Colab](https://colab.research.google.com/assets/colab-badge.svg)](https://colab.research.google.com/github/y-akbal/Tedu_Computational_Statistics/blob/main/4/W4b.ipynb)\n"
      ],
      "metadata": {
        "id": "oWKCUkkyAcMc"
      }
    },
    {
      "cell_type": "code",
      "execution_count": 2,
      "metadata": {
        "id": "AuCRfTdkXA4p"
      },
      "outputs": [],
      "source": [
        "import matplotlib.pyplot as plt\n",
        "import numpy as np\n",
        "import scipy\n",
        "from scipy import stats\n",
        "import pickle"
      ]
    },
    {
      "cell_type": "code",
      "source": [
        "np.random.uniform(-1,2, size = 100)"
      ],
      "metadata": {
        "id": "DLFki6UAr1f2",
        "outputId": "1709dd81-9506-4aa2-d0b2-6b88a55f2584",
        "colab": {
          "base_uri": "https://localhost:8080/"
        }
      },
      "execution_count": 3,
      "outputs": [
        {
          "output_type": "execute_result",
          "data": {
            "text/plain": [
              "array([ 1.74102744,  0.9600521 , -0.17620471,  0.74221667,  1.38638481,\n",
              "        0.31353445, -0.25956584,  1.44656005,  1.34048755, -0.78852706,\n",
              "        0.20012234,  0.0208035 ,  0.96581654,  0.96407577,  0.37657234,\n",
              "       -0.19691793,  0.43018607, -0.70091367,  0.58609125, -0.93271226,\n",
              "       -0.0464553 , -0.21140282, -0.51404825,  1.84244424,  1.38507828,\n",
              "        0.16299008,  0.9704181 , -0.35376695,  0.60405721,  1.85491475,\n",
              "       -0.5418088 ,  0.81538599,  0.50761777, -0.59303136, -0.67651322,\n",
              "        1.6670216 , -0.03477781, -0.80897395, -0.5792876 , -0.31734099,\n",
              "       -0.72956743, -0.31631914, -0.86116102,  0.56604616, -0.20747308,\n",
              "        1.19459174,  1.14105322,  1.91300623,  0.60795688,  0.50381649,\n",
              "        1.22029846,  0.45502415,  1.78355249, -0.65647453,  0.30806398,\n",
              "        1.42965776,  0.7948494 ,  0.21628496,  1.81150339,  0.40317434,\n",
              "       -0.24267567,  0.54824203,  1.47198237, -0.06629827,  1.32911502,\n",
              "       -0.61501177,  0.37912984,  1.33028897, -0.37644526, -0.69871504,\n",
              "       -0.77105723,  0.53164546,  0.98309043,  0.2340763 ,  1.15335175,\n",
              "        0.23348557,  1.64382126,  0.64776794,  0.94850979,  1.75392217,\n",
              "       -0.8679764 ,  0.80866288,  0.22569251,  0.54798587,  0.18114738,\n",
              "        1.01339548,  1.81603806,  1.16498104,  0.52583567,  1.93852812,\n",
              "        1.13009221,  1.96886092, -0.81867166, -0.38157729,  1.74245581,\n",
              "        0.77180204, -0.19744287,  1.60433745, -0.13394277,  0.71566048])"
            ]
          },
          "metadata": {},
          "execution_count": 3
        }
      ]
    },
    {
      "cell_type": "markdown",
      "source": [
        "# Monte Carlo Integration\n",
        "#1) Given a continuous function $f:[0,1|\\to \\mathbb{R}$, implement a little snippet, giving $\\int_0^1 f(x) dx$ approximately."
      ],
      "metadata": {
        "id": "ljerEJDKYzPO"
      }
    },
    {
      "cell_type": "code",
      "source": [
        "def integral(f, lower:float = 0, higher:float = 1, sample_size:int = 1000, seed = None)->float:\n",
        "  assert lower < higher\n",
        "  if seed:  ### seed is needed to get the same result always.\n",
        "    np.random.seed(seed) \n",
        "  sample = np.random.uniform(lower, higher, size = sample_size)\n",
        "  f_applied = f(sample)\n",
        "  return (higher-lower)*np.mean(f_applied)"
      ],
      "metadata": {
        "id": "P15D_XQMZBMi"
      },
      "execution_count": 4,
      "outputs": []
    },
    {
      "cell_type": "code",
      "source": [
        "integral(np.exp, lower = -1, higher = 1, sample_size = 1000, seed = 10)"
      ],
      "metadata": {
        "id": "9vk9xnxXsU3g",
        "outputId": "827ed2ae-df5c-4a9c-f6d7-6c801b0e9d94",
        "colab": {
          "base_uri": "https://localhost:8080/"
        }
      },
      "execution_count": 5,
      "outputs": [
        {
          "output_type": "execute_result",
          "data": {
            "text/plain": [
              "2.3215402194970958"
            ]
          },
          "metadata": {},
          "execution_count": 5
        }
      ]
    },
    {
      "cell_type": "code",
      "source": [
        "np.pi"
      ],
      "metadata": {
        "id": "i3cke48swbId",
        "outputId": "981e0bf0-cd91-4001-954d-e38b09b349f2",
        "colab": {
          "base_uri": "https://localhost:8080/"
        }
      },
      "execution_count": 6,
      "outputs": [
        {
          "output_type": "execute_result",
          "data": {
            "text/plain": [
              "3.141592653589793"
            ]
          },
          "metadata": {},
          "execution_count": 6
        }
      ]
    },
    {
      "cell_type": "code",
      "source": [
        "f = lambda x: (x**3*np.cos(x/2) + (1/2))*np.sqrt(4-x**2)"
      ],
      "metadata": {
        "id": "LNEF-nmGwcAz"
      },
      "execution_count": 7,
      "outputs": []
    },
    {
      "cell_type": "code",
      "source": [
        "integral(f, lower = -2, higher = 2, sample_size = 10000000, seed = 5)  ### we get free wifi now!!!!  I am sorry, we get nothing!!!"
      ],
      "metadata": {
        "id": "5Y9s5KhIwsUA",
        "outputId": "410d7f52-0125-44e1-b0d3-6ed145bc5739",
        "colab": {
          "base_uri": "https://localhost:8080/"
        }
      },
      "execution_count": 30,
      "outputs": [
        {
          "output_type": "stream",
          "name": "stderr",
          "text": [
            "<ipython-input-28-6779a930610a>:1: RuntimeWarning: overflow encountered in exp\n",
            "  f = lambda x : x**(-2) * np.exp(-1/x)\n",
            "<ipython-input-28-6779a930610a>:1: RuntimeWarning: overflow encountered in multiply\n",
            "  f = lambda x : x**(-2) * np.exp(-1/x)\n"
          ]
        },
        {
          "output_type": "execute_result",
          "data": {
            "text/plain": [
              "inf"
            ]
          },
          "metadata": {},
          "execution_count": 30
        }
      ]
    },
    {
      "cell_type": "markdown",
      "source": [
        "#2) How about $\\int_{1}^{\\infty} e^{-x} dx$?"
      ],
      "metadata": {
        "id": "jQN5mPxtZjU6"
      }
    },
    {
      "cell_type": "code",
      "source": [
        "f = lambda x : x**(-2) * np.exp(-1/x)"
      ],
      "metadata": {
        "id": "Z-XPKpTXY4ti"
      },
      "execution_count": 28,
      "outputs": []
    },
    {
      "cell_type": "code",
      "source": [
        "integral(f, 0, 1, sample_size = 10000000, seed = 23)"
      ],
      "metadata": {
        "id": "aUCbN3BqxU_q",
        "outputId": "ac7cebb9-de7f-4b6d-9eba-143e30456480",
        "colab": {
          "base_uri": "https://localhost:8080/"
        }
      },
      "execution_count": 31,
      "outputs": [
        {
          "output_type": "execute_result",
          "data": {
            "text/plain": [
              "0.3678143637439341"
            ]
          },
          "metadata": {},
          "execution_count": 31
        }
      ]
    },
    {
      "cell_type": "code",
      "source": [
        "np.exp(-1)"
      ],
      "metadata": {
        "id": "1OhkwOysx7_N",
        "outputId": "b2d90024-a98d-4662-94bf-b7db4f5d1ee5",
        "colab": {
          "base_uri": "https://localhost:8080/"
        }
      },
      "execution_count": 27,
      "outputs": [
        {
          "output_type": "execute_result",
          "data": {
            "text/plain": [
              "0.36787944117144233"
            ]
          },
          "metadata": {},
          "execution_count": 27
        }
      ]
    },
    {
      "cell_type": "markdown",
      "source": [
        "## Normal Distribution Thing"
      ],
      "metadata": {
        "id": "_5-8B7zEyjio"
      }
    },
    {
      "cell_type": "code",
      "source": [
        "X = [integral(f, 0, 1, sample_size = 1000) for i in range(1000)]"
      ],
      "metadata": {
        "id": "5X9kEMdPyi-p"
      },
      "execution_count": 33,
      "outputs": []
    },
    {
      "cell_type": "code",
      "source": [
        "plt.hist(X, bins = 100, density = True);  ### This distribution of monte carlo outcomes are normally distributed."
      ],
      "metadata": {
        "id": "OjV9Ruu-yryv",
        "outputId": "4b0a164f-770b-4ffd-c780-c35820c42940",
        "colab": {
          "base_uri": "https://localhost:8080/",
          "height": 265
        }
      },
      "execution_count": 36,
      "outputs": [
        {
          "output_type": "display_data",
          "data": {
            "text/plain": [
              "<Figure size 432x288 with 1 Axes>"
            ],
            "image/png": "[encoded data removed]"
          },
          "metadata": {
            "needs_background": "light"
          }
        }
      ]
    },
    {
      "cell_type": "markdown",
      "source": [
        "## 3) 95% confidence Interval for $\\int_0^1 \\frac{1}{1+x^2} dx$."
      ],
      "metadata": {
        "id": "YG0ik0LmZr7D"
      }
    },
    {
      "cell_type": "code",
      "source": [],
      "metadata": {
        "id": "GzheqP6dXXAJ"
      },
      "execution_count": null,
      "outputs": []
    }
  ]
}