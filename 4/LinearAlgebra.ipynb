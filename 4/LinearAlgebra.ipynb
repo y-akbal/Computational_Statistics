{
  "nbformat": 4,
  "nbformat_minor": 0,
  "metadata": {
    "colab": {
      "provenance": []
    },
    "kernelspec": {
      "name": "python3",
      "display_name": "Python 3"
    },
    "language_info": {
      "name": "python"
    }
  },
  "cells": [
    {
      "cell_type": "markdown",
      "source": [
        "[![Open in Colab](https://colab.research.google.com/assets/colab-badge.svg)](https://colab.research.google.com/github/y-akbal/Tedu_Computational_Statistics/blob/main/4/LinearAlgebra.ipynb)\n"
      ],
      "metadata": {
        "id": "RQ-1k47eKz67"
      }
    },
    {
      "cell_type": "markdown",
      "source": [
        "# Some Linear Algebra with Numpy"
      ],
      "metadata": {
        "id": "CBx4ft-rKqBn"
      }
    },
    {
      "cell_type": "code",
      "execution_count": 2,
      "metadata": {
        "id": "HvioThR1Knru"
      },
      "outputs": [],
      "source": [
        "import numpy as np"
      ]
    },
    {
      "cell_type": "markdown",
      "source": [
        "# We will use np.linalg module"
      ],
      "metadata": {
        "id": "8uNFKLNIdD3P"
      }
    },
    {
      "cell_type": "code",
      "source": [
        "from numpy import linalg"
      ],
      "metadata": {
        "id": "ktBAz-KAdGwB"
      },
      "execution_count": 3,
      "outputs": []
    },
    {
      "cell_type": "code",
      "source": [
        "A = np.random.randn(3,3)\n",
        "X = A.T @ A"
      ],
      "metadata": {
        "id": "K-E9ZDkRmFtW"
      },
      "execution_count": 4,
      "outputs": []
    },
    {
      "cell_type": "code",
      "source": [
        "H = linalg.cholesky(X)"
      ],
      "metadata": {
        "id": "5CgFjY7lmVly"
      },
      "execution_count": 6,
      "outputs": []
    },
    {
      "cell_type": "code",
      "source": [
        "H @ H.T  "
      ],
      "metadata": {
        "colab": {
          "base_uri": "https://localhost:8080/"
        },
        "id": "otCSNczKmbOV",
        "outputId": "fbaa280c-8c78-45bb-bfb9-6eb521b10c2e"
      },
      "execution_count": 7,
      "outputs": [
        {
          "output_type": "execute_result",
          "data": {
            "text/plain": [
              "array([[ 4.0907394 , -1.6577664 ,  1.21836888],\n",
              "       [-1.6577664 ,  4.00754278, -4.07524552],\n",
              "       [ 1.21836888, -4.07524552,  4.35895935]])"
            ]
          },
          "metadata": {},
          "execution_count": 7
        }
      ]
    },
    {
      "cell_type": "code",
      "source": [
        "H.T   ###This guy will be used as Q in the algorithm!!!!!"
      ],
      "metadata": {
        "colab": {
          "base_uri": "https://localhost:8080/"
        },
        "id": "RiKwhG3gmeFK",
        "outputId": "e5a9f29b-e62e-41ba-c472-b3d38ad97626"
      },
      "execution_count": 11,
      "outputs": [
        {
          "output_type": "execute_result",
          "data": {
            "text/plain": [
              "array([[ 2.02255764, -0.81963865,  0.60239019],\n",
              "       [ 0.        ,  1.82639954, -1.96096372],\n",
              "       [ 0.        ,  0.        ,  0.38820959]])"
            ]
          },
          "metadata": {},
          "execution_count": 11
        }
      ]
    },
    {
      "cell_type": "code",
      "source": [
        "A"
      ],
      "metadata": {
        "id": "lMq1s237miHA"
      },
      "execution_count": null,
      "outputs": []
    },
    {
      "cell_type": "markdown",
      "source": [
        "## Cholesky Decomposition:\n",
        "Assume that your are given: A positive definite Hermitian matrix $A$.\n",
        "The Cholesky decomposition of a Hermitian positive-definite matrix A is a decomposition of the form $A = L\\times L^T$, where $L$ is a lower triangular matrix with real and positive diagonal entries."
      ],
      "metadata": {
        "id": "6pV0Eu9hUjEF"
      }
    },
    {
      "cell_type": "code",
      "source": [],
      "metadata": {
        "id": "9zASR0NyWJZa"
      },
      "execution_count": null,
      "outputs": []
    },
    {
      "cell_type": "markdown",
      "source": [
        "# Singular Value Decomposition:\n",
        "\n",
        "The Singular Value Decomposition (SVD) of a matrix is a factorization of that matrix into three matrices. It has some interesting algebraic properties and conveys important geometrical and theoretical insights about linear transformations. It also has some important applications in data science. In this article, I will try to explain the mathematical intuition behind SVD and its geometrical meaning. \n",
        "Mathematics behind SVD\n",
        "\n",
        "The SVD of  mxn matrix A is given by the formula :\n",
        "\n",
        "$A = UWV^T$\n",
        "\n",
        "where \n",
        "\n",
        "\n",
        "*   $U$:  $mxn$ matrix of the orthonormal eigenvectors of $A \\times A^T$,\n",
        "*    $V^T$: transpose of a $nxn$ matrix containing the orthonormal eigenvectors of $A^T \\times A$.\n",
        "*   $W$:  a $nxn$ diagonal matrix of the singular values which are the square roots of the eigenvalues of $A^T \\times A$. "
      ],
      "metadata": {
        "id": "pCGXwnfRVQFt"
      }
    },
    {
      "cell_type": "code",
      "source": [],
      "metadata": {
        "id": "eOgbInInVOGg"
      },
      "execution_count": null,
      "outputs": []
    }
  ]
}