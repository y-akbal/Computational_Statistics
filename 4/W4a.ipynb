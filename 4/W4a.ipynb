{
  "nbformat": 4,
  "nbformat_minor": 0,
  "metadata": {
    "colab": {
      "provenance": []
    },
    "kernelspec": {
      "name": "python3",
      "display_name": "Python 3"
    },
    "language_info": {
      "name": "python"
    }
  },
  "cells": [
    {
      "cell_type": "markdown",
      "source": [
        "[![Open in Colab](https://colab.research.google.com/assets/colab-badge.svg)](https://colab.research.google.com/github/y-akbal/Tedu_Computational_Statistics/blob/main/4/W4a.ipynb)\n"
      ],
      "metadata": {
        "id": "fb3AtndSJ5vF"
      }
    },
    {
      "cell_type": "code",
      "source": [
        "import matplotlib.pyplot as plt\n",
        "import numpy as np\n",
        "import scipy\n",
        "from scipy import stats\n",
        "import pickle"
      ],
      "metadata": {
        "id": "mEApmbTYKNBh"
      },
      "execution_count": 1,
      "outputs": []
    },
    {
      "cell_type": "markdown",
      "source": [],
      "metadata": {
        "id": "xM6hn01KKMT-"
      }
    },
    {
      "cell_type": "markdown",
      "source": [
        "#We first generate some $\\chi^2$ random variates."
      ],
      "metadata": {
        "id": "SrdFYkTNKPi0"
      }
    },
    {
      "cell_type": "markdown",
      "source": [
        "## $\\chi^2$ generation"
      ],
      "metadata": {
        "id": "MVfe3qRXKIJj"
      }
    },
    {
      "cell_type": "code",
      "source": [
        "chsq = stats.chi2(10)"
      ],
      "metadata": {
        "id": "aP7GrA52KLnH"
      },
      "execution_count": 2,
      "outputs": []
    },
    {
      "cell_type": "code",
      "source": [
        "samples = chsq.rvs(10000)"
      ],
      "metadata": {
        "id": "WodtiSPvXj_A"
      },
      "execution_count": 3,
      "outputs": []
    },
    {
      "cell_type": "code",
      "source": [
        "plt.hist(samples, density  = True, label = \"chi2 with 10 df\", bins = 100)\n",
        "plt.legend()\n",
        "plt.show()"
      ],
      "metadata": {
        "id": "H8RkBxRIXn_D",
        "outputId": "60c35ce1-adcc-4bba-dc01-d4ce2c5d2051",
        "colab": {
          "base_uri": "https://localhost:8080/",
          "height": 265
        }
      },
      "execution_count": 6,
      "outputs": [
        {
          "output_type": "display_data",
          "data": {
            "text/plain": [
              "<Figure size 432x288 with 1 Axes>"
            ],
            "image/png": "[encoded data removed]"
          },
          "metadata": {
            "needs_background": "light"
          }
        }
      ]
    },
    {
      "cell_type": "code",
      "source": [
        "X = np.random.randn(10000, 10)\n",
        "X.shape"
      ],
      "metadata": {
        "id": "93D3u-ImX8LF",
        "outputId": "e36f94a4-5d0c-465a-c5e6-3dc507f4598c",
        "colab": {
          "base_uri": "https://localhost:8080/"
        }
      },
      "execution_count": 8,
      "outputs": [
        {
          "output_type": "execute_result",
          "data": {
            "text/plain": [
              "(10000, 10)"
            ]
          },
          "metadata": {},
          "execution_count": 8
        }
      ]
    },
    {
      "cell_type": "code",
      "source": [
        "np.square(X) == X*X  ####  X*X is not matrix multiplication its is compt. wise mult."
      ],
      "metadata": {
        "id": "W4RAzF1DXqyg",
        "outputId": "e925e577-8eb4-438e-e1be-5d5d3721b33a",
        "colab": {
          "base_uri": "https://localhost:8080/"
        }
      },
      "execution_count": 11,
      "outputs": [
        {
          "output_type": "execute_result",
          "data": {
            "text/plain": [
              "array([[ True,  True,  True, ...,  True,  True,  True],\n",
              "       [ True,  True,  True, ...,  True,  True,  True],\n",
              "       [ True,  True,  True, ...,  True,  True,  True],\n",
              "       ...,\n",
              "       [ True,  True,  True, ...,  True,  True,  True],\n",
              "       [ True,  True,  True, ...,  True,  True,  True],\n",
              "       [ True,  True,  True, ...,  True,  True,  True]])"
            ]
          },
          "metadata": {},
          "execution_count": 11
        }
      ]
    },
    {
      "cell_type": "code",
      "source": [
        "chisq_fake = np.sum(X*X, axis = 1)"
      ],
      "metadata": {
        "id": "2INgOMvbYWa3"
      },
      "execution_count": 13,
      "outputs": []
    },
    {
      "cell_type": "code",
      "source": [
        "plt.hist(samples, density  = True, label = \"chi2 with 10 df\", bins = 100)\n",
        "plt.hist(chisq_fake, density  = True, label = \"fake chi2 with 10 df\", bins = 100)\n",
        "plt.legend()\n",
        "plt.show()  \n",
        "####These dudes, they just overlap.  If you like to further convince your self do some KS test."
      ],
      "metadata": {
        "id": "TX79MiSPY6dY",
        "outputId": "914de3db-3de3-4987-8255-94d18fbc9995",
        "colab": {
          "base_uri": "https://localhost:8080/",
          "height": 265
        }
      },
      "execution_count": 14,
      "outputs": [
        {
          "output_type": "display_data",
          "data": {
            "text/plain": [
              "<Figure size 432x288 with 1 Axes>"
            ],
            "image/png": "[encoded data removed]"
          },
          "metadata": {
            "needs_background": "light"
          }
        }
      ]
    },
    {
      "cell_type": "markdown",
      "source": [
        "# Mixtures\n",
        "# Say we are mixing $N(1,1)$ and $N(-1, 1)$ equal amount."
      ],
      "metadata": {
        "id": "u0lEWQ8zKd5f"
      }
    },
    {
      "cell_type": "code",
      "source": [
        "np.random.choice([0,1]) ### this is the way that we filp a coin (fair)"
      ],
      "metadata": {
        "id": "0MhFYtrzbVy4",
        "outputId": "f736a046-eee5-4b89-f623-9e93d16c2071",
        "colab": {
          "base_uri": "https://localhost:8080/"
        }
      },
      "execution_count": 17,
      "outputs": [
        {
          "output_type": "execute_result",
          "data": {
            "text/plain": [
              "0"
            ]
          },
          "metadata": {},
          "execution_count": 17
        }
      ]
    },
    {
      "cell_type": "code",
      "source": [
        "def sample_from_mixture(n:int)->np.ndarray:\n",
        "  L = []\n",
        "  for i in range(n):\n",
        "    flip = np.random.choice([0,1])\n",
        "    if flip == 1:\n",
        "      L.append(np.random.randn() + 2)\n",
        "    else:\n",
        "      L.append(np.random.randn() - 2)\n",
        "  return np.array(L)"
      ],
      "metadata": {
        "id": "643cPAVHbIsE"
      },
      "execution_count": 27,
      "outputs": []
    },
    {
      "cell_type": "code",
      "source": [
        "sample = sample_from_mixture(10000)\n",
        "plt.hist(sample, label = \"bimodal dist\", bins = 100)\n",
        "plt.legend()\n",
        "plt.show()"
      ],
      "metadata": {
        "id": "HI2MLT6Ib73L",
        "outputId": "bf4eaac2-95e7-4b02-b96d-7f25dab580e0",
        "colab": {
          "base_uri": "https://localhost:8080/",
          "height": 265
        }
      },
      "execution_count": 28,
      "outputs": [
        {
          "output_type": "display_data",
          "data": {
            "text/plain": [
              "<Figure size 432x288 with 1 Axes>"
            ],
            "image/png": "[encoded data removed]"
          },
          "metadata": {
            "needs_background": "light"
          }
        }
      ]
    },
    {
      "cell_type": "code",
      "source": [
        "A = np.random.choice([0,1], p = [0.3, 0.7], size = 1000)"
      ],
      "metadata": {
        "id": "p7XWNs6yKdMO"
      },
      "execution_count": 31,
      "outputs": []
    },
    {
      "cell_type": "code",
      "source": [
        "plt.hist(A, density = True);"
      ],
      "metadata": {
        "id": "p7KaWpUudfot",
        "outputId": "5d2ad474-cb0d-4af9-bba0-6813acf8c19f",
        "colab": {
          "base_uri": "https://localhost:8080/",
          "height": 265
        }
      },
      "execution_count": 36,
      "outputs": [
        {
          "output_type": "display_data",
          "data": {
            "text/plain": [
              "<Figure size 432x288 with 1 Axes>"
            ],
            "image/png": "[encoded data removed]"
          },
          "metadata": {
            "needs_background": "light"
          }
        }
      ]
    },
    {
      "cell_type": "code",
      "source": [
        "def sample_from_weighted_mixture(n:int, p)->np.ndarray:\n",
        "  L = []\n",
        "  for i in range(n):\n",
        "    flip = np.random.choice([0,1], p = p)\n",
        "    if flip == 1:\n",
        "      L.append(np.random.randn() + 2)\n",
        "    else:\n",
        "      L.append(np.random.randn() - 2)\n",
        "  return np.array(L)"
      ],
      "metadata": {
        "id": "hDNNGH1ud2Lc"
      },
      "execution_count": 37,
      "outputs": []
    },
    {
      "cell_type": "code",
      "source": [
        "sample = sample_from_weighted_mixture(10000, p = [0.3, 0.7])\n",
        "plt.hist(sample, label = \"bimodal dist\", bins = 100)\n",
        "plt.legend()\n",
        "plt.show()"
      ],
      "metadata": {
        "id": "p6f3tJQxeCDB",
        "outputId": "40c7f49e-7f4c-4b76-ee0e-c52160a1027b",
        "colab": {
          "base_uri": "https://localhost:8080/",
          "height": 265
        }
      },
      "execution_count": 38,
      "outputs": [
        {
          "output_type": "display_data",
          "data": {
            "text/plain": [
              "<Figure size 432x288 with 1 Axes>"
            ],
            "image/png": "[encoded data removed]"
          },
          "metadata": {
            "needs_background": "light"
          }
        }
      ]
    },
    {
      "cell_type": "markdown",
      "source": [
        "# Multidimensional Normal Distribution"
      ],
      "metadata": {
        "id": "UEEILBpDKf54"
      }
    },
    {
      "cell_type": "code",
      "source": [
        "###  What do we need???\n",
        "### A mean vector, and symmetric positive definite matrix.\n",
        "mu = np.random.rand(2) ### picking a random vector\n",
        "x = np.random.randn(2,2)\n",
        "cov = x @ x.T"
      ],
      "metadata": {
        "id": "41gsr_6aie6Q"
      },
      "execution_count": 59,
      "outputs": []
    },
    {
      "cell_type": "code",
      "source": [
        "RV = stats.multivariate_normal(mean = mu, cov = cov)"
      ],
      "metadata": {
        "id": "MZFLYDDJi2BH"
      },
      "execution_count": 60,
      "outputs": []
    },
    {
      "cell_type": "code",
      "source": [
        "sample = RV.rvs(1000)"
      ],
      "metadata": {
        "id": "sexhWNkFjA11"
      },
      "execution_count": 61,
      "outputs": []
    },
    {
      "cell_type": "code",
      "source": [
        "plt.scatter(sample[:, 0], sample[:, 1])"
      ],
      "metadata": {
        "id": "jYpH0IA4jGDG",
        "outputId": "6a983c64-0e0e-45db-b5a7-536caa43ec27",
        "colab": {
          "base_uri": "https://localhost:8080/",
          "height": 283
        }
      },
      "execution_count": 62,
      "outputs": [
        {
          "output_type": "execute_result",
          "data": {
            "text/plain": [
              "<matplotlib.collections.PathCollection at 0x7f62f2211ee0>"
            ]
          },
          "metadata": {},
          "execution_count": 62
        },
        {
          "output_type": "display_data",
          "data": {
            "text/plain": [
              "<Figure size 432x288 with 1 Axes>"
            ],
            "image/png": "[encoded data removed]"
          },
          "metadata": {
            "needs_background": "light"
          }
        }
      ]
    },
    {
      "cell_type": "code",
      "source": [
        "plt.hist(sample[:, 1], density = True, bins = 100); ### cross sections"
      ],
      "metadata": {
        "id": "X2BFyzMaKi6o",
        "outputId": "744ee902-c812-4f1e-f64f-b92338d4d0de",
        "colab": {
          "base_uri": "https://localhost:8080/",
          "height": 265
        }
      },
      "execution_count": 57,
      "outputs": [
        {
          "output_type": "display_data",
          "data": {
            "text/plain": [
              "<Figure size 432x288 with 1 Axes>"
            ],
            "image/png": "[encoded data removed]"
          },
          "metadata": {
            "needs_background": "light"
          }
        }
      ]
    },
    {
      "cell_type": "code",
      "source": [
        "###  What do we need???\n",
        "### A mean vector, and symmetric positive definite matrix.\n",
        "mu = np.random.rand(2) ### picking a random vector\n",
        "cov = np.ones(2)\n",
        "RV = stats.multivariate_normal(mean = mu, cov = cov)\n",
        "sample = RV.rvs(1000)\n",
        "plt.scatter(sample[:, 0], sample[:, 1])"
      ],
      "metadata": {
        "id": "lPhCAT6PkfLC",
        "outputId": "e6803d40-f8ba-42bf-b914-8dbfb443201c",
        "colab": {
          "base_uri": "https://localhost:8080/",
          "height": 283
        }
      },
      "execution_count": 58,
      "outputs": [
        {
          "output_type": "execute_result",
          "data": {
            "text/plain": [
              "<matplotlib.collections.PathCollection at 0x7f62f205bb80>"
            ]
          },
          "metadata": {},
          "execution_count": 58
        },
        {
          "output_type": "display_data",
          "data": {
            "text/plain": [
              "<Figure size 432x288 with 1 Axes>"
            ],
            "image/png": "[encoded data removed]"
          },
          "metadata": {
            "needs_background": "light"
          }
        }
      ]
    },
    {
      "cell_type": "markdown",
      "source": [
        "# How to draw samples from $N_d(\\mu, \\Sigma)$?"
      ],
      "metadata": {
        "id": "JHP1qZm3lxri"
      }
    },
    {
      "cell_type": "code",
      "source": [
        "mu = np.random.randn(2)\n",
        "x = np.random.randn(2,2)\n",
        "sigma = x @ x.T"
      ],
      "metadata": {
        "id": "DkR__D_pl1-T"
      },
      "execution_count": 89,
      "outputs": []
    },
    {
      "cell_type": "code",
      "source": [
        "### We would like to draw samples from N_2(mu, sigma)"
      ],
      "metadata": {
        "id": "IkU6LLcYnIwP"
      },
      "execution_count": 83,
      "outputs": []
    },
    {
      "cell_type": "code",
      "source": [
        "Z = np.random.randn(1000, 2) ###This is sample from normal distribution"
      ],
      "metadata": {
        "id": "NVpUal_znDKz"
      },
      "execution_count": 90,
      "outputs": []
    },
    {
      "cell_type": "code",
      "source": [
        "H = np.linalg.cholesky(sigma)\n",
        "Q = H.T"
      ],
      "metadata": {
        "id": "lAUxXY5nngUv"
      },
      "execution_count": 91,
      "outputs": []
    },
    {
      "cell_type": "code",
      "source": [
        "Q"
      ],
      "metadata": {
        "id": "jarEcCIMnout",
        "outputId": "349698ba-710f-4fa2-9a13-3bf432e6edee",
        "colab": {
          "base_uri": "https://localhost:8080/"
        }
      },
      "execution_count": 88,
      "outputs": [
        {
          "output_type": "execute_result",
          "data": {
            "text/plain": [
              "array([[ 1.73092611, -0.18515543],\n",
              "       [ 0.        ,  1.29024228]])"
            ]
          },
          "metadata": {},
          "execution_count": 88
        }
      ]
    },
    {
      "cell_type": "code",
      "source": [
        "Q.T @ Q  ### this is matrix multiplication"
      ],
      "metadata": {
        "id": "u8GCIPyPnwjc",
        "outputId": "1c3f0e59-480a-4acd-95c8-50bf0f7c6564",
        "colab": {
          "base_uri": "https://localhost:8080/"
        }
      },
      "execution_count": 92,
      "outputs": [
        {
          "output_type": "execute_result",
          "data": {
            "text/plain": [
              "array([[0.94604724, 0.90635605],\n",
              "       [0.90635605, 3.22185266]])"
            ]
          },
          "metadata": {},
          "execution_count": 92
        }
      ]
    },
    {
      "cell_type": "code",
      "source": [
        "sample = Z @ Q + mu  ##I used here broadcasting"
      ],
      "metadata": {
        "id": "AIgSEputn2dM"
      },
      "execution_count": 93,
      "outputs": []
    },
    {
      "cell_type": "code",
      "source": [
        "plt.scatter(sample[:, 0], sample[:, 1])"
      ],
      "metadata": {
        "id": "syZExtM_oG3Z",
        "outputId": "1806f1c3-b800-402c-e416-90c382908119",
        "colab": {
          "base_uri": "https://localhost:8080/",
          "height": 283
        }
      },
      "execution_count": 94,
      "outputs": [
        {
          "output_type": "execute_result",
          "data": {
            "text/plain": [
              "<matplotlib.collections.PathCollection at 0x7f62f2100490>"
            ]
          },
          "metadata": {},
          "execution_count": 94
        },
        {
          "output_type": "display_data",
          "data": {
            "text/plain": [
              "<Figure size 432x288 with 1 Axes>"
            ],
            "image/png": "[encoded data removed]"
          },
          "metadata": {
            "needs_background": "light"
          }
        }
      ]
    }
  ]
}