{
 "cells": [
  {
   "cell_type": "code",
   "execution_count": 14,
   "id": "11bdbcdf",
   "metadata": {},
   "outputs": [],
   "source": [
    "import numpy as np\n",
    "import scipy\n",
    "from scipy import stats\n",
    "from matplotlib import pyplot as plt"
   ]
  },
  {
   "cell_type": "code",
   "execution_count": 218,
   "id": "a5428d9f",
   "metadata": {},
   "outputs": [],
   "source": [
    "rv = stats.norm(2, 4)"
   ]
  },
  {
   "cell_type": "code",
   "execution_count": 219,
   "id": "27987c32",
   "metadata": {},
   "outputs": [],
   "source": [
    "data = rv.rvs(size = 150)"
   ]
  },
  {
   "cell_type": "code",
   "execution_count": 220,
   "id": "dbbc4455",
   "metadata": {},
   "outputs": [
    {
     "data": {
      "text/plain": [
       "4.0"
      ]
     },
     "execution_count": 220,
     "metadata": {},
     "output_type": "execute_result"
    }
   ],
   "source": [
    "rv.std()  ### this is our population standard deviation"
   ]
  },
  {
   "cell_type": "code",
   "execution_count": 221,
   "id": "f5907ecf",
   "metadata": {},
   "outputs": [
    {
     "data": {
      "text/plain": [
       "3.9040891390399275"
      ]
     },
     "execution_count": 221,
     "metadata": {},
     "output_type": "execute_result"
    }
   ],
   "source": [
    "np.std(data, ddof = 1)"
   ]
  },
  {
   "cell_type": "code",
   "execution_count": 222,
   "id": "e20c47e1",
   "metadata": {},
   "outputs": [],
   "source": [
    "replicate_data = [np.std(np.random.choice(data, size = 150), ddof = 1) for i in range(10000)]\n",
    "replicate_data_ = [np.std(rv.rvs(size = 150), ddof = 1) for i in range(10000)]\n"
   ]
  },
  {
   "cell_type": "code",
   "execution_count": 223,
   "id": "6b4134c3",
   "metadata": {},
   "outputs": [
    {
     "data": {
      "image/png": "[encoded data removed]",
      "text/plain": [
       "<Figure size 432x288 with 1 Axes>"
      ]
     },
     "metadata": {
      "needs_background": "light"
     },
     "output_type": "display_data"
    }
   ],
   "source": [
    "plt.hist(replicate_data_, density = True, bins = 100, label = \"Real distribution\");\n",
    "plt.hist(replicate_data, density = True, bins = 100, label = \"Bootstrap distribution\");\n",
    "plt.legend()\n",
    "plt.show()"
   ]
  },
  {
   "cell_type": "code",
   "execution_count": 224,
   "id": "0a219ad7",
   "metadata": {},
   "outputs": [],
   "source": [
    "data = (data,)"
   ]
  },
  {
   "cell_type": "code",
   "execution_count": 134,
   "id": "cbfa620f",
   "metadata": {},
   "outputs": [],
   "source": [
    "data = data[0]"
   ]
  },
  {
   "cell_type": "code",
   "execution_count": 143,
   "id": "530b9218",
   "metadata": {},
   "outputs": [],
   "source": [
    "std = lambda x, axis: np.std(x, axis, ddof  = 1)"
   ]
  },
  {
   "cell_type": "markdown",
   "metadata": {},
   "source": [
    "See here first!!!\n",
    "https://docs.scipy.org/doc/scipy/reference/generated/scipy.stats.bootstrap.html"
   ]
  },
  {
   "cell_type": "code",
   "execution_count": 144,
   "id": "046d7123",
   "metadata": {},
   "outputs": [],
   "source": [
    "bootstrap_ = scipy.stats.bootstrap(data, std)"
   ]
  },
  {
   "cell_type": "code",
   "execution_count": 148,
   "id": "5ac5c6b8",
   "metadata": {},
   "outputs": [
    {
     "data": {
      "text/plain": [
       "3.6393205607570893"
      ]
     },
     "execution_count": 148,
     "metadata": {},
     "output_type": "execute_result"
    }
   ],
   "source": [
    "bootstrap_.confidence_interval"
   ]
  },
  {
   "cell_type": "code",
   "execution_count": 215,
   "id": "df115db5",
   "metadata": {},
   "outputs": [
    {
     "name": "stdout",
     "output_type": "stream",
     "text": [
      "ConfidenceInterval(low=3.473918262024633, high=3.4948618322473153) of percentile 95% confidence interval\n",
      "ConfidenceInterval(low=3.50718438443547, high=3.5283952482353036) of basic 95% confidence interval\n",
      "ConfidenceInterval(low=3.5061479174451717, high=3.5279282463391555) of bca 95% confidence interval\n"
     ]
    }
   ],
   "source": [
    "for method in {\"percentile\", \"basic\", \"bca\"}:\n",
    "    bootstrap_ = scipy.stats.bootstrap(data, std, method = method, confidence_level= 0.05)\n",
    "    print(f\"{bootstrap_.confidence_interval} of {method} 95% confidence interval\")"
   ]
  },
  {
   "cell_type": "code",
   "execution_count": 201,
   "id": "3a73077c",
   "metadata": {},
   "outputs": [],
   "source": [
    "import tqdm"
   ]
  },
  {
   "cell_type": "code",
   "execution_count": 216,
   "id": "135e77d0",
   "metadata": {},
   "outputs": [
    {
     "name": "stderr",
     "output_type": "stream",
     "text": [
      "  0%|                                                                                         | 0/1000 [00:00<?, ?it/s]"
     ]
    }
   ],
   "source": [
    "N = 1000\n",
    "count = 0\n",
    "range_ = tqdm.tqdm(range(N))"
   ]
  },
  {
   "cell_type": "code",
   "execution_count": 217,
   "id": "76bf660b",
   "metadata": {},
   "outputs": [
    {
     "name": "stderr",
     "output_type": "stream",
     "text": [
      "100%|██████████████████████████████████████████████████████████████████████████████| 1000/1000 [00:45<00:00, 22.01it/s]"
     ]
    },
    {
     "name": "stdout",
     "output_type": "stream",
     "text": [
      "We have an 0.944 confidence\n"
     ]
    },
    {
     "name": "stderr",
     "output_type": "stream",
     "text": [
      "\n"
     ]
    }
   ],
   "source": [
    "for i in range_:\n",
    "\n",
    "    data = rv.rvs(size = 150)\n",
    "    data = (data,)\n",
    "    bootstrap_ = scipy.stats.bootstrap(data, std, method = \"basic\", confidence_level = 0.95)\n",
    "    U = bootstrap_.confidence_interval.high\n",
    "    L = bootstrap_.confidence_interval.low\n",
    "    if L <= 4.0 <= U:\n",
    "        count += 1\n",
    "print(f\"We have an {count/N} confidence\")    "
   ]
  },
  {
   "cell_type": "code",
   "execution_count": null,
   "id": "46f2b4bf",
   "metadata": {},
   "outputs": [],
   "source": []
  },
  {
   "cell_type": "markdown",
   "id": "f841f4de",
   "metadata": {},
   "source": [
    "## Some  Markov Stuff"
   ]
  },
  {
   "cell_type": "code",
   "execution_count": 226,
   "id": "425bd0ef",
   "metadata": {},
   "outputs": [],
   "source": [
    "tp = np.array([[0.6, 0.3, 0.1], [0.5, 0.3, 0.2], [.2, .1, .7]])"
   ]
  },
  {
   "cell_type": "code",
   "execution_count": 231,
   "id": "7381250a",
   "metadata": {},
   "outputs": [],
   "source": [
    "def power(td, n):\n",
    "    temp = td\n",
    "    for _ in range(n-1):\n",
    "        temp = temp @ td\n",
    "    return temp"
   ]
  },
  {
   "cell_type": "code",
   "execution_count": 236,
   "id": "29440428",
   "metadata": {},
   "outputs": [
    {
     "data": {
      "text/plain": [
       "array([[0.45238095, 0.23809524, 0.30952381],\n",
       "       [0.45238095, 0.23809524, 0.30952381],\n",
       "       [0.45238095, 0.23809524, 0.30952381]])"
      ]
     },
     "execution_count": 236,
     "metadata": {},
     "output_type": "execute_result"
    }
   ],
   "source": [
    "power(tp, 10000)"
   ]
  }
 ],
 "metadata": {
  "kernelspec": {
   "display_name": "Python 3 (ipykernel)",
   "language": "python",
   "name": "python3"
  },
  "language_info": {
   "codemirror_mode": {
    "name": "ipython",
    "version": 3
   },
   "file_extension": ".py",
   "mimetype": "text/x-python",
   "name": "python",
   "nbconvert_exporter": "python",
   "pygments_lexer": "ipython3",
   "version": "3.9.12"
  }
 },
 "nbformat": 4,
 "nbformat_minor": 5
}
