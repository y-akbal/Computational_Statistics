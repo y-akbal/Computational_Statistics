{
 "cells": [
  {
   "cell_type": "markdown",
   "id": "652b0b01",
   "metadata": {},
   "source": [
    "[![Open in Colab](https://colab.research.google.com/assets/colab-badge.svg)](https://colab.research.google.com/github/y-akbal/Tedu_Computational_Statistics/blob/main/11/knn_test.ipynb)"
   ]
  },
  {
   "cell_type": "markdown",
   "id": "3feec2ac",
   "metadata": {},
   "source": [
    "## Bootstrap Error"
   ]
  },
  {
   "cell_type": "code",
   "execution_count": 1,
   "id": "e1e62ce7",
   "metadata": {},
   "outputs": [],
   "source": [
    "import sklearn\n",
    "from sklearn.datasets import load_digits\n",
    "from sklearn.model_selection import train_test_split\n",
    "import concurrent\n",
    "from sklearn.neighbors import KNeighborsClassifier\n",
    "import numpy as np"
   ]
  },
  {
   "cell_type": "code",
   "execution_count": 2,
   "id": "ac1bc928",
   "metadata": {},
   "outputs": [],
   "source": [
    "X, y = load_digits(return_X_y = True)"
   ]
  },
  {
   "cell_type": "code",
   "execution_count": 3,
   "id": "ad4d76e1",
   "metadata": {},
   "outputs": [],
   "source": [
    "X_train, X_test, y_train, y_test = train_test_split(X,y)"
   ]
  },
  {
   "cell_type": "code",
   "execution_count": 7,
   "id": "83e412be",
   "metadata": {},
   "outputs": [],
   "source": [
    "knn = KNeighborsClassifier()"
   ]
  },
  {
   "cell_type": "code",
   "execution_count": 8,
   "id": "1a5bdeec",
   "metadata": {},
   "outputs": [],
   "source": [
    "def return_bootstrap(X_train, y_train):\n",
    "    len_ = X_train.shape[0]\n",
    "    indices = np.array([i for i in range(len_)])\n",
    "    indice = np.random.choice(indices, size = len(indices),replace = True).reshape(-1)\n",
    "    return X_train[indice], y_train[indice], indice\n",
    "X_train_b, y_train_b, indice = return_bootstrap(X_train, y_train)"
   ]
  },
  {
   "cell_type": "code",
   "execution_count": 9,
   "id": "66293fd5",
   "metadata": {},
   "outputs": [],
   "source": [
    "L = []\n",
    "for i in range(1000):\n",
    "    X_train_b, y_train_b, indice = return_bootstrap(X_train, y_train)\n",
    "    knn.fit(X_train_b, y_train_b)\n",
    "    L.append(knn.score(X_test, y_test))"
   ]
  },
  {
   "cell_type": "code",
   "execution_count": 10,
   "id": "5d342bc0",
   "metadata": {},
   "outputs": [
    {
     "data": {
      "text/plain": [
       "0.9840133333333333"
      ]
     },
     "execution_count": 10,
     "metadata": {},
     "output_type": "execute_result"
    }
   ],
   "source": [
    "np.mean(L)"
   ]
  },
  {
   "cell_type": "code",
   "execution_count": 11,
   "id": "d12579b0",
   "metadata": {},
   "outputs": [],
   "source": [
    "R = []\n",
    "knn = KNeighborsClassifier(n_neighbors= 10)\n",
    "for i in range(1000):\n",
    "    X_train_b, y_train_b, indice = return_bootstrap(X_train, y_train)\n",
    "    knn.fit(X_train_b, y_train_b)\n",
    "    R.append(knn.score(X_test, y_test))"
   ]
  },
  {
   "cell_type": "code",
   "execution_count": 83,
   "id": "bd8b951a",
   "metadata": {},
   "outputs": [
    {
     "data": {
      "text/plain": [
       "0.9754688888888889"
      ]
     },
     "execution_count": 83,
     "metadata": {},
     "output_type": "execute_result"
    }
   ],
   "source": [
    "np.mean(R)"
   ]
  },
  {
   "cell_type": "markdown",
   "id": "d9762fd9",
   "metadata": {},
   "source": [
    "## One-leave-out error:"
   ]
  },
  {
   "cell_type": "code",
   "execution_count": 35,
   "id": "d82f4fb5",
   "metadata": {},
   "outputs": [],
   "source": [
    "def one_leave_out_indice(X_train, y_train):\n",
    "    assert len(X_train) == len(y_train)\n",
    "    N = X_train.shape[0]\n",
    "    \n",
    "    indice = [i for i in range(N)]\n",
    "    for i in range(1, N-1):\n",
    "        train, test = np.array(indice[:i]+indice[i+1:], dtype = np.int32), np.array([i])\n",
    "        yield X_train[train], y_train[train], X_train[test], y_train[test]"
   ]
  },
  {
   "cell_type": "code",
   "execution_count": 39,
   "id": "d10ad71e",
   "metadata": {},
   "outputs": [],
   "source": [
    "R = []\n",
    "gen = one_leave_out_indice(X_train, y_train)\n",
    "knn = KNeighborsClassifier(n_neighbors= 3)\n",
    "for X_train, y_train, X_test, y_test in gen:\n",
    "    knn.fit(X_train, y_train)\n",
    "    R.append(knn.score(X_test, y_test))"
   ]
  },
  {
   "cell_type": "code",
   "execution_count": 41,
   "id": "69c7527f",
   "metadata": {},
   "outputs": [
    {
     "data": {
      "text/plain": [
       "0.9851079672375279"
      ]
     },
     "execution_count": 41,
     "metadata": {},
     "output_type": "execute_result"
    }
   ],
   "source": [
    "np.mean(R)"
   ]
  },
  {
   "cell_type": "code",
   "execution_count": 42,
   "id": "86a8c53c",
   "metadata": {},
   "outputs": [
    {
     "data": {
      "text/plain": [
       "0.981371087928465"
      ]
     },
     "execution_count": 42,
     "metadata": {},
     "output_type": "execute_result"
    }
   ],
   "source": [
    "R = []\n",
    "gen = one_leave_out_indice(X_train, y_train)\n",
    "knn = KNeighborsClassifier(n_neighbors= 7)\n",
    "for X_train, y_train, X_test, y_test in gen:\n",
    "    knn.fit(X_train, y_train)\n",
    "    R.append(knn.score(X_test, y_test))\n",
    "np.mean(R)"
   ]
  },
  {
   "cell_type": "markdown",
   "id": "a5cc4bf7",
   "metadata": {},
   "source": [
    "# K - fold cross-validation"
   ]
  },
  {
   "cell_type": "code",
   "execution_count": 51,
   "id": "a65d15d9",
   "metadata": {},
   "outputs": [],
   "source": [
    "def k_fold_indices(X_train, y_train, fold = 5):\n",
    "    # your code"
   ]
  }
 ],
 "metadata": {
  "kernelspec": {
   "display_name": "Python 3 (ipykernel)",
   "language": "python",
   "name": "python3"
  },
  "language_info": {
   "codemirror_mode": {
    "name": "ipython",
    "version": 3
   },
   "file_extension": ".py",
   "mimetype": "text/x-python",
   "name": "python",
   "nbconvert_exporter": "python",
   "pygments_lexer": "ipython3",
   "version": "3.9.12"
  }
 },
 "nbformat": 4,
 "nbformat_minor": 5
}
