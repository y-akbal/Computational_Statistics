{
 "cells": [
  {
   "cell_type": "markdown",
   "id": "c87dc950",
   "metadata": {},
   "source": [
    "[![Open in Colab](https://colab.research.google.com/assets/colab-badge.svg)](https://colab.research.google.com/github/y-akbal/Tedu_Computational_Statistics/blob/main/11/ALE.ipynb)"
   ]
  },
  {
   "cell_type": "code",
   "execution_count": 1,
   "id": "533892d2",
   "metadata": {},
   "outputs": [],
   "source": [
    "import matplotlib.pyplot as plt\n",
    "import numpy as np\n",
    "import scipy\n",
    "from scipy import stats\n",
    "import requests\n",
    "import pandas as pd"
   ]
  },
  {
   "cell_type": "code",
   "execution_count": 2,
   "id": "0ee1000a",
   "metadata": {},
   "outputs": [],
   "source": [
    "def download_data():  ### This dude will download the dataset from the directory directly!\n",
    "  url = \"https://raw.githubusercontent.com/y-akbal/Computational_Statistics/main/11/dataset.csv\"\n",
    "  res = requests.get(url, allow_redirects=True)\n",
    "  with open('dataset.csv','wb') as file:\n",
    "    file.write(res.content)\n",
    "download_data()  "
   ]
  },
  {
   "cell_type": "code",
   "execution_count": 29,
   "id": "61ef1751",
   "metadata": {},
   "outputs": [],
   "source": [
    "dataset = pd.read_csv(\"dataset.csv\")[: 100]"
   ]
  },
  {
   "cell_type": "markdown",
   "id": "f9e221e1",
   "metadata": {},
   "source": [
    "## Some Exploratory Data Analysis"
   ]
  },
  {
   "cell_type": "code",
   "execution_count": null,
   "id": "0ae46e38",
   "metadata": {},
   "outputs": [],
   "source": [
    "## What is the average citric acidity?\n",
    "## What is the maximum citric acidity obverved?\n",
    "## What is the average density?"
   ]
  },
  {
   "cell_type": "markdown",
   "id": "8bbed582",
   "metadata": {},
   "source": [
    "# Bootstrap Questions\n"
   ]
  },
  {
   "cell_type": "code",
   "execution_count": 16,
   "id": "7a06540e",
   "metadata": {
    "scrolled": true
   },
   "outputs": [],
   "source": [
    "## A researcher wants to find out a possible correlation between citric acid and density of some wine samples\n",
    "## 1) What is the correlation between these two features?\n",
    "## 2) What is the bootstrap standard error that you make in calculating this error?\n",
    "## 3) What do you think about a possible bias in your estimation? overestimate or underestimate?"
   ]
  },
  {
   "cell_type": "markdown",
   "id": "ecd1faa5",
   "metadata": {},
   "source": [
    "## Jackknife Questions:"
   ]
  },
  {
   "cell_type": "code",
   "execution_count": null,
   "id": "fec99095",
   "metadata": {},
   "outputs": [],
   "source": [
    "## 1) What is the Jackknife standard error that you make in calculating this error?\n",
    "## 2) What do you think about a possible bias in your estimation? overestimate or underestimate?"
   ]
  },
  {
   "cell_type": "markdown",
   "id": "72cca605",
   "metadata": {},
   "source": [
    "# Quality of Wine is Determined by the following farmula:\n",
    "# A = 0.06*fixed acidity -0.08*volatile acidity + 0.36*citric acid \t-0.02*residual sugar +1.75*chlorides -0.0003*free sulfur dioxide \t-0.004*total sulfur dioxide \t-29.5*density \t0.73*pH \t1.21*sulphates + 0.27*Alcohol + 28.6714363881711\n",
    "\n",
    "# According to this formula which wine is better? \n",
    "# What is the average quality?\n",
    "# Do some bootstrap to see..."
   ]
  },
  {
   "cell_type": "code",
   "execution_count": null,
   "id": "6ec9495d",
   "metadata": {},
   "outputs": [],
   "source": []
  }
 ],
 "metadata": {
  "kernelspec": {
   "display_name": "Python 3 (ipykernel)",
   "language": "python",
   "name": "python3"
  },
  "language_info": {
   "codemirror_mode": {
    "name": "ipython",
    "version": 3
   },
   "file_extension": ".py",
   "mimetype": "text/x-python",
   "name": "python",
   "nbconvert_exporter": "python",
   "pygments_lexer": "ipython3",
   "version": "3.10.12"
  }
 },
 "nbformat": 4,
 "nbformat_minor": 5
}
