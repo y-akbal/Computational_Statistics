{
 "cells": [
  {
   "cell_type": "markdown",
   "metadata": {
    "id": "xIZvfK-qXCp7"
   },
   "source": [
    "[![Open in Colab](https://colab.research.google.com/assets/colab-badge.svg)](https://colab.research.google.com/github/y-akbal/Tedu_Computational_Statistics/blob/main/1/W1P2.ipynb)\n",
    "\n"
   ]
  },
  {
   "cell_type": "code",
   "execution_count": 1,
   "metadata": {
    "id": "FAolpm-NaIaE"
   },
   "outputs": [
    {
     "ename": "ModuleNotFoundError",
     "evalue": "No module named 'numpy'",
     "output_type": "error",
     "traceback": [
      "\u001b[1;31m---------------------------------------------------------------------------\u001b[0m",
      "\u001b[1;31mModuleNotFoundError\u001b[0m                       Traceback (most recent call last)",
      "Cell \u001b[1;32mIn[1], line 1\u001b[0m\n\u001b[1;32m----> 1\u001b[0m \u001b[38;5;28;01mimport\u001b[39;00m \u001b[38;5;21;01mnumpy\u001b[39;00m \u001b[38;5;28;01mas\u001b[39;00m \u001b[38;5;21;01mnp\u001b[39;00m\n\u001b[0;32m      2\u001b[0m \u001b[38;5;28;01mimport\u001b[39;00m \u001b[38;5;21;01mscipy\u001b[39;00m  \n\u001b[0;32m      3\u001b[0m \u001b[38;5;28;01mimport\u001b[39;00m \u001b[38;5;21;01mmatplotlib\u001b[39;00m\u001b[38;5;21;01m.\u001b[39;00m\u001b[38;5;21;01mpyplot\u001b[39;00m \u001b[38;5;28;01mas\u001b[39;00m \u001b[38;5;21;01mplt\u001b[39;00m\n",
      "\u001b[1;31mModuleNotFoundError\u001b[0m: No module named 'numpy'"
     ]
    }
   ],
   "source": [
    "import numpy as np\n",
    "import scipy  \n",
    "import matplotlib.pyplot as plt"
   ]
  },
  {
   "cell_type": "markdown",
   "metadata": {
    "id": "jmPQy0YRXB9-"
   },
   "source": []
  },
  {
   "cell_type": "code",
   "execution_count": null,
   "metadata": {
    "colab": {
     "base_uri": "https://localhost:8080/"
    },
    "id": "IQv-NiTDt2a_",
    "outputId": "431a41aa-6162-49bb-854c-cbf50f55eba6"
   },
   "outputs": [
    {
     "data": {
      "text/plain": [
       "['BitGenerator',\n",
       " 'Generator',\n",
       " 'MT19937',\n",
       " 'PCG64',\n",
       " 'PCG64DXSM',\n",
       " 'Philox',\n",
       " 'RandomState',\n",
       " 'SFC64',\n",
       " 'SeedSequence',\n",
       " '__RandomState_ctor',\n",
       " '__all__',\n",
       " '__builtins__',\n",
       " '__cached__',\n",
       " '__doc__',\n",
       " '__file__',\n",
       " '__loader__',\n",
       " '__name__',\n",
       " '__package__',\n",
       " '__path__',\n",
       " '__spec__',\n",
       " '_bounded_integers',\n",
       " '_common',\n",
       " '_generator',\n",
       " '_mt19937',\n",
       " '_pcg64',\n",
       " '_philox',\n",
       " '_pickle',\n",
       " '_sfc64',\n",
       " 'beta',\n",
       " 'binomial',\n",
       " 'bit_generator',\n",
       " 'bytes',\n",
       " 'chisquare',\n",
       " 'choice',\n",
       " 'default_rng',\n",
       " 'dirichlet',\n",
       " 'exponential',\n",
       " 'f',\n",
       " 'gamma',\n",
       " 'geometric',\n",
       " 'get_state',\n",
       " 'gumbel',\n",
       " 'hypergeometric',\n",
       " 'laplace',\n",
       " 'logistic',\n",
       " 'lognormal',\n",
       " 'logseries',\n",
       " 'mtrand',\n",
       " 'multinomial',\n",
       " 'multivariate_normal',\n",
       " 'negative_binomial',\n",
       " 'noncentral_chisquare',\n",
       " 'noncentral_f',\n",
       " 'normal',\n",
       " 'pareto',\n",
       " 'permutation',\n",
       " 'poisson',\n",
       " 'power',\n",
       " 'rand',\n",
       " 'randint',\n",
       " 'randn',\n",
       " 'random',\n",
       " 'random_integers',\n",
       " 'random_sample',\n",
       " 'ranf',\n",
       " 'rayleigh',\n",
       " 'sample',\n",
       " 'seed',\n",
       " 'set_state',\n",
       " 'shuffle',\n",
       " 'standard_cauchy',\n",
       " 'standard_exponential',\n",
       " 'standard_gamma',\n",
       " 'standard_normal',\n",
       " 'standard_t',\n",
       " 'test',\n",
       " 'triangular',\n",
       " 'uniform',\n",
       " 'vonmises',\n",
       " 'wald',\n",
       " 'weibull',\n",
       " 'zipf']"
      ]
     },
     "execution_count": 2,
     "metadata": {},
     "output_type": "execute_result"
    }
   ],
   "source": [
    "dir(np.random)"
   ]
  },
  {
   "cell_type": "code",
   "execution_count": null,
   "metadata": {
    "colab": {
     "base_uri": "https://localhost:8080/",
     "height": 1000
    },
    "id": "e3HITG2Vt3ig",
    "outputId": "aa98d9df-0ea3-4271-bde1-cd38e5c1ecb0"
   },
   "outputs": [
    {
     "data": {
      "text/plain": [
       "(array([1.12011231, 0.84008424, 0.90009025, 1.00010028, 1.01010128,\n",
       "        0.94009426, 0.85008524, 1.05010529, 1.0601063 , 0.92009226,\n",
       "        0.89008925, 1.02010229, 0.99009928, 0.81008123, 0.95009527,\n",
       "        1.04010429, 1.17011733, 0.98009827, 0.98009827, 0.83008323,\n",
       "        0.96009627, 0.88008825, 0.97009727, 1.0601063 , 1.04010429,\n",
       "        1.0601063 , 1.19011933, 0.99009928, 0.97009727, 1.03010329,\n",
       "        1.04010429, 0.98009827, 0.94009426, 1.0701073 , 1.02010229,\n",
       "        0.98009827, 0.95009527, 1.02010229, 0.93009326, 1.02010229,\n",
       "        0.97009727, 0.99009928, 1.11011131, 0.99009928, 1.0801083 ,\n",
       "        1.0701073 , 1.04010429, 1.13011332, 0.80008022, 1.05010529,\n",
       "        0.97009727, 1.0801083 , 0.84008424, 0.93009326, 1.02010229,\n",
       "        1.0601063 , 0.91009125, 1.0801083 , 1.09010931, 1.17011733,\n",
       "        1.01010128, 1.10011031, 0.92009226, 1.13011332, 0.80008022,\n",
       "        1.03010329, 0.87008724, 1.03010329, 1.14011432, 0.93009326,\n",
       "        0.91009125, 0.92009226, 0.95009527, 0.84008424, 0.97009727,\n",
       "        1.14011432, 0.74007421, 0.92009226, 1.13011332, 0.89008925,\n",
       "        0.92009226, 1.15011532, 1.11011131, 0.97009727, 1.13011332,\n",
       "        1.03010329, 1.17011733, 1.00010028, 1.05010529, 1.04010429,\n",
       "        1.03010329, 0.89008925, 0.86008624, 1.0701073 , 0.90009025,\n",
       "        1.12011231, 1.04010429, 0.99009928, 1.21012134, 1.12011231]),\n",
       " array([7.21649647e-05, 1.00711623e-02, 2.00701596e-02, 3.00691569e-02,\n",
       "        4.00681542e-02, 5.00671515e-02, 6.00661488e-02, 7.00651461e-02,\n",
       "        8.00641434e-02, 9.00631407e-02, 1.00062138e-01, 1.10061135e-01,\n",
       "        1.20060133e-01, 1.30059130e-01, 1.40058127e-01, 1.50057124e-01,\n",
       "        1.60056122e-01, 1.70055119e-01, 1.80054116e-01, 1.90053114e-01,\n",
       "        2.00052111e-01, 2.10051108e-01, 2.20050106e-01, 2.30049103e-01,\n",
       "        2.40048100e-01, 2.50047098e-01, 2.60046095e-01, 2.70045092e-01,\n",
       "        2.80044089e-01, 2.90043087e-01, 3.00042084e-01, 3.10041081e-01,\n",
       "        3.20040079e-01, 3.30039076e-01, 3.40038073e-01, 3.50037071e-01,\n",
       "        3.60036068e-01, 3.70035065e-01, 3.80034062e-01, 3.90033060e-01,\n",
       "        4.00032057e-01, 4.10031054e-01, 4.20030052e-01, 4.30029049e-01,\n",
       "        4.40028046e-01, 4.50027044e-01, 4.60026041e-01, 4.70025038e-01,\n",
       "        4.80024035e-01, 4.90023033e-01, 5.00022030e-01, 5.10021027e-01,\n",
       "        5.20020025e-01, 5.30019022e-01, 5.40018019e-01, 5.50017017e-01,\n",
       "        5.60016014e-01, 5.70015011e-01, 5.80014008e-01, 5.90013006e-01,\n",
       "        6.00012003e-01, 6.10011000e-01, 6.20009998e-01, 6.30008995e-01,\n",
       "        6.40007992e-01, 6.50006990e-01, 6.60005987e-01, 6.70004984e-01,\n",
       "        6.80003981e-01, 6.90002979e-01, 7.00001976e-01, 7.10000973e-01,\n",
       "        7.19999971e-01, 7.29998968e-01, 7.39997965e-01, 7.49996963e-01,\n",
       "        7.59995960e-01, 7.69994957e-01, 7.79993955e-01, 7.89992952e-01,\n",
       "        7.99991949e-01, 8.09990946e-01, 8.19989944e-01, 8.29988941e-01,\n",
       "        8.39987938e-01, 8.49986936e-01, 8.59985933e-01, 8.69984930e-01,\n",
       "        8.79983928e-01, 8.89982925e-01, 8.99981922e-01, 9.09980919e-01,\n",
       "        9.19979917e-01, 9.29978914e-01, 9.39977911e-01, 9.49976909e-01,\n",
       "        9.59975906e-01, 9.69974903e-01, 9.79973901e-01, 9.89972898e-01,\n",
       "        9.99971895e-01]),\n",
       " <a list of 100 Patch objects>)"
      ]
     },
     "execution_count": 3,
     "metadata": {},
     "output_type": "execute_result"
    },
    {
     "data": {
      "image/png": "[encoded data removed]",
      "text/plain": [
       "<Figure size 432x288 with 1 Axes>"
      ]
     },
     "metadata": {
      "needs_background": "light"
     },
     "output_type": "display_data"
    }
   ],
   "source": [
    "T = np.random.uniform(size = 10000)\n",
    "plt.hist(T, bins = 100, density = True)"
   ]
  },
  {
   "cell_type": "code",
   "execution_count": null,
   "metadata": {
    "colab": {
     "base_uri": "https://localhost:8080/"
    },
    "id": "PNkExdQ9aT2w",
    "outputId": "454d7275-0df8-4e71-8dec-6ca924df8159"
   },
   "outputs": [
    {
     "name": "stdout",
     "output_type": "stream",
     "text": [
      "0.028814527268129626\n",
      "0.4998164380465101\n"
     ]
    }
   ],
   "source": [
    "T = [np.mean(scipy.random.uniform(0,1, size = 100)) for _ in range(40000)]\n",
    "print(np.std(T))\n",
    "print(np.mean(T))"
   ]
  },
  {
   "cell_type": "code",
   "execution_count": null,
   "metadata": {
    "colab": {
     "base_uri": "https://localhost:8080/"
    },
    "id": "jd9FAdMBanfQ",
    "outputId": "b0e2c9db-19d2-42c9-a82c-56933c9cf58b"
   },
   "outputs": [
    {
     "data": {
      "text/plain": [
       "0.999987499921874"
      ]
     },
     "execution_count": 6,
     "metadata": {},
     "output_type": "execute_result"
    }
   ],
   "source": [
    "def normalize(T):\n",
    "  return (np.array(T) - np.mean(T))/(np.std(T, ddof = 1))\n",
    "np.std(normalize(T)) "
   ]
  },
  {
   "cell_type": "code",
   "execution_count": null,
   "metadata": {
    "colab": {
     "base_uri": "https://localhost:8080/",
     "height": 265
    },
    "id": "yBbRFVora33R",
    "outputId": "f981bd2f-7c4b-4902-c01c-5df20605a838"
   },
   "outputs": [
    {
     "data": {
      "image/png": "[encoded data removed]",
      "text/plain": [
       "<Figure size 432x288 with 1 Axes>"
      ]
     },
     "metadata": {
      "needs_background": "light"
     },
     "output_type": "display_data"
    }
   ],
   "source": [
    "plt.hist(normalize(T), bins = 250, density = True, label = \"Fake\")\n",
    "plt.hist(np.random.normal(loc = 0, scale = 1, size = 10000), bins = 250, density = True, label = \"True\")\n",
    "plt.legend()\n",
    "plt.show()"
   ]
  },
  {
   "cell_type": "markdown",
   "metadata": {
    "id": "TOp-Rl5UaKzm"
   },
   "source": [
    "Central Limit Theorem"
   ]
  }
 ],
 "metadata": {
  "colab": {
   "provenance": []
  },
  "kernelspec": {
   "display_name": "Python 3 (ipykernel)",
   "language": "python",
   "name": "python3"
  },
  "language_info": {
   "codemirror_mode": {
    "name": "ipython",
    "version": 3
   },
   "file_extension": ".py",
   "mimetype": "text/x-python",
   "name": "python",
   "nbconvert_exporter": "python",
   "pygments_lexer": "ipython3",
   "version": "3.10.12"
  }
 },
 "nbformat": 4,
 "nbformat_minor": 1
}
