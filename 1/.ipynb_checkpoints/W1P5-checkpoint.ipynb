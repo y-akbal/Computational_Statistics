{
 "cells": [
  {
   "cell_type": "code",
   "execution_count": 1,
   "metadata": {
    "id": "ygOGPsoguzuy"
   },
   "outputs": [],
   "source": [
    "import numpy as np\n",
    "import scipy \n",
    "from scipy import stats\n",
    "from matplotlib import pyplot as plt"
   ]
  },
  {
   "cell_type": "markdown",
   "metadata": {
    "id": "x-RYb6O5u9Et"
   },
   "source": [
    "## Some Normality Tests: Assume that you have a sample that you draw from some population. You now wonder whether this population is normal or not?\n",
    "## There are many ways to check this, 1) Sketch a histogram (works only when your sample size is pretty large)\n",
    "## Apply normality tests\n"
   ]
  },
  {
   "cell_type": "code",
   "execution_count": 2,
   "metadata": {
    "id": "YtGVrcytvWXs"
   },
   "outputs": [],
   "source": [
    "A = np.random.randn(1000)"
   ]
  },
  {
   "cell_type": "code",
   "execution_count": 8,
   "metadata": {
    "colab": {
     "base_uri": "https://localhost:8080/",
     "height": 265
    },
    "id": "bLofykskvZMm",
    "outputId": "55418140-8259-490c-d7fd-86fed15ac271"
   },
   "outputs": [
    {
     "data": {
      "image/png": "[encoded data removed]",
      "text/plain": [
       "<Figure size 432x288 with 1 Axes>"
      ]
     },
     "metadata": {
      "needs_background": "light"
     },
     "output_type": "display_data"
    }
   ],
   "source": [
    "plt.hist(A, density = True, bins = 100);"
   ]
  },
  {
   "cell_type": "code",
   "execution_count": 9,
   "metadata": {
    "colab": {
     "base_uri": "https://localhost:8080/"
    },
    "id": "AttZNLTzvpIT",
    "outputId": "a5d18ac4-eba2-4dde-a047-2ef4db5207a2"
   },
   "outputs": [
    {
     "data": {
      "text/plain": [
       "ShapiroResult(statistic=0.9983698129653931, pvalue=0.47259610891342163)"
      ]
     },
     "execution_count": 9,
     "metadata": {},
     "output_type": "execute_result"
    }
   ],
   "source": [
    "stats.shapiro(A)  ### This dude partially proves that the population is normal."
   ]
  },
  {
   "cell_type": "code",
   "execution_count": 14,
   "metadata": {
    "colab": {
     "base_uri": "https://localhost:8080/"
    },
    "id": "uu7D47d6vIgh",
    "outputId": "cc01f1f0-7689-452e-93ab-920b01af9624"
   },
   "outputs": [
    {
     "data": {
      "text/plain": [
       "KstestResult(statistic=1.0, pvalue=9.50562929272683e-40, statistic_location=3.919371226541711, statistic_sign=1)"
      ]
     },
     "execution_count": 14,
     "metadata": {},
     "output_type": "execute_result"
    }
   ],
   "source": [
    "stats.kstest(np.random.randn(10000), np.random.chisquare(1000, 12))"
   ]
  }
 ],
 "metadata": {
  "colab": {
   "provenance": []
  },
  "kernelspec": {
   "display_name": "Python 3 (ipykernel)",
   "language": "python",
   "name": "python3"
  },
  "language_info": {
   "codemirror_mode": {
    "name": "ipython",
    "version": 3
   },
   "file_extension": ".py",
   "mimetype": "text/x-python",
   "name": "python",
   "nbconvert_exporter": "python",
   "pygments_lexer": "ipython3",
   "version": "3.10.12"
  }
 },
 "nbformat": 4,
 "nbformat_minor": 1
}
