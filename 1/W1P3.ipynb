{
  "cells": [
    {
      "cell_type": "markdown",
      "metadata": {
        "id": "Jq6c0vTaq_Ki"
      },
      "source": [
        "[![Open in Colab](https://colab.research.google.com/assets/colab-badge.svg)](https://colab.research.google.com/github/y-akbal/Tedu_Computational_Statistics/blob/main/1/W1P3.ipynb)\n"
      ]
    },
    {
      "cell_type": "code",
      "execution_count": null,
      "metadata": {
        "id": "LZXH0LLgWX6c"
      },
      "outputs": [],
      "source": [
        "import numpy as np\n",
        "import scipy \n",
        "import matplotlib.pyplot as plt"
      ]
    },
    {
      "cell_type": "markdown",
      "metadata": {
        "id": "vZ5W1p7KWoEv"
      },
      "source": [
        "# ***Let's do some OOP***\n",
        "We create a coin class below. Out of this class we create coing instances with given $p$ values we want."
      ]
    },
    {
      "cell_type": "code",
      "execution_count": 1,
      "metadata": {
        "id": "ITST4sJRWdrs"
      },
      "outputs": [],
      "source": [
        "class coin:\n",
        "  def __init__(self, p = 1/2):\n",
        "    self.p = p\n",
        "  def flip(self):\n",
        "    return np.random.choice([\"heads\", \"tails\"], p = [self.p, 1-self.p])\n",
        "  def flip_n_times(self, n: int, return_results: bool = True):\n",
        "    result = np.random.binomial(1, p = self.p, size = n)\n",
        "    if return_results:\n",
        "      return result\n",
        "    sum_ = sum(result)\n",
        "    return sum_, n-sum_"
      ]
    },
    {
      "cell_type": "code",
      "execution_count": null,
      "metadata": {
        "id": "ybBJsgHuYInP"
      },
      "outputs": [],
      "source": [
        "co = coin(1/2)  #### this dude is an unbiased coin."
      ]
    },
    {
      "cell_type": "code",
      "execution_count": null,
      "metadata": {
        "colab": {
          "base_uri": "https://localhost:8080/"
        },
        "id": "kQ0JrJ1AgJDN",
        "outputId": "d1c26279-6c98-4b4d-bdc4-c2747e99b1e8"
      },
      "outputs": [
        {
          "data": {
            "text/plain": [
              "0.5"
            ]
          },
          "execution_count": 5,
          "metadata": {},
          "output_type": "execute_result"
        }
      ],
      "source": [
        "co.p #### you see an attribute of the object."
      ]
    },
    {
      "cell_type": "code",
      "execution_count": null,
      "metadata": {
        "colab": {
          "base_uri": "https://localhost:8080/"
        },
        "id": "FBfxzxC-YLrO",
        "outputId": "e648d69d-6b4c-407a-9559-c5ab5b95054f"
      },
      "outputs": [
        {
          "data": {
            "text/plain": [
              "(8, 12)"
            ]
          },
          "execution_count": 6,
          "metadata": {},
          "output_type": "execute_result"
        }
      ],
      "source": [
        "co.flip_n_times(20, return_results = False)"
      ]
    },
    {
      "cell_type": "code",
      "execution_count": null,
      "metadata": {
        "id": "PAgdGUnpYMOQ"
      },
      "outputs": [],
      "source": [
        "times = 150\n",
        "T = [co.flip_n_times(times, return_results = False)[0] for _ in range(100000)]\n"
      ]
    },
    {
      "cell_type": "markdown",
      "metadata": {
        "id": "QcNoTAThaL-b"
      },
      "source": [
        "Expected value of Bernoulli Distribution $E(X) = np$, and $\\sigma^2 = np(1-p)$"
      ]
    },
    {
      "cell_type": "code",
      "execution_count": null,
      "metadata": {
        "colab": {
          "base_uri": "https://localhost:8080/"
        },
        "id": "rVcbX5xeZman",
        "outputId": "040d15a7-acc5-4b4f-c84c-3618d6b281de"
      },
      "outputs": [
        {
          "name": "stdout",
          "output_type": "stream",
          "text": [
            "Standard deviation of sample 6.121816256336249. Mean of sample 74.9993\n",
            "The standard deviation of the population is 6.123724356957945, and the mean is 75.0\n"
          ]
        }
      ],
      "source": [
        "print(f\"Standard deviation of sample {np.std(T, ddof = 1)}. Mean of sample {np.mean(T)}\")\n",
        "print(f\"The standard deviation of the population is {np.sqrt(times*(co.p*(1-co.p)))}, and the mean is {times*(co.p)}\")"
      ]
    },
    {
      "cell_type": "markdown",
      "metadata": {
        "id": "xfydYARGagfb"
      },
      "source": [
        "Witness the power of science!"
      ]
    },
    {
      "cell_type": "code",
      "execution_count": null,
      "metadata": {
        "colab": {
          "base_uri": "https://localhost:8080/",
          "height": 647
        },
        "id": "DMX9kvsYaW7U",
        "outputId": "774caed4-b9db-4edb-a6f6-a8abc24b5b1f"
      },
      "outputs": [
        {
          "data": {
            "text/plain": [
              "(array([1.25000e-05, 2.50000e-05, 5.00000e-05, 6.25000e-05, 0.00000e+00,\n",
              "        1.62500e-04, 2.37500e-04, 3.62500e-04, 8.12500e-04, 0.00000e+00,\n",
              "        1.07500e-03, 1.86250e-03, 2.85000e-03, 3.93750e-03, 0.00000e+00,\n",
              "        6.12500e-03, 8.26250e-03, 1.13875e-02, 1.68625e-02, 0.00000e+00,\n",
              "        2.12625e-02, 2.71750e-02, 3.42000e-02, 4.39125e-02, 0.00000e+00,\n",
              "        4.92875e-02, 5.87375e-02, 6.67125e-02, 7.10000e-02, 0.00000e+00,\n",
              "        7.68875e-02, 7.99875e-02, 8.26125e-02, 7.97625e-02, 0.00000e+00,\n",
              "        7.65625e-02, 7.20500e-02, 6.67500e-02, 5.91000e-02, 0.00000e+00,\n",
              "        4.96750e-02, 4.25750e-02, 3.48625e-02, 2.82125e-02, 0.00000e+00,\n",
              "        2.15000e-02, 1.57375e-02, 1.16375e-02, 8.65000e-03, 0.00000e+00,\n",
              "        6.18750e-03, 4.20000e-03, 2.78750e-03, 1.61250e-03, 0.00000e+00,\n",
              "        1.11250e-03, 5.25000e-04, 1.87500e-04, 1.50000e-04, 0.00000e+00,\n",
              "        1.12500e-04, 7.50000e-05, 7.50000e-05, 0.00000e+00, 3.75000e-05]),\n",
              " array([ 49. ,  49.8,  50.6,  51.4,  52.2,  53. ,  53.8,  54.6,  55.4,\n",
              "         56.2,  57. ,  57.8,  58.6,  59.4,  60.2,  61. ,  61.8,  62.6,\n",
              "         63.4,  64.2,  65. ,  65.8,  66.6,  67.4,  68.2,  69. ,  69.8,\n",
              "         70.6,  71.4,  72.2,  73. ,  73.8,  74.6,  75.4,  76.2,  77. ,\n",
              "         77.8,  78.6,  79.4,  80.2,  81. ,  81.8,  82.6,  83.4,  84.2,\n",
              "         85. ,  85.8,  86.6,  87.4,  88.2,  89. ,  89.8,  90.6,  91.4,\n",
              "         92.2,  93. ,  93.8,  94.6,  95.4,  96.2,  97. ,  97.8,  98.6,\n",
              "         99.4, 100.2, 101. ]),\n",
              " <a list of 65 Patch objects>)"
            ]
          },
          "execution_count": 14,
          "metadata": {},
          "output_type": "execute_result"
        },
        {
          "data": {
            "image/png": "[encoded data removed]",
            "text/plain": [
              "<Figure size 432x288 with 1 Axes>"
            ]
          },
          "metadata": {
            "needs_background": "light"
          },
          "output_type": "display_data"
        }
      ],
      "source": [
        "plt.hist(T, density = True, bins = 65)"
      ]
    },
    {
      "cell_type": "markdown",
      "metadata": {
        "id": "mn_Wpm-SayBA"
      },
      "source": []
    },
    {
      "cell_type": "markdown",
      "metadata": {
        "id": "VcaOyLFTazOY"
      },
      "source": [
        "This is just because, if $\\chi$ is Bernoulli random variable, then $P(\\chi < a)$ can be found by normal distribution with mean and variance given above. Remember the meme about central limit theorem. $\\chi$ is a sum of i.i.d random variables.\n",
        "More scientifically, if $\\chi = Bin(n, p)$, and $np(1-p) \\gg 1$, then \n",
        "$$\n",
        "\\chi \\sim N(np, np(1-p)).\n",
        "$$"
      ]
    },
    {
      "cell_type": "markdown",
      "metadata": {
        "id": "k8Ub6F-wd28D"
      },
      "source": [
        "Let's now take an unfair coin say $p = 0.25$ and see if can see something bizzare!"
      ]
    },
    {
      "cell_type": "code",
      "execution_count": null,
      "metadata": {
        "colab": {
          "base_uri": "https://localhost:8080/"
        },
        "id": "QZu1fCrseApc",
        "outputId": "89086e37-cb1d-4789-c53a-1d52cb990f73"
      },
      "outputs": [
        {
          "data": {
            "text/plain": [
              "(36, 114)"
            ]
          },
          "execution_count": 14,
          "metadata": {},
          "output_type": "execute_result"
        }
      ],
      "source": [
        "unfair_con = coin(p = 1/4)\n",
        "unfair_con.flip_n_times(times, return_results = False)"
      ]
    },
    {
      "cell_type": "code",
      "execution_count": null,
      "metadata": {
        "colab": {
          "base_uri": "https://localhost:8080/"
        },
        "id": "mAc8iBEgeF9c",
        "outputId": "ee8af1ec-a23a-4a49-8a25-7a8d87eef98e"
      },
      "outputs": [
        {
          "name": "stdout",
          "output_type": "stream",
          "text": [
            "Standard deviation of sample 5.302739500211189. Mean of sample 37.51827\n",
            "The standard deviation of the population of the fair coin is 6.123724356957945, and the mean of the fair coin is 75.0\n"
          ]
        }
      ],
      "source": [
        "times = 150\n",
        "L = [unfair_con.flip_n_times(times, return_results = False)[0] for _ in range(100000)]\n",
        "\n",
        "print(f\"Standard deviation of sample {np.std(L)}. Mean of sample {np.mean(L)}\")\n",
        "print(f\"The standard deviation of the population of the fair coin is {np.sqrt(times*(1/4))}, and the mean of the fair coin is {times*(1/2)}\")\n"
      ]
    },
    {
      "cell_type": "code",
      "execution_count": null,
      "metadata": {
        "colab": {
          "base_uri": "https://localhost:8080/",
          "height": 265
        },
        "id": "p508W1JNfSEY",
        "outputId": "c2493aed-65ec-44c1-f6f4-9b5669a29b6d"
      },
      "outputs": [
        {
          "data": {
            "image/png": "[encoded data removed]",
            "text/plain": [
              "<Figure size 432x288 with 1 Axes>"
            ]
          },
          "metadata": {
            "needs_background": "light"
          },
          "output_type": "display_data"
        }
      ],
      "source": [
        "plt.hist(T, density = True, bins = 60, label = \"Fair Coin\")\n",
        "plt.hist(L, density = True, bins = 60, label = \"Unfair Coin\")\n",
        "plt.legend()\n",
        "plt.show()"
      ]
    },
    {
      "cell_type": "markdown",
      "metadata": {
        "id": "wREUR6Ngketr"
      },
      "source": [
        "Let's get back to the question: Assume that you are told you flip a fair coin 200 times. This coin lands 40 heads, and 160 times tails. Would you expect that it is really fair? How would you find this out?"
      ]
    },
    {
      "cell_type": "markdown",
      "metadata": {
        "id": "K0n0wCUlkonz"
      },
      "source": [
        "Say $\\chi\\sim Bin(200, 1/2)$, then $\\chi \\sim N(200 \\times 1/2, 200\\times1/2 \\times 1/2)$  by Central Limit Theorem.  Now\n",
        "\n",
        "> Indented block\n",
        "\n"
      ]
    },
    {
      "cell_type": "code",
      "execution_count": null,
      "metadata": {
        "colab": {
          "base_uri": "https://localhost:8080/"
        },
        "id": "99t6tSeyig5I",
        "outputId": "bdfffb71-e895-421d-94cb-68f4572322f9"
      },
      "outputs": [
        {
          "name": "stdout",
          "output_type": "stream",
          "text": [
            "-8.48528137423857\n"
          ]
        }
      ],
      "source": [
        "z_obs = (40/200 - 1/2)/(np.sqrt(1/(4*200)))   ###or\n",
        "print(z_obs)"
      ]
    },
    {
      "cell_type": "code",
      "execution_count": null,
      "metadata": {
        "colab": {
          "base_uri": "https://localhost:8080/"
        },
        "id": "30zrHlyQlbkO",
        "outputId": "0c067900-12d2-4a67-c7ed-5804b890d457"
      },
      "outputs": [
        {
          "name": "stdout",
          "output_type": "stream",
          "text": [
            "-8.48528137423857\n"
          ]
        }
      ],
      "source": [
        "z_obs = (40 - 100)/(np.sqrt(200/4))   ###or\n",
        "print(z_obs)"
      ]
    },
    {
      "cell_type": "code",
      "execution_count": null,
      "metadata": {
        "id": "s8mmUY3XSdMQ"
      },
      "outputs": [],
      "source": [
        "from scipy.stats import norm"
      ]
    },
    {
      "cell_type": "code",
      "execution_count": null,
      "metadata": {
        "colab": {
          "base_uri": "https://localhost:8080/"
        },
        "id": "zrx3yhScSfJi",
        "outputId": "78040e2c-d4c8-4510-86f8-666ebce0fa6e"
      },
      "outputs": [
        {
          "data": {
            "text/plain": [
              "-0.994457883209753"
            ]
          },
          "execution_count": 33,
          "metadata": {},
          "output_type": "execute_result"
        }
      ],
      "source": [
        "normal = norm(0,1)\n",
        "norm.ppf(0.16)  #### se what this function does!"
      ]
    },
    {
      "cell_type": "markdown",
      "metadata": {
        "id": "c081HUWVXfGL"
      },
      "source": [
        "This guy stays really far away from the mean, therefore it is really likely that the coin is unfair."
      ]
    }
  ],
  "metadata": {
    "colab": {
      "provenance": []
    },
    "kernelspec": {
      "display_name": "Python 3",
      "name": "python3"
    },
    "language_info": {
      "codemirror_mode": {
        "name": "ipython",
        "version": 3
      },
      "file_extension": ".py",
      "mimetype": "text/x-python",
      "name": "python",
      "nbconvert_exporter": "python",
      "pygments_lexer": "ipython3",
      "version": "3.10.12"
    }
  },
  "nbformat": 4,
  "nbformat_minor": 0
}
