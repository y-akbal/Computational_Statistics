{
  "cells": [
    {
      "cell_type": "markdown",
      "metadata": {
        "id": "Jc-tNbUnqugq"
      },
      "source": [
        "[![Open in Colab](https://colab.research.google.com/assets/colab-badge.svg)](https://colab.research.google.com/github/y-akbal/Tedu_Computational_Statistics/blob/main/1/W1P1.ipynb)\n"
      ]
    },
    {
      "cell_type": "code",
      "execution_count": 9,
      "metadata": {
        "id": "We88DdYPD_iZ"
      },
      "outputs": [
        {
          "ename": "ModuleNotFoundError",
          "evalue": "No module named 'numpy'",
          "output_type": "error",
          "traceback": [
            "\u001b[1;31m---------------------------------------------------------------------------\u001b[0m",
            "\u001b[1;31mModuleNotFoundError\u001b[0m                       Traceback (most recent call last)",
            "Cell \u001b[1;32mIn[9], line 1\u001b[0m\n\u001b[1;32m----> 1\u001b[0m \u001b[39mimport\u001b[39;00m \u001b[39mnumpy\u001b[39;00m \u001b[39mas\u001b[39;00m \u001b[39mnp\u001b[39;00m\n\u001b[0;32m      2\u001b[0m \u001b[39mfrom\u001b[39;00m \u001b[39mmatplotlib\u001b[39;00m \u001b[39mimport\u001b[39;00m pyplot \u001b[39mas\u001b[39;00m plt\n",
            "\u001b[1;31mModuleNotFoundError\u001b[0m: No module named 'numpy'"
          ]
        }
      ],
      "source": [
        "import numpy as np\n",
        "from matplotlib import pyplot as plt"
      ]
    },
    {
      "cell_type": "code",
      "execution_count": 4,
      "metadata": {
        "id": "v85luZLCEF-2"
      },
      "outputs": [],
      "source": [
        "A = [1,2,3,4,5,6]\n",
        "def function(A : list) -> list:\n",
        "    L = []\n",
        "    for i in A:\n",
        "      for j in A:\n",
        "        L.append((i,j))\n",
        "    return L"
      ]
    },
    {
      "cell_type": "code",
      "execution_count": 5,
      "metadata": {
        "id": "S14ZtEmTEg5Y"
      },
      "outputs": [],
      "source": [
        "L = function(A)    #### to automatize this you gotta see itertools library!"
      ]
    },
    {
      "cell_type": "code",
      "execution_count": 6,
      "metadata": {
        "colab": {
          "base_uri": "https://localhost:8080/"
        },
        "id": "S6hvxrkjEiHo",
        "outputId": "3402a00a-e9ff-4543-da13-fef9f714d15d"
      },
      "outputs": [
        {
          "name": "stdout",
          "output_type": "stream",
          "text": [
            "The size of the sample space is 36\n"
          ]
        }
      ],
      "source": [
        "\"\"\"\n",
        "import itertools \n",
        "L = list(itertools.product(A, repeat = 2))   \n",
        "you can increase the repeat here as you like do this if you like to experiment with more dice.\n",
        "\"\"\"\n",
        "l = len(L)\n",
        "print(f\"The size of the sample space is {l}\")"
      ]
    },
    {
      "cell_type": "code",
      "execution_count": 7,
      "metadata": {
        "id": "yvQicTbyEk8F"
      },
      "outputs": [],
      "source": [
        "def random_sample(A :list, size = 10):\n",
        "  len_ = len(A)\n",
        "  l = range(len_)\n",
        "  index = np.random.choice(l, size)\n",
        "  L = [sum(A[i]) for i in index]\n",
        "  return L"
      ]
    },
    {
      "cell_type": "code",
      "execution_count": 8,
      "metadata": {
        "colab": {
          "base_uri": "https://localhost:8080/"
        },
        "id": "uRpzpiCjHqjl",
        "outputId": "bafced21-df91-4058-f1b4-8132e7f08846"
      },
      "outputs": [
        {
          "ename": "NameError",
          "evalue": "name 'np' is not defined",
          "output_type": "error",
          "traceback": [
            "\u001b[1;31m---------------------------------------------------------------------------\u001b[0m",
            "\u001b[1;31mNameError\u001b[0m                                 Traceback (most recent call last)",
            "Cell \u001b[1;32mIn[8], line 1\u001b[0m\n\u001b[1;32m----> 1\u001b[0m np\u001b[39m.\u001b[39mmean(random_sample(L, \u001b[39m1000000\u001b[39m))\n",
            "\u001b[1;31mNameError\u001b[0m: name 'np' is not defined"
          ]
        }
      ],
      "source": [
        "np.mean(random_sample(L, 1000000))  ### approximately this random variable has mean 7"
      ]
    },
    {
      "cell_type": "code",
      "execution_count": null,
      "metadata": {
        "colab": {
          "base_uri": "https://localhost:8080/"
        },
        "id": "FjRLmy-3HuwE",
        "outputId": "3c5b5a5e-0c44-4ea4-caac-44f97b05fe7e"
      },
      "outputs": [
        {
          "data": {
            "text/plain": [
              "2.4148632568691073"
            ]
          },
          "execution_count": 7,
          "metadata": {},
          "output_type": "execute_result"
        }
      ],
      "source": [
        "np.std(random_sample(L, 100090000), ddof = 1) ## approximately this random variable has standard deviation 2.41..."
      ]
    },
    {
      "cell_type": "code",
      "execution_count": null,
      "metadata": {
        "colab": {
          "base_uri": "https://localhost:8080/"
        },
        "id": "px0yUDhQlc3i",
        "outputId": "05cbb81b-c22c-465e-a7c7-4f934969610b"
      },
      "outputs": [
        {
          "data": {
            "text/plain": [
              "5.832592391735083"
            ]
          },
          "execution_count": 8,
          "metadata": {},
          "output_type": "execute_result"
        }
      ],
      "source": [
        "np.var(random_sample(L, 100000009), ddof = 1)  ### the variance of the population."
      ]
    },
    {
      "cell_type": "markdown",
      "metadata": {
        "id": "OK9tR1clRGT0"
      },
      "source": [
        "---\n",
        "Let's go back and find out how we come up with these values\n",
        "\n",
        "---"
      ]
    },
    {
      "cell_type": "code",
      "execution_count": null,
      "metadata": {
        "colab": {
          "base_uri": "https://localhost:8080/",
          "height": 531
        },
        "id": "5u0ul1_WHAKe",
        "outputId": "5dc4407b-881c-4302-e552-ae2638fd7958"
      },
      "outputs": [
        {
          "data": {
            "text/plain": [
              "(array([0.0994428, 0.       , 0.       , 0.1999152, 0.       , 0.       ,\n",
              "        0.       , 0.3011328, 0.       , 0.       , 0.3979404, 0.       ,\n",
              "        0.       , 0.       , 0.5002128, 0.       , 0.       , 0.       ,\n",
              "        0.599094 , 0.       , 0.       , 0.500634 , 0.       , 0.       ,\n",
              "        0.       , 0.4007484, 0.       , 0.       , 0.2996244, 0.       ,\n",
              "        0.       , 0.       , 0.2001384, 0.       , 0.       , 0.1011168]),\n",
              " array([ 2.        ,  2.27777778,  2.55555556,  2.83333333,  3.11111111,\n",
              "         3.38888889,  3.66666667,  3.94444444,  4.22222222,  4.5       ,\n",
              "         4.77777778,  5.05555556,  5.33333333,  5.61111111,  5.88888889,\n",
              "         6.16666667,  6.44444444,  6.72222222,  7.        ,  7.27777778,\n",
              "         7.55555556,  7.83333333,  8.11111111,  8.38888889,  8.66666667,\n",
              "         8.94444444,  9.22222222,  9.5       ,  9.77777778, 10.05555556,\n",
              "        10.33333333, 10.61111111, 10.88888889, 11.16666667, 11.44444444,\n",
              "        11.72222222, 12.        ]),\n",
              " <a list of 36 Patch objects>)"
            ]
          },
          "execution_count": 9,
          "metadata": {},
          "output_type": "execute_result"
        },
        {
          "data": {
            "image/png": "[encoded data removed]",
            "text/plain": [
              "<Figure size 432x288 with 1 Axes>"
            ]
          },
          "metadata": {
            "needs_background": "light"
          },
          "output_type": "display_data"
        }
      ],
      "source": [
        "plt.hist(random_sample(L, 1000000), density = True, bins = 36)"
      ]
    },
    {
      "cell_type": "code",
      "execution_count": null,
      "metadata": {
        "id": "UMeJCS4WG9pB"
      },
      "outputs": [],
      "source": [
        "prob = {2 :1/36, 3: 2/36, 4: 3/36, 5: 4/36, 6: 5/36, 7:6/36, 8: 5/36, 9: 4/36, 10: 3/36, 11: 2/36, 12: 1/36} ### what data structure is this?"
      ]
    },
    {
      "cell_type": "code",
      "execution_count": null,
      "metadata": {
        "colab": {
          "base_uri": "https://localhost:8080/"
        },
        "id": "ZXIXax1GGPex",
        "outputId": "a58617bb-56bb-4c57-bcf1-84e114a0ca3f"
      },
      "outputs": [
        {
          "data": {
            "text/plain": [
              "6.999999999999999"
            ]
          },
          "execution_count": 3,
          "metadata": {},
          "output_type": "execute_result"
        }
      ],
      "source": [
        "sum([i*prob[i] for i in range(2, 13)])  ### here we have found the expected value. "
      ]
    },
    {
      "cell_type": "code",
      "execution_count": null,
      "metadata": {
        "id": "SU5TU3U0VLNz"
      },
      "outputs": [],
      "source": [
        "values = prob.keys()\n",
        "values = list(values)"
      ]
    },
    {
      "cell_type": "markdown",
      "metadata": {
        "id": "YdBvkfT13k3q"
      },
      "source": [
        "## Let's confirm the identity  $E[\\chi] = E[\\chi^2] - E[\\chi]^2$."
      ]
    },
    {
      "cell_type": "markdown",
      "metadata": {},
      "source": []
    },
    {
      "cell_type": "code",
      "execution_count": null,
      "metadata": {
        "id": "iH24iKyiGN0t"
      },
      "outputs": [],
      "source": [
        "\n",
        "def return_mean_std(prob: dict):\n",
        "    mean = sum([i*p for i, p in prob.items()])\n",
        "    var = sum([i**2*p for i, p in prob.items()]) - mean**2\n",
        "    print(f\" The mean is {mean} and the variance is {var}\")\n",
        "    return mean, var\n"
      ]
    },
    {
      "cell_type": "code",
      "execution_count": null,
      "metadata": {
        "colab": {
          "base_uri": "https://localhost:8080/"
        },
        "id": "VfaGfRNSVm2k",
        "outputId": "b840b9f3-a7da-46b0-ba14-78c3e81024c4"
      },
      "outputs": [
        {
          "name": "stdout",
          "output_type": "stream",
          "text": [
            " The mean is 6.999999999999999 and the variance is 5.833333333333336\n"
          ]
        },
        {
          "data": {
            "text/plain": [
              "(6.999999999999999, 5.833333333333336)"
            ]
          },
          "execution_count": 6,
          "metadata": {},
          "output_type": "execute_result"
        }
      ],
      "source": [
        "return_mean_std(prob)  #### the idea is here sample mean and sample standard variance is non-biased "
      ]
    }
  ],
  "metadata": {
    "colab": {
      "provenance": []
    },
    "kernelspec": {
      "display_name": "Python 3",
      "name": "python3"
    },
    "language_info": {
      "codemirror_mode": {
        "name": "ipython",
        "version": 3
      },
      "file_extension": ".py",
      "mimetype": "text/x-python",
      "name": "python",
      "nbconvert_exporter": "python",
      "pygments_lexer": "ipython3",
      "version": "3.10.12"
    }
  },
  "nbformat": 4,
  "nbformat_minor": 0
}
