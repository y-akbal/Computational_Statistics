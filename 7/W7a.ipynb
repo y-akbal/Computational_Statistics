{
  "nbformat": 4,
  "nbformat_minor": 0,
  "metadata": {
    "colab": {
      "provenance": []
    },
    "kernelspec": {
      "name": "python3",
      "display_name": "Python 3"
    },
    "language_info": {
      "name": "python"
    }
  },
  "cells": [
    {
      "cell_type": "markdown",
      "source": [
        "[![Open in Colab](https://colab.research.google.com/assets/colab-badge.svg)](https://colab.research.google.com/github/y-akbal/Tedu_Computational_Statistics/blob/main/7/W7a.ipynb)\n"
      ],
      "metadata": {
        "id": "fb3AtndSJ5vF"
      }
    },
    {
      "cell_type": "code",
      "source": [
        "import matplotlib.pyplot as plt\n",
        "import numpy as np\n",
        "import scipy\n",
        "from scipy import stats\n",
        "import pickle"
      ],
      "metadata": {
        "id": "mEApmbTYKNBh"
      },
      "execution_count": 1,
      "outputs": []
    },
    {
      "cell_type": "markdown",
      "source": [
        "# Basic Monte Carlo estimation"
      ],
      "metadata": {
        "id": "DZ9ksCqAn-sA"
      }
    },
    {
      "cell_type": "markdown",
      "source": [
        "## Task given an approximate value for $E[|X_1 - X_2|]$"
      ],
      "metadata": {
        "id": "9aX27UoB0AoW"
      }
    },
    {
      "cell_type": "code",
      "source": [
        "X = np.random.randn(10000000, 2)"
      ],
      "metadata": {
        "id": "jf7-TeaB0JNu"
      },
      "execution_count": 19,
      "outputs": []
    },
    {
      "cell_type": "code",
      "source": [
        "np.mean(abs((X[:,0] - X[:, 1])))"
      ],
      "metadata": {
        "id": "4WYUY9JU0OP4",
        "outputId": "edd9e7bd-66e0-40e2-cb99-6ee33747bf6e",
        "colab": {
          "base_uri": "https://localhost:8080/"
        }
      },
      "execution_count": 20,
      "outputs": [
        {
          "output_type": "execute_result",
          "data": {
            "text/plain": [
              "1.128330156428113"
            ]
          },
          "metadata": {},
          "execution_count": 20
        }
      ]
    },
    {
      "cell_type": "markdown",
      "source": [
        "## We are estimating $ Var(|X_1 - X_2|)$ as well."
      ],
      "metadata": {
        "id": "D8z-1e_u1BP0"
      }
    },
    {
      "cell_type": "code",
      "source": [
        "np.var(abs((X[:,0] - X[:, 1])),ddof = 1) "
      ],
      "metadata": {
        "id": "mZmWMaOPn7Nq",
        "outputId": "1b340a0d-a250-4e14-e73c-a5ecee78c2f2",
        "colab": {
          "base_uri": "https://localhost:8080/"
        }
      },
      "execution_count": 13,
      "outputs": [
        {
          "output_type": "execute_result",
          "data": {
            "text/plain": [
              "0.7266419509308208"
            ]
          },
          "metadata": {},
          "execution_count": 13
        }
      ]
    },
    {
      "cell_type": "code",
      "source": [
        "2- 4/np.pi"
      ],
      "metadata": {
        "id": "bi2RYVWo0nLo",
        "outputId": "81f850d7-ce8c-48af-b96f-6415074cc065",
        "colab": {
          "base_uri": "https://localhost:8080/"
        }
      },
      "execution_count": 10,
      "outputs": [
        {
          "output_type": "execute_result",
          "data": {
            "text/plain": [
              "0.7267604552648372"
            ]
          },
          "metadata": {},
          "execution_count": 10
        }
      ]
    },
    {
      "cell_type": "markdown",
      "source": [
        "# Estimation of MSE"
      ],
      "metadata": {
        "id": "0MJ5GPR6oAfX"
      }
    },
    {
      "cell_type": "code",
      "source": [],
      "metadata": {
        "id": "MYRH_SRroDvJ"
      },
      "execution_count": null,
      "outputs": []
    },
    {
      "cell_type": "markdown",
      "source": [
        "## Confidence Interval (What does it mean?)"
      ],
      "metadata": {
        "id": "rSnWzegq4u_v"
      }
    },
    {
      "cell_type": "code",
      "source": [
        "stats.norm.interval(0.95, 280,12/125**0.5)"
      ],
      "metadata": {
        "id": "QHl_Sv6J4zTC",
        "outputId": "fd0118e3-22e8-4bd2-d557-3b0dabdd3a4c",
        "colab": {
          "base_uri": "https://localhost:8080/"
        }
      },
      "execution_count": 28,
      "outputs": [
        {
          "output_type": "execute_result",
          "data": {
            "text/plain": [
              "(277.8963459026162, 282.1036540973838)"
            ]
          },
          "metadata": {},
          "execution_count": 28
        }
      ]
    },
    {
      "cell_type": "code",
      "source": [],
      "metadata": {
        "id": "SOVAFLWx5ZlG"
      },
      "execution_count": null,
      "outputs": []
    },
    {
      "cell_type": "code",
      "source": [
        "def test(n_samples = 10000, conf = 0.95, sample_size = 100):\n",
        "  L = 0\n",
        "  for _ in range(n_samples):\n",
        "    sample = np.random.randn(sample_size)\n",
        "    mean = sample.mean()\n",
        "    var = sample.var(ddof = 1)\n",
        "    INT = stats.norm.interval(conf, mean, var/sample_size**0.5)\n",
        "    if not (INT[0] < 0 and INT[1] > 0):\n",
        "      L += 1\n",
        "  return (n_samples - L)/n_samples"
      ],
      "metadata": {
        "id": "bw9OHECe4uP2"
      },
      "execution_count": 53,
      "outputs": []
    },
    {
      "cell_type": "code",
      "source": [
        "test(conf = 0.8, n_samples = 100000, sample_size = 100)"
      ],
      "metadata": {
        "id": "7rfV4WFg6Lsj",
        "outputId": "cd3da77b-a1b4-45a9-c2d5-fd6c6b33e151",
        "colab": {
          "base_uri": "https://localhost:8080/"
        }
      },
      "execution_count": 58,
      "outputs": [
        {
          "output_type": "execute_result",
          "data": {
            "text/plain": [
              "0.7944"
            ]
          },
          "metadata": {},
          "execution_count": 58
        }
      ]
    },
    {
      "cell_type": "markdown",
      "source": [
        "# Estimating a Confidence Level"
      ],
      "metadata": {
        "id": "TL-_3b7doEQB"
      }
    },
    {
      "cell_type": "code",
      "source": [],
      "metadata": {
        "id": "owlmbKQ5oG0w"
      },
      "execution_count": null,
      "outputs": []
    },
    {
      "cell_type": "markdown",
      "source": [
        "# Monte Carlo Methods for Hypothesis Tests\n",
        "# Empirical Type I Error Rate"
      ],
      "metadata": {
        "id": "yVYcFqPzoIse"
      }
    },
    {
      "cell_type": "code",
      "source": [],
      "metadata": {
        "id": "uEAqpjROoKpK"
      },
      "execution_count": null,
      "outputs": []
    },
    {
      "cell_type": "markdown",
      "source": [
        "# Empirical Type II Error Rate\n",
        "\n"
      ],
      "metadata": {
        "id": "q_s7cgvZoLfk"
      }
    },
    {
      "cell_type": "code",
      "source": [],
      "metadata": {
        "id": "CNYb9jN5oK5s"
      },
      "execution_count": null,
      "outputs": []
    }
  ]
}