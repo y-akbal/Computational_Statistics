{
 "cells": [
  {
   "cell_type": "code",
   "execution_count": 60,
   "id": "5323c96d",
   "metadata": {},
   "outputs": [],
   "source": [
    "import numpy as np"
   ]
  },
  {
   "cell_type": "code",
   "execution_count": 61,
   "id": "68081f11",
   "metadata": {},
   "outputs": [],
   "source": [
    "def integrate(f, n_samples = 10000000):\n",
    "    sample = np.random.rand(n_samples)\n",
    "    return f(sample).mean()"
   ]
  },
  {
   "cell_type": "code",
   "execution_count": 62,
   "id": "7f4d643c",
   "metadata": {},
   "outputs": [
    {
     "data": {
      "text/plain": [
       "1.719088088561028"
      ]
     },
     "execution_count": 62,
     "metadata": {},
     "output_type": "execute_result"
    }
   ],
   "source": [
    "integrate(lambda x: np.exp(x), n_samples = 1000000)"
   ]
  },
  {
   "cell_type": "code",
   "execution_count": 63,
   "id": "57882b02",
   "metadata": {},
   "outputs": [
    {
     "name": "stdout",
     "output_type": "stream",
     "text": [
      "the covariance in 0.1405308752982426\n"
     ]
    }
   ],
   "source": [
    "cov = integrate(lambda x: x*np.exp(x)) -  integrate(lambda x: np.exp(x))*integrate(lambda x: x) \n",
    "print(f\"the covariance in {cov}\")"
   ]
  },
  {
   "cell_type": "code",
   "execution_count": 36,
   "id": "e3ecf592",
   "metadata": {},
   "outputs": [],
   "source": [
    "f = lambda x: x"
   ]
  },
  {
   "cell_type": "code",
   "execution_count": 46,
   "id": "c20d48e6",
   "metadata": {},
   "outputs": [],
   "source": [
    "var_f = f(np.random.rand(10000000)).var(ddof = 1)"
   ]
  },
  {
   "cell_type": "code",
   "execution_count": 49,
   "id": "6fc0e026",
   "metadata": {},
   "outputs": [
    {
     "name": "stdout",
     "output_type": "stream",
     "text": [
      "The value of c is -1.691891571943197\n"
     ]
    }
   ],
   "source": [
    "c = - cov/var_f\n",
    "print(f\"The value of c is {c}\")"
   ]
  },
  {
   "cell_type": "code",
   "execution_count": 52,
   "id": "1f1b0bdd",
   "metadata": {},
   "outputs": [],
   "source": [
    "def return_var(f, n_samples = 1000):\n",
    "    sample = np.random.rand(n_samples)\n",
    "    return f(sample).var(ddof = 1)   "
   ]
  },
  {
   "cell_type": "code",
   "execution_count": 53,
   "id": "31e45e6e",
   "metadata": {},
   "outputs": [],
   "source": [
    "vanilla_var = return_var(lambda x: np.exp(x), n_samples = 1000)"
   ]
  },
  {
   "cell_type": "code",
   "execution_count": 58,
   "id": "c11a3b6f",
   "metadata": {},
   "outputs": [],
   "source": [
    "new_var = return_var(lambda x: np.exp(x) - 1.69*(x-1/2), n_samples = 1000)"
   ]
  },
  {
   "cell_type": "code",
   "execution_count": 59,
   "id": "96dd39f9",
   "metadata": {},
   "outputs": [
    {
     "data": {
      "text/plain": [
       "98.46299979184538"
      ]
     },
     "execution_count": 59,
     "metadata": {},
     "output_type": "execute_result"
    }
   ],
   "source": [
    "100*(vanilla_var - new_var)/vanilla_var"
   ]
  }
 ],
 "metadata": {
  "kernelspec": {
   "display_name": "Python 3 (ipykernel)",
   "language": "python",
   "name": "python3"
  },
  "language_info": {
   "codemirror_mode": {
    "name": "ipython",
    "version": 3
   },
   "file_extension": ".py",
   "mimetype": "text/x-python",
   "name": "python",
   "nbconvert_exporter": "python",
   "pygments_lexer": "ipython3",
   "version": "3.10.12"
  }
 },
 "nbformat": 4,
 "nbformat_minor": 5
}
