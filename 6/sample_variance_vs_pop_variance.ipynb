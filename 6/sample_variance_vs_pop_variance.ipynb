{
 "cells": [
  {
   "cell_type": "code",
   "execution_count": 20,
   "id": "8e4acd55",
   "metadata": {},
   "outputs": [],
   "source": [
    "import numpy as np\n",
    "from tqdm import tqdm"
   ]
  },
  {
   "cell_type": "code",
   "execution_count": 2,
   "id": "6252f49c",
   "metadata": {},
   "outputs": [],
   "source": [
    "g = lambda x: x**2"
   ]
  },
  {
   "cell_type": "code",
   "execution_count": 42,
   "id": "30cd60a8",
   "metadata": {},
   "outputs": [],
   "source": [
    "sample = g(np.random.randn(1090))"
   ]
  },
  {
   "cell_type": "code",
   "execution_count": 48,
   "id": "a4d5e0f8",
   "metadata": {},
   "outputs": [
    {
     "data": {
      "text/plain": [
       "0.020116962127327515"
      ]
     },
     "execution_count": 48,
     "metadata": {},
     "output_type": "execute_result"
    }
   ],
   "source": [
    "sample.var()/100"
   ]
  },
  {
   "cell_type": "code",
   "execution_count": 44,
   "id": "befb6beb",
   "metadata": {},
   "outputs": [],
   "source": [
    "def f(n):\n",
    "    L = []\n",
    "    for i in tqdm(range(n)):\n",
    "        mean = g(np.random.randn(100)).mean()\n",
    "        L.append(mean)\n",
    "    return np.array(L)"
   ]
  },
  {
   "cell_type": "code",
   "execution_count": 52,
   "id": "7ff1a44d",
   "metadata": {},
   "outputs": [
    {
     "name": "stderr",
     "output_type": "stream",
     "text": [
      "100%|██████████████████████████████████████████████████████████████████████| 100000/100000 [00:00<00:00, 127536.99it/s]\n"
     ]
    }
   ],
   "source": [
    "means = f(100000)"
   ]
  },
  {
   "cell_type": "code",
   "execution_count": 53,
   "id": "e16c6122",
   "metadata": {},
   "outputs": [
    {
     "data": {
      "text/plain": [
       "0.020104784853886625"
      ]
     },
     "execution_count": 53,
     "metadata": {},
     "output_type": "execute_result"
    }
   ],
   "source": [
    "means.var()"
   ]
  }
 ],
 "metadata": {
  "kernelspec": {
   "display_name": "Python 3 (ipykernel)",
   "language": "python",
   "name": "python3"
  },
  "language_info": {
   "codemirror_mode": {
    "name": "ipython",
    "version": 3
   },
   "file_extension": ".py",
   "mimetype": "text/x-python",
   "name": "python",
   "nbconvert_exporter": "python",
   "pygments_lexer": "ipython3",
   "version": "3.10.12"
  }
 },
 "nbformat": 4,
 "nbformat_minor": 5
}
