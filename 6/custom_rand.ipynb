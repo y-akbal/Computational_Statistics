{
 "cells": [
  {
   "cell_type": "markdown",
   "id": "fbdff210",
   "metadata": {},
   "source": [
    "[![Open in Colab](https://colab.research.google.com/assets/colab-badge.svg)](https://colab.research.google.com/github/y-akbal/Tedu_Computational_Statistics/blob/main/6/custom_rand.ipynb)\n"
   ]
  },
  {
   "cell_type": "code",
   "execution_count": 195,
   "id": "d252d24a",
   "metadata": {},
   "outputs": [],
   "source": [
    "import scipy\n",
    "import numpy as np\n",
    "from scipy.stats import rv_continuous\n",
    "from matplotlib import pyplot as plt"
   ]
  },
  {
   "cell_type": "code",
   "execution_count": 148,
   "id": "ec279abe",
   "metadata": {},
   "outputs": [],
   "source": [
    "class custom_rand(rv_continuous):\n",
    "    def __init__(self, a = 0,b = 1):\n",
    "        super().__init__(a = a, b = b)\n",
    "    def _pdf(self, x):\n",
    "        return np.exp(-x) / (1-np.exp(-1))\n",
    "custom = custom_rand(0,1)"
   ]
  },
  {
   "cell_type": "code",
   "execution_count": 149,
   "id": "620bdd25",
   "metadata": {},
   "outputs": [],
   "source": [
    "rand = custom_rand(0,1)"
   ]
  },
  {
   "cell_type": "code",
   "execution_count": 200,
   "id": "9ba10b0a",
   "metadata": {},
   "outputs": [
    {
     "data": {
      "text/plain": [
       "array([0.63518026, 0.04005151, 0.83049779, 0.57470737, 0.26997609,\n",
       "       0.77631826, 0.09478809, 0.57713423, 0.15586284, 0.31827502,\n",
       "       0.13341289, 0.19020799, 0.73003798, 0.41465177, 0.98066794,\n",
       "       0.38369483, 0.85780934, 0.18604041, 0.93662988, 0.92262449,\n",
       "       0.75765149, 0.343353  , 0.1889834 , 0.24341935, 0.49957017,\n",
       "       0.84027694, 0.6623523 , 0.01287446, 0.02151837, 0.14582697,\n",
       "       0.42914438, 0.38068129, 0.83545096, 0.06314685, 0.28559675,\n",
       "       0.34818397, 0.54385207, 0.11414205, 0.33674923, 0.49877122,\n",
       "       0.25554594, 0.80641369, 0.63735578, 0.37037625, 0.20687806,\n",
       "       0.09409741, 0.07279066, 0.10537595, 0.09082612, 0.33292858,\n",
       "       0.32854171, 0.20236002, 0.9997261 , 0.41604545, 0.59961986,\n",
       "       0.86514672, 0.76932253, 0.89822884, 0.41680766, 0.12209613,\n",
       "       0.27659716, 0.04339346, 0.7037407 , 0.73889271, 0.07798148,\n",
       "       0.74201561, 0.40467702, 0.10763892, 0.84745615, 0.50932561,\n",
       "       0.68271163, 0.0785948 , 0.92236713, 0.54896103, 0.0788548 ,\n",
       "       0.16519962, 0.23433305, 0.41782876, 0.00850449, 0.22337666,\n",
       "       0.78016541, 0.16633458, 0.36926345, 0.38427811, 0.03553845,\n",
       "       0.62013657, 0.81743855, 0.63346865, 0.35447214, 0.47914374,\n",
       "       0.68850464, 0.2618251 , 0.09570809, 0.43835341, 0.06501885,\n",
       "       0.1017805 , 0.39397774, 0.07603367, 0.65025727, 0.96573659])"
      ]
     },
     "execution_count": 200,
     "metadata": {},
     "output_type": "execute_result"
    }
   ],
   "source": [
    "rand.rvs(size = 100)"
   ]
  },
  {
   "cell_type": "code",
   "execution_count": 202,
   "id": "9225e9d6",
   "metadata": {},
   "outputs": [
    {
     "data": {
      "image/png": "[encoded data removed]",
      "text/plain": [
       "<Figure size 432x288 with 1 Axes>"
      ]
     },
     "metadata": {
      "needs_background": "light"
     },
     "output_type": "display_data"
    }
   ],
   "source": [
    "plt.hist(rand.rvs(size = 10000), bins = 100);"
   ]
  }
 ],
 "metadata": {
  "kernelspec": {
   "display_name": "Python 3 (ipykernel)",
   "language": "python",
   "name": "python3"
  },
  "language_info": {
   "codemirror_mode": {
    "name": "ipython",
    "version": 3
   },
   "file_extension": ".py",
   "mimetype": "text/x-python",
   "name": "python",
   "nbconvert_exporter": "python",
   "pygments_lexer": "ipython3",
   "version": "3.9.12"
  }
 },
 "nbformat": 4,
 "nbformat_minor": 5
}
