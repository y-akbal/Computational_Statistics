{
  "nbformat": 4,
  "nbformat_minor": 0,
  "metadata": {
    "colab": {
      "provenance": []
    },
    "kernelspec": {
      "name": "python3",
      "display_name": "Python 3"
    },
    "language_info": {
      "name": "python"
    }
  },
  "cells": [
    {
      "cell_type": "markdown",
      "source": [
        "[![Open in Colab](https://colab.research.google.com/assets/colab-badge.svg)](https://colab.research.google.com/github/y-akbal/Tedu_Computational_Statistics/blob/main/6/W6a.ipynb)\n"
      ],
      "metadata": {
        "id": "fb3AtndSJ5vF"
      }
    },
    {
      "cell_type": "code",
      "source": [
        "import matplotlib.pyplot as plt\n",
        "import numpy as np\n",
        "import scipy\n",
        "from scipy import stats\n",
        "import pickle"
      ],
      "metadata": {
        "id": "mEApmbTYKNBh"
      },
      "execution_count": 1,
      "outputs": []
    },
    {
      "cell_type": "markdown",
      "source": [
        "#Monte Carlo Integration on Unbounded Integral (change of variables)\n",
        "# $\\Phi(x) = \\int_{-\\infty}^x \\frac{1}{\\sqrt{2 \\pi}} e^{-t^2/2} dt$\n",
        "# Let's use Monte Carlo Integration to find an approximate value of this integral.\n",
        "# Remember that if $x >0$, we have the following relation:\n",
        "# $\\Phi(-x) = 1- \\phi(x)$.\n",
        "# So if $x>0$, by an obvious change of variables, we can do the following:\n",
        "# $\\Phi(x) = 0.5 + \\int_0^1 \\frac{x}{\\sqrt{2 \\pi}} e^{-u^2x^2/2} du$.\n"
      ],
      "metadata": {
        "id": "WJpm2pcGiZ-U"
      }
    },
    {
      "cell_type": "code",
      "source": [
        "def Phi(x, n_samples = 1000):\n",
        "  sample = np.random.rand(n_samples)\n",
        "  f = lambda u: x/(np.sqrt(2*np.pi))*np.exp(-(u*x)**2/2)  \n",
        "  ### Herer the function f is monotone in u\n",
        "  return f(sample)"
      ],
      "metadata": {
        "id": "nQharAQ2rRUb"
      },
      "execution_count": 33,
      "outputs": []
    },
    {
      "cell_type": "code",
      "source": [
        "montecarlo_var = np.var(Phi(0.01), ddof = 1)"
      ],
      "metadata": {
        "id": "WtgYJr-Ci-qh"
      },
      "execution_count": 27,
      "outputs": []
    },
    {
      "cell_type": "code",
      "source": [
        "montecarlo_var"
      ],
      "metadata": {
        "id": "M3oqZ_aBj0ye",
        "outputId": "a82525e1-af3a-4490-ba20-af5ddd9865b7",
        "colab": {
          "base_uri": "https://localhost:8080/"
        }
      },
      "execution_count": 20,
      "outputs": [
        {
          "output_type": "execute_result",
          "data": {
            "text/plain": [
              "0.054023544846244324"
            ]
          },
          "metadata": {},
          "execution_count": 20
        }
      ]
    },
    {
      "cell_type": "markdown",
      "source": [
        "# Lets use Anthitetic Variables Now!!!"
      ],
      "metadata": {
        "id": "SJk8BQZbj-_h"
      }
    },
    {
      "cell_type": "code",
      "source": [
        "def Phi_a(x, n_samples = 1000):\n",
        "  sample = np.random.rand(n_samples)\n",
        "  f = lambda u: x/(2*np.sqrt(2*np.pi))*(np.exp(-(u*x)**2/2)+np.exp(-((1-u)*x)**2/2))\n",
        "  return f(sample)"
      ],
      "metadata": {
        "id": "GvANh3TVkCyw"
      },
      "execution_count": 14,
      "outputs": []
    },
    {
      "cell_type": "code",
      "source": [
        "ant_var = np.var(Phi_a(0.01, 500), ddof = 1)"
      ],
      "metadata": {
        "id": "pvp0VkSYkVYz"
      },
      "execution_count": 31,
      "outputs": []
    },
    {
      "cell_type": "code",
      "source": [
        "ant_var"
      ],
      "metadata": {
        "id": "McaTYpDvkoVP",
        "outputId": "dab435e5-0526-47f1-e113-ea0a01b8fc9b",
        "colab": {
          "base_uri": "https://localhost:8080/"
        }
      },
      "execution_count": 22,
      "outputs": [
        {
          "output_type": "execute_result",
          "data": {
            "text/plain": [
              "7.714636264102961e-05"
            ]
          },
          "metadata": {},
          "execution_count": 22
        }
      ]
    },
    {
      "cell_type": "markdown",
      "source": [
        " # See how much we gained?"
      ],
      "metadata": {
        "id": "h5s8Tkxij-3O"
      }
    },
    {
      "cell_type": "code",
      "source": [
        "100*(montecarlo_var - ant_var)/montecarlo_var\n",
        "###Great Success!!!!"
      ],
      "metadata": {
        "id": "BRtseuwlk3-T",
        "outputId": "bfdad28b-bd9c-489f-fa2a-0434388a40d1",
        "colab": {
          "base_uri": "https://localhost:8080/"
        }
      },
      "execution_count": 32,
      "outputs": [
        {
          "output_type": "execute_result",
          "data": {
            "text/plain": [
              "93.84817253428737"
            ]
          },
          "metadata": {},
          "execution_count": 32
        }
      ]
    },
    {
      "cell_type": "markdown",
      "source": [
        "#Control Variates to Reduce Variance\n",
        "\n",
        "#Use a control variate function to approximate the value of $\\int_{0}^1 e^u du$."
      ],
      "metadata": {
        "id": "QJEsZjy_r8ta"
      }
    },
    {
      "cell_type": "code",
      "source": [],
      "metadata": {
        "id": "D56EObWArVvt"
      },
      "execution_count": null,
      "outputs": []
    },
    {
      "cell_type": "markdown",
      "source": [
        "# Importance Sampling\n",
        "# Consider the following integral\n",
        "# $ \\int_0^1 \\frac{e^{-x}}{1+x^2} dx$.\n",
        "# Choose a proper importance functionce for a possible decrease in the variance."
      ],
      "metadata": {
        "id": "a5lNJ24XseFj"
      }
    },
    {
      "cell_type": "code",
      "source": [
        "g = lambda x : np.exp(-x)/(1+x**2)\n",
        "f = lambda x : np.exp(0.5)/(1+x**2)\n",
        "L = lambda x : f(x)*g(x)"
      ],
      "metadata": {
        "id": "5LXm-Kr8vPi3"
      },
      "execution_count": 125,
      "outputs": []
    },
    {
      "cell_type": "code",
      "source": [
        "def cov(n_samples = 1000):\n",
        "  samp = np.random.rand(n_samples)\n",
        "  f_samp = f(samp)\n",
        "  g_samp = g(samp)\n",
        "  return np.mean((f_samp - np.mean(f_samp))*(g_samp - np.mean(g_samp)))"
      ],
      "metadata": {
        "id": "e8yvB6Uovpev"
      },
      "execution_count": 126,
      "outputs": []
    },
    {
      "cell_type": "code",
      "source": [
        "cov()  #### covariance is positive (we are good)"
      ],
      "metadata": {
        "id": "jasGO-mtwFo4",
        "outputId": "34d4b995-30d2-482d-dc09-96f433cf1a8a",
        "colab": {
          "base_uri": "https://localhost:8080/"
        }
      },
      "execution_count": 127,
      "outputs": [
        {
          "output_type": "execute_result",
          "data": {
            "text/plain": [
              "0.06374901607670383"
            ]
          },
          "metadata": {},
          "execution_count": 127
        }
      ]
    },
    {
      "cell_type": "code",
      "source": [
        "def c_val(n_samples = 1000):\n",
        "  samp = np.random.rand(n_samples)\n",
        "  f_samp = f(samp)\n",
        "  g_samp = g(samp)\n",
        "  cov = np.mean((f_samp - np.mean(f_samp))*(g_samp - np.mean(g_samp)))\n",
        "  return -cov/np.var(f_samp, ddof = 1) ### This is the value of c from the formula\n"
      ],
      "metadata": {
        "id": "m8OoGzUiweqH"
      },
      "execution_count": 128,
      "outputs": []
    },
    {
      "cell_type": "code",
      "source": [
        "def mean(f, n_sample = 1000):\n",
        "  sample = np.random.rand(n_sample)\n",
        "  return np.mean(f(sample))"
      ],
      "metadata": {
        "id": "kSAC8jzjz_Mr"
      },
      "execution_count": 129,
      "outputs": []
    },
    {
      "cell_type": "code",
      "source": [
        "mu = mean(f)\n",
        "c = c_val()\n",
        "print(c)"
      ],
      "metadata": {
        "id": "4l1Exl-TzJYC",
        "outputId": "8a068ae3-cdf7-42b6-8ee2-a640a5ddd639",
        "colab": {
          "base_uri": "https://localhost:8080/"
        }
      },
      "execution_count": 130,
      "outputs": [
        {
          "output_type": "stream",
          "name": "stdout",
          "text": [
            "-0.9007903096842454\n"
          ]
        }
      ]
    },
    {
      "cell_type": "code",
      "source": [
        "def sample(c, mu, n_samples = 1000):\n",
        "  samp = np.random.rand(n_samples)\n",
        "  func = lambda x: g(x) - c*(f(x) - mu)\n",
        "  return func(samp)"
      ],
      "metadata": {
        "id": "VP9NC73czMNB"
      },
      "execution_count": 131,
      "outputs": []
    },
    {
      "cell_type": "code",
      "source": [
        "np.mean(sample(c, mu)) ### this is control variate version with f chose as above"
      ],
      "metadata": {
        "id": "Y5ji9nzD0GNm",
        "outputId": "7b1e0941-d6e7-41df-c9a5-53d987c24e51",
        "colab": {
          "base_uri": "https://localhost:8080/"
        }
      },
      "execution_count": 132,
      "outputs": [
        {
          "output_type": "execute_result",
          "data": {
            "text/plain": [
              "0.5391106745501651"
            ]
          },
          "metadata": {},
          "execution_count": 132
        }
      ]
    },
    {
      "cell_type": "code",
      "source": [
        "mean(g) ###this is standard monte carlo integration"
      ],
      "metadata": {
        "id": "-ir7yOGI2pHY",
        "outputId": "63dcdce6-b9ac-4795-c004-24dd1e3720a5",
        "colab": {
          "base_uri": "https://localhost:8080/"
        }
      },
      "execution_count": 133,
      "outputs": [
        {
          "output_type": "execute_result",
          "data": {
            "text/plain": [
              "0.5116339874111316"
            ]
          },
          "metadata": {},
          "execution_count": 133
        }
      ]
    },
    {
      "cell_type": "markdown",
      "source": [
        "# How much we gained?"
      ],
      "metadata": {
        "id": "gHbO_zNS1CGS"
      }
    },
    {
      "cell_type": "code",
      "source": [
        "def var_test(c, mu, n_samples = 1000):\n",
        "  samp = np.random.rand(n_samples)\n",
        "  func1 = lambda x: g(x) + c*(f(x) - mu)\n",
        "\n",
        "  return np.var(func1(samp), ddof = 1), np.var(g(samp), ddof = 1)"
      ],
      "metadata": {
        "id": "carxq_K-1BUc"
      },
      "execution_count": 134,
      "outputs": []
    },
    {
      "cell_type": "code",
      "source": [
        "var_1, var_2 = var_test(c, mu)"
      ],
      "metadata": {
        "id": "apT8WMS71Rmt"
      },
      "execution_count": 138,
      "outputs": []
    },
    {
      "cell_type": "markdown",
      "source": [],
      "metadata": {
        "id": "swpAdMre3njq"
      }
    },
    {
      "cell_type": "code",
      "source": [
        "100*(var_2- var_1)/var_2"
      ],
      "metadata": {
        "id": "KmL7fQnm1UyL",
        "outputId": "af724eb6-7b85-4ddf-8edc-9c885e5e3014",
        "colab": {
          "base_uri": "https://localhost:8080/"
        }
      },
      "execution_count": 139,
      "outputs": [
        {
          "output_type": "execute_result",
          "data": {
            "text/plain": [
              "94.73223960370015"
            ]
          },
          "metadata": {},
          "execution_count": 139
        }
      ]
    }
  ]
}