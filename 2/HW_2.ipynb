{
  "cells": [
    {
      "cell_type": "markdown",
      "source": [
        "[![Open in Colab](https://colab.research.google.com/assets/colab-badge.svg)](https://colab.research.google.com/github/y-akbal/Tedu_Computational_Statistics/blob/main/2/HW_2.ipynb)\n"
      ],
      "metadata": {
        "id": "DV6nQ4rDqHMi"
      },
      "id": "DV6nQ4rDqHMi"
    },
    {
      "cell_type": "markdown",
      "id": "7714202a",
      "metadata": {
        "id": "7714202a"
      },
      "source": [
        "## Instead of a pair of dice, Why don't we experiment with a couple of dice?\n",
        "## The main idea of the below experiment is to infer expected sum of the faces when one wants to roll any given number of dice\n",
        "To do this we shall use itertools library:"
      ]
    },
    {
      "cell_type": "code",
      "execution_count": 1,
      "id": "61cab961",
      "metadata": {
        "id": "61cab961"
      },
      "outputs": [],
      "source": [
        "### some importat imports\n",
        "import itertools\n",
        "from itertools import product\n",
        "import numpy as np"
      ]
    },
    {
      "cell_type": "code",
      "execution_count": 2,
      "id": "372793b2",
      "metadata": {
        "id": "372793b2",
        "outputId": "ef31341d-1888-4344-da34-4d5dd0b13c05",
        "colab": {
          "base_uri": "https://localhost:8080/"
        }
      },
      "outputs": [
        {
          "output_type": "execute_result",
          "data": {
            "text/plain": [
              "['__doc__',\n",
              " '__loader__',\n",
              " '__name__',\n",
              " '__package__',\n",
              " '__spec__',\n",
              " '_grouper',\n",
              " '_tee',\n",
              " '_tee_dataobject',\n",
              " 'accumulate',\n",
              " 'chain',\n",
              " 'combinations',\n",
              " 'combinations_with_replacement',\n",
              " 'compress',\n",
              " 'count',\n",
              " 'cycle',\n",
              " 'dropwhile',\n",
              " 'filterfalse',\n",
              " 'groupby',\n",
              " 'islice',\n",
              " 'permutations',\n",
              " 'product',\n",
              " 'repeat',\n",
              " 'starmap',\n",
              " 'takewhile',\n",
              " 'tee',\n",
              " 'zip_longest']"
            ]
          },
          "metadata": {},
          "execution_count": 2
        }
      ],
      "source": [
        "dir(itertools)"
      ]
    },
    {
      "cell_type": "markdown",
      "id": "64483e8b",
      "metadata": {
        "id": "64483e8b"
      },
      "source": [
        "## We shall use the product function. Assume that you would like to know all possible outcomes of rolling a pair of dice, then we can use the product function."
      ]
    },
    {
      "cell_type": "code",
      "execution_count": 3,
      "id": "69a5ca6b",
      "metadata": {
        "id": "69a5ca6b"
      },
      "outputs": [],
      "source": [
        "A = [1,2,3,4,5,6] ### A single die"
      ]
    },
    {
      "cell_type": "code",
      "execution_count": 4,
      "id": "2efa23ea",
      "metadata": {
        "id": "2efa23ea"
      },
      "outputs": [],
      "source": [
        "outcomes = product(A, repeat = 2) ### we are rolling a pair of dice using repeat. "
      ]
    },
    {
      "cell_type": "code",
      "execution_count": 5,
      "id": "8054bcfd",
      "metadata": {
        "id": "8054bcfd",
        "outputId": "8df3d779-6d3e-4dbf-95a6-99baad19e80c",
        "colab": {
          "base_uri": "https://localhost:8080/"
        }
      },
      "outputs": [
        {
          "output_type": "execute_result",
          "data": {
            "text/plain": [
              "itertools.product"
            ]
          },
          "metadata": {},
          "execution_count": 5
        }
      ],
      "source": [
        "type(outcomes) #### this is an iterator, when you run print(outcomes),\n",
        "#you will get an error. Instead you can run over it by means of a for loop"
      ]
    },
    {
      "cell_type": "code",
      "execution_count": 6,
      "id": "5d7474e3",
      "metadata": {
        "id": "5d7474e3",
        "outputId": "2ab2ea08-b671-45b8-979a-e91a20cbba87",
        "colab": {
          "base_uri": "https://localhost:8080/"
        }
      },
      "outputs": [
        {
          "output_type": "stream",
          "name": "stdout",
          "text": [
            "(1, 1)\n",
            "(1, 2)\n",
            "(1, 3)\n",
            "(1, 4)\n",
            "(1, 5)\n",
            "(1, 6)\n",
            "(2, 1)\n",
            "(2, 2)\n",
            "(2, 3)\n",
            "(2, 4)\n",
            "(2, 5)\n",
            "(2, 6)\n",
            "(3, 1)\n",
            "(3, 2)\n",
            "(3, 3)\n",
            "(3, 4)\n",
            "(3, 5)\n",
            "(3, 6)\n",
            "(4, 1)\n",
            "(4, 2)\n",
            "(4, 3)\n",
            "(4, 4)\n",
            "(4, 5)\n",
            "(4, 6)\n",
            "(5, 1)\n",
            "(5, 2)\n",
            "(5, 3)\n",
            "(5, 4)\n",
            "(5, 5)\n",
            "(5, 6)\n",
            "(6, 1)\n",
            "(6, 2)\n",
            "(6, 3)\n",
            "(6, 4)\n",
            "(6, 5)\n",
            "(6, 6)\n"
          ]
        }
      ],
      "source": [
        "for tuple_ in outcomes:\n",
        "    print(tuple_)"
      ]
    },
    {
      "cell_type": "markdown",
      "id": "aa8e6002",
      "metadata": {
        "id": "aa8e6002"
      },
      "source": [
        "## What happens when you run the same cell above one more time? You get nothing right?  This is because this object is a pure iterator, i.e., when you run over it once, then you can not further iterate over it. If you like to iterate over it you may want to convert it into a list, which you will do in the following cell\n",
        "# ----\n",
        "# In the following cell implement a roll function returning a list of tuples of all possible outcomes after rolling number_of_dice many dice."
      ]
    },
    {
      "cell_type": "code",
      "execution_count": 7,
      "id": "977d5c1c",
      "metadata": {
        "id": "977d5c1c"
      },
      "outputs": [],
      "source": [
        "### \n",
        "def roll(number_of_dice:int = 3) -> list:\n",
        "    ### Your code here\n",
        "    return None"
      ]
    },
    {
      "cell_type": "code",
      "execution_count": null,
      "id": "86802865",
      "metadata": {
        "id": "86802865"
      },
      "outputs": [],
      "source": [
        "### Graded Cell A1\n",
        "### Run the following cell to see if you get the right function\n",
        "### Do not change anything below!\n",
        "def test_1() -> None:\n",
        "    assert isinstance(roll(2), list), \"Your function should return a list\"\n",
        "    assert len(roll(3)) == 216 and len(roll(5)) == 7776, \"Something is wrong buddy, check your implementation!!!\"\n",
        "    print(\"All tests passed successfully!!!\")\n",
        "    global S \n",
        "    S = True\n",
        "test_1() "
      ]
    },
    {
      "cell_type": "code",
      "execution_count": 9,
      "id": "b9d717fb",
      "metadata": {
        "id": "b9d717fb"
      },
      "outputs": [],
      "source": [
        "### Implement a function rolling #number_of_dice many dice many dice, repeats this experiment #number_of_samples times, \n",
        "### returning a list of sum of faces.\n",
        "### For instance, you should get!\n",
        "### sum_of_faces(number_of_samples = 5, number_of_dice = 2) = array([3, 5, 2, 3, 12]), \n",
        "### Due to stochastic nature of the problem, you may not replicate the result here!!!!"
      ]
    },
    {
      "cell_type": "code",
      "execution_count": 10,
      "id": "6f3c6c87",
      "metadata": {
        "id": "6f3c6c87"
      },
      "outputs": [],
      "source": [
        "def sum_of_faces(number_of_samples = 1000, number_of_dice:int = 5)-> np.ndarray:\n",
        "    ### Your code here\n",
        "    return None"
      ]
    },
    {
      "cell_type": "code",
      "execution_count": null,
      "id": "ab6d3257",
      "metadata": {
        "id": "ab6d3257"
      },
      "outputs": [],
      "source": [
        "### Graded Cell A2\n",
        "### Run the following cell to see if you get the right function, it will take\n",
        "### some time to run!!!\n",
        "### Do not change anything below!\n",
        "def test_2():\n",
        "    np.random.seed(10)\n",
        "    assert isinstance(sum_of_faces(2,5), np.ndarray), \"Your function should return a numpy array\"\n",
        "    assert sum_of_faces(number_of_samples = 5, number_of_dice = 2).sum() >= 32, \"Something went wrong!\"\n",
        "    assert sum_of_faces(number_of_samples = 5, number_of_dice = 4).sum() <= 160, \"Something went wrong!\"\n",
        "    print(\"All tests passed successfully!!!\")\n",
        "    global K \n",
        "    K = True\n",
        "test_2()"
      ]
    },
    {
      "cell_type": "markdown",
      "source": [
        "### Inference Time----\n",
        "### Now you will implement inference function. Call it \n",
        "###Inference(number_of_simulations:int, number_of_dice:int).\n",
        "### This function should return approximately expected number sum of faces and approximately the standard deviation when one rolls a given number dice."
      ],
      "metadata": {
        "id": "VImzhkcYZsJP"
      },
      "id": "VImzhkcYZsJP"
    },
    {
      "cell_type": "code",
      "source": [
        "def inference(num_of_samples:int = 100, num_of_dice: int = 5)->tuple:\n",
        "    ### Your code here\n",
        "    return None"
      ],
      "metadata": {
        "id": "xQsKmYqgazDw"
      },
      "id": "xQsKmYqgazDw",
      "execution_count": 12,
      "outputs": []
    },
    {
      "cell_type": "code",
      "source": [
        "### Graded Cell A3\n",
        "### Run the following cell to see if you get the right function, running this cell will take some time!!\n",
        "### Do not change anything below!\n",
        "def test_3():\n",
        "    np.random.seed(10)\n",
        "    assert isinstance(inference(10, 2), tuple), \"Your function should return a tuple\"\n",
        "    x, y = inference(10000, 2)\n",
        "    if not (np.isclose(x, 7, atol = 0.1) or np.isclose(y, 2.41, atol = 0.1)):\n",
        "      raise AssertionError(\"Something is wrong buddy, check your implementation!!!\")\n",
        "    print(\"All tests passed successfully!!!\")\n",
        "    global M\n",
        "    M = True\n",
        "test_3()"
      ],
      "metadata": {
        "id": "Y1kiaCVVZxwk"
      },
      "id": "Y1kiaCVVZxwk",
      "execution_count": null,
      "outputs": []
    },
    {
      "cell_type": "markdown",
      "source": [
        "###    Grab a cup of coffee, and enjoy the rest of your day hommiee!\n"
      ],
      "metadata": {
        "id": "0MJmYutMpe8M"
      },
      "id": "0MJmYutMpe8M"
    }
  ],
  "metadata": {
    "kernelspec": {
      "display_name": "Python 3 (ipykernel)",
      "language": "python",
      "name": "python3"
    },
    "language_info": {
      "codemirror_mode": {
        "name": "ipython",
        "version": 3
      },
      "file_extension": ".py",
      "mimetype": "text/x-python",
      "name": "python",
      "nbconvert_exporter": "python",
      "pygments_lexer": "ipython3",
      "version": "3.9.13"
    },
    "colab": {
      "provenance": []
    }
  },
  "nbformat": 4,
  "nbformat_minor": 5
}
